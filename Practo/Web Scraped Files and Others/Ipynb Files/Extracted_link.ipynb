{
 "cells": [
  {
   "cell_type": "code",
   "execution_count": 1,
   "id": "7cee01af",
   "metadata": {},
   "outputs": [],
   "source": [
    "import requests\n",
    "from bs4 import BeautifulSoup\n",
    "import pandas as pd\n",
    "from selenium import webdriver\n",
    "import time"
   ]
  },
  {
   "cell_type": "code",
   "execution_count": 2,
   "id": "33fd088e",
   "metadata": {},
   "outputs": [],
   "source": [
    "driver=webdriver.Firefox()\n",
    "url='https://www.practo.com/search/doctors?results_type=doctor&q=%5B%7B%22word%22%3A%22Dentist%22%2C%22autocompleted%22%3Atrue%2C%22category%22%3A%22subspeciality%22%7D%5D&city=Bangalore'\n",
    "driver.get(url)"
   ]
  },
  {
   "cell_type": "code",
   "execution_count": 3,
   "id": "000e00f3",
   "metadata": {},
   "outputs": [],
   "source": [
    "soup=BeautifulSoup(driver.page_source,'html.parser')"
   ]
  },
  {
   "cell_type": "code",
   "execution_count": 4,
   "id": "13b4c13e",
   "metadata": {},
   "outputs": [
    {
     "data": {
      "text/plain": [
       "[<div class=\"listing-doctor-card\" data-qa-id=\"doctor_card\"><div class=\"u-d-flex\"><div><div class=\"u-d-inlineblock u-t-center\"><div class=\"u-pos-has profile-photo\"><div class=\"LazyLoad is-visible\" style=\"height:140px\"><img alt=\"Dr. Shantipriya Reddy Dentist in Bangalore\" class=\"u-circle profile-photo\" data-qa-id=\"doctor_profile_photo\" src=\"https://imagesx.practo.com/providers/dr-shantipriya-reddy-periodontist-bangalore-5b561be9-0b50-40f5-93cb-9bf7dfe5cdfb.jpg?i_type=t_100x100\" srcset=\"https://imagesx.practo.com/providers/dr-shantipriya-reddy-periodontist-bangalore-5b561be9-0b50-40f5-93cb-9bf7dfe5cdfb.jpg?i_type=t_100x100, https://imagesx.practo.com/providers/dr-shantipriya-reddy-periodontist-bangalore-5b561be9-0b50-40f5-93cb-9bf7dfe5cdfb.jpg?i_type=t_100x100-2x 2x, https://imagesx.practo.com/providers/dr-shantipriya-reddy-periodontist-bangalore-5b561be9-0b50-40f5-93cb-9bf7dfe5cdfb.jpg?i_type=t_100x100-3x 3x\"/></div><span class=\"prime-badge\" data-qa-id=\"prime_badge\"><img src=\"//www.practostatic.com/web-assets/images/prime_badge.8f4ca26c7f36.svg\"/></span></div><button class=\"u-t-capitalize u-bold view-profile\" data-qa-id=\"View Profile_button\">View Profile</button></div></div><div class=\"info-section\"><a href=\"/bangalore/doctor/shanthipriya-dentist?practice_id=930052&amp;specialization=Dentist&amp;referrer=doctor_listing\"><div class=\"u-color--primary uv2-spacer--xs-bottom\"><h2 class=\"doctor-name\" data-qa-id=\"doctor_name\">Dr. Shantipriya Reddy</h2></div></a><div class=\"u-grey_3-text\"><div class=\"u-d-flex\"><span>Dentist</span></div><div class=\"uv2-spacer--xs-top\" data-qa-id=\"doctor_experience\"><div>32<!-- --> <span>years experience overall</span></div></div></div><div class=\"uv2-spacer--sm-top\"><div class=\"u-bold u-d-inlineblock u-valign--middle\"><a href=\"/bangalore/dentist/domlur\"><span data-qa-id=\"practice_locality\">Domlur<!-- -->,</span><span class=\"u-t-capitalize\" data-qa-id=\"practice_city\">Bangalore</span></a></div> <span class=\"u-dot-separator u-spacer--horizontal-less u-valign--middle\"></span> <div class=\"u-d-inlineblock u-valign--middle\"><a href=\"/Bangalore/clinic/cosmo-dental-care-hal\" target=\"_blank\"><span class=\"u-c-pointer u-t-hover-underline\" data-qa-id=\"doctor_clinic_name\">Cosmo Dental Studio</span></a><a href=\"/bangalore/doctor/shanthipriya-dentist?practice_id=930052&amp;specialization=Dentist&amp;referrer=doctor_listing\" target=\"_blank\"><span class=\"u-c-pointer u-t-hover-underline\" data-qa-id=\"doctor_clinic_count\"> <span>+</span><span> 1</span> <span>more</span></span></a></div><div class=\"uv2-spacer--xs-top\"><span><span class=\"\" data-qa-id=\"consultation_fee\">₹<!-- -->300</span> </span><span>Consultation fee at clinic</span></div></div><div class=\"uv2-spacer--md-top uv2-cushion--lg-top u-border-general-dashed-top--gray-10\"><div><a class=\"uv2-spacer--md-right\" href=\"/bangalore/doctor/shanthipriya-dentist/recommended?practice_id=930052&amp;specialization=Dentist&amp;referrer=doctor_listing\" target=\"_blank\"><span class=\"o-label--success u-bold\"><i class=\"icon-ic_like_filled\"></i><span data-qa-id=\"doctor_recommendation\">93<!-- -->% </span></span></a><a href=\"/bangalore/doctor/shanthipriya-dentist/recommended?practice_id=930052&amp;specialization=Dentist&amp;referrer=doctor_listing\" target=\"_blank\"><span class=\"u-bold u-t-underline\" data-qa-id=\"total_feedback\">16<!-- --> <span>Patient Stories</span></span></a></div></div></div></div><div class=\"appointment-section flex-jc-flex-end\"><div><div class=\"u-t-center uv2-spacer--md-bottom\"><i class=\"c-card__icon icon-ic_calendar u-valign--top u-color--green u-bold\" data-qa-id=\"time_icon\"></i><span class=\"u-color--green u-bold\" data-qa-id=\"availability_text\">Available Today</span></div><div class=\"u-d-flex u-justify-center flex-direction-column\"><div class=\"u-spacer--thin pure-1-1\"><button class=\"u-t-capitalize u-bold u-round-corner--large c-btn--dark-medium\" data-qa-id=\"book_button\">Book Clinic Visit<div class=\"u-xx-small-font\">No Booking Fee</div></button></div></div></div></div></div>,\n",
       " <div class=\"listing-doctor-card\" data-qa-id=\"doctor_card\"><div class=\"u-d-flex\"><div><div class=\"u-d-inlineblock u-t-center\"><div class=\"u-pos-has profile-photo\"><div class=\"LazyLoad is-visible\" style=\"height:140px\"><img alt=\"Dr. Sumanth Shetty Dentist in Bangalore\" class=\"u-circle profile-photo\" data-qa-id=\"doctor_profile_photo\" src=\"https://imagesx.practo.com/providers/dr-sumanth-shetty-dentist-bangalore-f5bc373a-a7d6-4dc8-85ea-5f89d1f27406.jpg?i_type=t_100x100\" srcset=\"https://imagesx.practo.com/providers/dr-sumanth-shetty-dentist-bangalore-f5bc373a-a7d6-4dc8-85ea-5f89d1f27406.jpg?i_type=t_100x100, https://imagesx.practo.com/providers/dr-sumanth-shetty-dentist-bangalore-f5bc373a-a7d6-4dc8-85ea-5f89d1f27406.jpg?i_type=t_100x100-2x 2x, https://imagesx.practo.com/providers/dr-sumanth-shetty-dentist-bangalore-f5bc373a-a7d6-4dc8-85ea-5f89d1f27406.jpg?i_type=t_100x100-3x 3x\"/></div><span class=\"prime-badge\" data-qa-id=\"prime_badge\"><img src=\"//www.practostatic.com/web-assets/images/prime_badge.8f4ca26c7f36.svg\"/></span></div><button class=\"u-t-capitalize u-bold view-profile\" data-qa-id=\"View Profile_button\">View Profile</button></div></div><div class=\"info-section\"><a href=\"/bangalore/doctor/dr-sumanth-shetty-2-dentist?practice_id=745107&amp;specialization=Dentist&amp;referrer=doctor_listing\"><div class=\"u-color--primary uv2-spacer--xs-bottom\"><h2 class=\"doctor-name\" data-qa-id=\"doctor_name\">Dr. Sumanth Shetty</h2></div></a><div class=\"u-grey_3-text\"><div class=\"u-d-flex\"><span>Dentist</span></div><div class=\"uv2-spacer--xs-top\" data-qa-id=\"doctor_experience\"><div>23<!-- --> <span>years experience overall</span></div></div></div><div class=\"uv2-spacer--sm-top\"><div class=\"u-bold u-d-inlineblock u-valign--middle\"><a href=\"/bangalore/dentist/koramangala\"><span data-qa-id=\"practice_locality\">Koramangala<!-- -->,</span><span class=\"u-t-capitalize\" data-qa-id=\"practice_city\">Bangalore</span></a></div> <span class=\"u-dot-separator u-spacer--horizontal-less u-valign--middle\"></span> <div class=\"u-d-inlineblock u-valign--middle\"><a href=\"/Bangalore/clinic/chisel-dental-clinic-koramangala-1-block\" target=\"_blank\"><span class=\"u-c-pointer u-t-hover-underline\" data-qa-id=\"doctor_clinic_name\">Chisel Dental</span></a></div><div class=\"uv2-spacer--xs-top\"><span><span class=\"\" data-qa-id=\"consultation_fee\">₹<!-- -->300</span> </span><span>Consultation fee at clinic</span></div></div><div class=\"uv2-spacer--md-top uv2-cushion--lg-top u-border-general-dashed-top--gray-10\"><div><a class=\"uv2-spacer--md-right\" href=\"/bangalore/doctor/dr-sumanth-shetty-2-dentist/recommended?practice_id=745107&amp;specialization=Dentist&amp;referrer=doctor_listing\" target=\"_blank\"><span class=\"o-label--success u-bold\"><i class=\"icon-ic_like_filled\"></i><span data-qa-id=\"doctor_recommendation\">97<!-- -->% </span></span></a><a href=\"/bangalore/doctor/dr-sumanth-shetty-2-dentist/recommended?practice_id=745107&amp;specialization=Dentist&amp;referrer=doctor_listing\" target=\"_blank\"><span class=\"u-bold u-t-underline\" data-qa-id=\"total_feedback\">2528<!-- --> <span>Patient Stories</span></span></a></div></div></div></div><div class=\"appointment-section flex-jc-flex-end\"><div><div class=\"u-t-center uv2-spacer--md-bottom\"><i class=\"c-card__icon icon-ic_calendar u-valign--top\" data-qa-id=\"time_icon\"></i><span class=\"\" data-qa-id=\"availability_text\">Available Tomorrow</span></div><div class=\"u-d-flex u-justify-center flex-direction-column\"><div class=\"u-spacer--thin pure-1-1\"><button class=\"u-t-capitalize u-bold u-round-corner--large c-btn--dark-medium\" data-qa-id=\"book_button\">Book Clinic Visit<div class=\"u-xx-small-font\">No Booking Fee</div></button></div></div></div></div></div>,\n",
       " <div class=\"listing-doctor-card\" data-qa-id=\"doctor_card\"><div class=\"u-d-flex\"><div><div class=\"u-d-inlineblock u-t-center\"><div class=\"u-pos-has profile-photo\"><div class=\"LazyLoad\" style=\"height:140px\"></div><span class=\"prime-badge\" data-qa-id=\"prime_badge\"><img src=\"//www.practostatic.com/web-assets/images/prime_badge.8f4ca26c7f36.svg\"/></span></div><button class=\"u-t-capitalize u-bold view-profile\" data-qa-id=\"View Profile_button\">View Profile</button></div></div><div class=\"info-section\"><a href=\"/bangalore/doctor/dr-kiran-raj-n-dentist-1?practice_id=1140261&amp;specialization=Dentist&amp;referrer=doctor_listing\"><div class=\"u-color--primary uv2-spacer--xs-bottom\"><h2 class=\"doctor-name\" data-qa-id=\"doctor_name\">Dr. Kiran Raj N</h2></div></a><div class=\"u-grey_3-text\"><div class=\"u-d-flex\"><span>Dentist</span></div><div class=\"uv2-spacer--xs-top\" data-qa-id=\"doctor_experience\"><div>13<!-- --> <span>years experience overall</span></div></div></div><div class=\"uv2-spacer--sm-top\"><div class=\"u-bold u-d-inlineblock u-valign--middle\"><a href=\"/bangalore/dentist/banaswadi\"><span data-qa-id=\"practice_locality\">Banaswadi<!-- -->,</span><span class=\"u-t-capitalize\" data-qa-id=\"practice_city\">Bangalore</span></a></div> <span class=\"u-dot-separator u-spacer--horizontal-less u-valign--middle\"></span> <div class=\"u-d-inlineblock u-valign--middle\"><a href=\"/Bangalore/clinic/dental-frames-banaswadi-banaswadi-1\" target=\"_blank\"><span class=\"u-c-pointer u-t-hover-underline\" data-qa-id=\"doctor_clinic_name\">Dental Frames</span></a></div><div class=\"uv2-spacer--xs-top\"><span><span class=\"\" data-qa-id=\"consultation_fee\">₹<!-- -->400</span> </span><span>Consultation fee at clinic</span></div></div><div class=\"uv2-spacer--md-top uv2-cushion--lg-top u-border-general-dashed-top--gray-10\"><div><a class=\"uv2-spacer--md-right\" href=\"/bangalore/doctor/dr-kiran-raj-n-dentist-1/recommended?practice_id=1140261&amp;specialization=Dentist&amp;referrer=doctor_listing\" target=\"_blank\"><span class=\"o-label--success u-bold\"><i class=\"icon-ic_like_filled\"></i><span data-qa-id=\"doctor_recommendation\">100<!-- -->% </span></span></a><a href=\"/bangalore/doctor/dr-kiran-raj-n-dentist-1/recommended?practice_id=1140261&amp;specialization=Dentist&amp;referrer=doctor_listing\" target=\"_blank\"><span class=\"u-bold u-t-underline\" data-qa-id=\"total_feedback\">81<!-- --> <span>Patient Stories</span></span></a></div></div></div></div><div class=\"appointment-section flex-jc-flex-end\"><div><div class=\"u-t-center uv2-spacer--md-bottom\"><i class=\"c-card__icon icon-ic_calendar u-valign--top u-color--green u-bold\" data-qa-id=\"time_icon\"></i><span class=\"u-color--green u-bold\" data-qa-id=\"availability_text\">Available Today</span></div><div class=\"u-d-flex u-justify-center flex-direction-column\"><div class=\"u-spacer--thin pure-1-1\"><button class=\"u-t-capitalize u-bold u-round-corner--large c-btn--dark-medium\" data-qa-id=\"book_button\">Book Clinic Visit<div class=\"u-xx-small-font\">No Booking Fee</div></button></div><div class=\"u-spacer--thin pure-1-1\"><button class=\"u-t-capitalize u-bold u-round-corner--large c-btn--purple-light u-border--thick\" data-qa-id=\"consult_cta\">Video Consult</button></div></div></div></div></div>,\n",
       " <div class=\"listing-doctor-card\" data-qa-id=\"doctor_card\"><div class=\"u-d-flex\"><div><div class=\"u-d-inlineblock u-t-center\"><div class=\"u-pos-has profile-photo\"><div class=\"LazyLoad\" style=\"height:140px\"></div><span class=\"prime-badge\" data-qa-id=\"prime_badge\"><img src=\"//www.practostatic.com/web-assets/images/prime_badge.8f4ca26c7f36.svg\"/></span></div><button class=\"u-t-capitalize u-bold view-profile\" data-qa-id=\"View Profile_button\">View Profile</button></div></div><div class=\"info-section\"><a href=\"/bangalore/doctor/raghu-narayan-dentist?practice_id=1276093&amp;specialization=Dentist&amp;referrer=doctor_listing\"><div class=\"u-color--primary uv2-spacer--xs-bottom\"><h2 class=\"doctor-name\" data-qa-id=\"doctor_name\">Dr. Raghu T Narayan</h2></div></a><div class=\"u-grey_3-text\"><div class=\"u-d-flex\"><span>Dentist</span></div><div class=\"uv2-spacer--xs-top\" data-qa-id=\"doctor_experience\"><div>23<!-- --> <span>years experience overall</span></div></div></div><div class=\"uv2-spacer--sm-top\"><div class=\"u-bold u-d-inlineblock u-valign--middle\"><a href=\"/bangalore/dentist/hal-2nd-stage\"><span data-qa-id=\"practice_locality\">HAL 2nd Stage<!-- -->,</span><span class=\"u-t-capitalize\" data-qa-id=\"practice_city\">Bangalore</span></a></div> <span class=\"u-dot-separator u-spacer--horizontal-less u-valign--middle\"></span> <div class=\"u-d-inlineblock u-valign--middle\"><a href=\"/Bangalore/clinic/narayana-specialists-dental-and-implant-center-hal-2nd-stage\" target=\"_blank\"><span class=\"u-c-pointer u-t-hover-underline\" data-qa-id=\"doctor_clinic_name\">Narayana Specialists Dental and Implant Center</span></a><a href=\"/bangalore/doctor/raghu-narayan-dentist?practice_id=1276093&amp;specialization=Dentist&amp;referrer=doctor_listing\" target=\"_blank\"><span class=\"u-c-pointer u-t-hover-underline\" data-qa-id=\"doctor_clinic_count\"> <span>+</span><span> 2</span> <span>more</span></span></a></div><div class=\"uv2-spacer--xs-top\"><span><span class=\"\" data-qa-id=\"consultation_fee\">₹<!-- -->500</span> </span><span>Consultation fee at clinic</span></div></div><div class=\"uv2-spacer--md-top uv2-cushion--lg-top u-border-general-dashed-top--gray-10\"><div><a class=\"uv2-spacer--md-right\" href=\"/bangalore/doctor/raghu-narayan-dentist/recommended?practice_id=1276093&amp;specialization=Dentist&amp;referrer=doctor_listing\" target=\"_blank\"><span class=\"o-label--success u-bold\"><i class=\"icon-ic_like_filled\"></i><span data-qa-id=\"doctor_recommendation\">94<!-- -->% </span></span></a><a href=\"/bangalore/doctor/raghu-narayan-dentist/recommended?practice_id=1276093&amp;specialization=Dentist&amp;referrer=doctor_listing\" target=\"_blank\"><span class=\"u-bold u-t-underline\" data-qa-id=\"total_feedback\">70<!-- --> <span>Patient Stories</span></span></a></div></div></div></div><div class=\"appointment-section flex-jc-flex-end\"><div><div class=\"u-t-center uv2-spacer--md-bottom\"><i class=\"c-card__icon icon-ic_calendar u-valign--top u-color--green u-bold\" data-qa-id=\"time_icon\"></i><span class=\"u-color--green u-bold\" data-qa-id=\"availability_text\">Available Today</span></div><div class=\"u-d-flex u-justify-center flex-direction-column\"><div class=\"u-spacer--thin pure-1-1\"><button class=\"u-t-capitalize u-bold u-round-corner--large c-btn--dark-medium\" data-qa-id=\"book_button\">Book Clinic Visit<div class=\"u-xx-small-font\">No Booking Fee</div></button></div></div></div></div></div>,\n",
       " <div class=\"listing-doctor-card\" data-qa-id=\"doctor_card\"><div class=\"u-d-flex\"><div><div class=\"u-d-inlineblock u-t-center\"><div class=\"u-pos-has profile-photo\"><div class=\"LazyLoad\" style=\"height:140px\"></div><span class=\"prime-badge\" data-qa-id=\"prime_badge\"><img src=\"//www.practostatic.com/web-assets/images/prime_badge.8f4ca26c7f36.svg\"/></span></div><button class=\"u-t-capitalize u-bold view-profile\" data-qa-id=\"View Profile_button\">View Profile</button></div></div><div class=\"info-section\"><a href=\"/bangalore/doctor/dr-roma-haider-dentist?practice_id=1134531&amp;specialization=Dentist&amp;referrer=doctor_listing\"><div class=\"u-color--primary uv2-spacer--xs-bottom\"><h2 class=\"doctor-name\" data-qa-id=\"doctor_name\">Dr. Roma Haider</h2></div></a><div class=\"u-grey_3-text\"><div class=\"u-d-flex\"><span>Dentist</span></div><div class=\"uv2-spacer--xs-top\" data-qa-id=\"doctor_experience\"><div>24<!-- --> <span>years experience overall</span></div></div></div><div class=\"uv2-spacer--sm-top\"><div class=\"u-bold u-d-inlineblock u-valign--middle\"><a href=\"/bangalore/dentist/koramangala-5-block\"><span data-qa-id=\"practice_locality\">Koramangala 5 Block<!-- -->,</span><span class=\"u-t-capitalize\" data-qa-id=\"practice_city\">Bangalore</span></a></div> <span class=\"u-dot-separator u-spacer--horizontal-less u-valign--middle\"></span> <div class=\"u-d-inlineblock u-valign--middle\"><a href=\"/Bangalore/hospital/apollo-spectra-hospitals-koramangala-5-block-1\" target=\"_blank\"><span class=\"u-c-pointer u-t-hover-underline\" data-qa-id=\"doctor_clinic_name\">Apollo Spectra Hospitals</span></a></div><div class=\"uv2-spacer--xs-top\"><span><span class=\"\" data-qa-id=\"consultation_fee\">₹<!-- -->600</span> </span><span>Consultation fee at clinic</span></div></div><div class=\"uv2-spacer--md-top uv2-cushion--lg-top u-border-general-dashed-top--gray-10\"><div><a class=\"uv2-spacer--md-right\" href=\"/bangalore/doctor/dr-roma-haider-dentist/recommended?practice_id=1134531&amp;specialization=Dentist&amp;referrer=doctor_listing\" target=\"_blank\"><span class=\"o-label--success u-bold\"><i class=\"icon-ic_like_filled\"></i><span data-qa-id=\"doctor_recommendation\">97<!-- -->% </span></span></a><a href=\"/bangalore/doctor/dr-roma-haider-dentist/recommended?practice_id=1134531&amp;specialization=Dentist&amp;referrer=doctor_listing\" target=\"_blank\"><span class=\"u-bold u-t-underline\" data-qa-id=\"total_feedback\">30<!-- --> <span>Patient Stories</span></span></a></div></div></div></div><div class=\"appointment-section flex-jc-flex-end\"><div><div class=\"u-t-center uv2-spacer--md-bottom\"><i class=\"c-card__icon icon-ic_calendar u-valign--top u-color--green u-bold\" data-qa-id=\"time_icon\"></i><span class=\"u-color--green u-bold\" data-qa-id=\"availability_text\">Available Today</span></div><div class=\"u-d-flex u-justify-center flex-direction-column\"><div class=\"u-spacer--thin pure-1-1\"><button class=\"u-t-capitalize u-bold u-round-corner--large c-btn--dark-medium\" data-qa-id=\"book_button\">Book Clinic Visit<div class=\"u-xx-small-font\">No Booking Fee</div></button></div></div></div></div></div>,\n",
       " <div class=\"listing-doctor-card\" data-qa-id=\"doctor_card\"><div class=\"u-d-flex\"><div><div class=\"u-d-inlineblock u-t-center\"><div class=\"u-pos-has profile-photo\"><div class=\"LazyLoad\" style=\"height:140px\"></div><span class=\"prime-badge\" data-qa-id=\"prime_badge\"><img src=\"//www.practostatic.com/web-assets/images/prime_badge.8f4ca26c7f36.svg\"/></span></div><button class=\"u-t-capitalize u-bold view-profile\" data-qa-id=\"View Profile_button\">View Profile</button></div></div><div class=\"info-section\"><a href=\"/bangalore/doctor/dr-ramya-dentist-7?practice_id=650183&amp;specialization=Dentist&amp;referrer=doctor_listing\"><div class=\"u-color--primary uv2-spacer--xs-bottom\"><h2 class=\"doctor-name\" data-qa-id=\"doctor_name\">Dr. Ramya</h2></div></a><div class=\"u-grey_3-text\"><div class=\"u-d-flex\"><span>Dentist</span></div><div class=\"uv2-spacer--xs-top\" data-qa-id=\"doctor_experience\"><div>22<!-- --> <span>years experience overall</span></div></div></div><div class=\"uv2-spacer--sm-top\"><div class=\"u-bold u-d-inlineblock u-valign--middle\"><a href=\"/bangalore/dentist/indiranagar\"><span data-qa-id=\"practice_locality\">Indiranagar<!-- -->,</span><span class=\"u-t-capitalize\" data-qa-id=\"practice_city\">Bangalore</span></a></div> <span class=\"u-dot-separator u-spacer--horizontal-less u-valign--middle\"></span> <div class=\"u-d-inlineblock u-valign--middle\"><a href=\"/Bangalore/clinic/dental-solutions-1-indiranagar\" target=\"_blank\"><span class=\"u-c-pointer u-t-hover-underline\" data-qa-id=\"doctor_clinic_name\">Dental solutions</span></a></div><div class=\"uv2-spacer--xs-top\"><span><span class=\"\" data-qa-id=\"consultation_fee\">₹<!-- -->400</span> </span><span>Consultation fee at clinic</span></div></div><div class=\"uv2-spacer--md-top uv2-cushion--lg-top u-border-general-dashed-top--gray-10\"><div><a class=\"uv2-spacer--md-right\" href=\"/bangalore/doctor/dr-ramya-dentist-7/recommended?practice_id=650183&amp;specialization=Dentist&amp;referrer=doctor_listing\" target=\"_blank\"><span class=\"o-label--success u-bold\"><i class=\"icon-ic_like_filled\"></i><span data-qa-id=\"doctor_recommendation\">94<!-- -->% </span></span></a><a href=\"/bangalore/doctor/dr-ramya-dentist-7/recommended?practice_id=650183&amp;specialization=Dentist&amp;referrer=doctor_listing\" target=\"_blank\"><span class=\"u-bold u-t-underline\" data-qa-id=\"total_feedback\">1138<!-- --> <span>Patient Stories</span></span></a></div></div></div></div><div class=\"appointment-section flex-jc-flex-end\"><div><div class=\"u-t-center uv2-spacer--md-bottom\"><i class=\"c-card__icon icon-ic_calendar u-valign--top u-color--green u-bold\" data-qa-id=\"time_icon\"></i><span class=\"u-color--green u-bold\" data-qa-id=\"availability_text\">Available Today</span></div><div class=\"u-d-flex u-justify-center flex-direction-column\"><div class=\"u-spacer--thin pure-1-1\"><button class=\"u-t-capitalize u-bold u-round-corner--large c-btn--dark-medium\" data-qa-id=\"book_button\">Book Clinic Visit<div class=\"u-xx-small-font\">No Booking Fee</div></button></div><div class=\"u-spacer--thin pure-1-1\"><button class=\"u-t-capitalize u-bold u-round-corner--large c-btn--purple-light u-border--thick\" data-qa-id=\"consult_cta\">Video Consult</button></div></div></div></div></div>,\n",
       " <div class=\"listing-doctor-card\" data-qa-id=\"doctor_card\"><div class=\"u-d-flex\"><div><div class=\"u-d-inlineblock u-t-center\"><div class=\"u-pos-has profile-photo\"><div class=\"LazyLoad\" style=\"height:140px\"></div><span class=\"prime-badge\" data-qa-id=\"prime_badge\"><img src=\"//www.practostatic.com/web-assets/images/prime_badge.8f4ca26c7f36.svg\"/></span></div><button class=\"u-t-capitalize u-bold view-profile\" data-qa-id=\"View Profile_button\">View Profile</button></div></div><div class=\"info-section\"><a href=\"/bangalore/doctor/jaya-agnihotri-dentist?practice_id=699962&amp;specialization=Dentist&amp;referrer=doctor_listing\"><div class=\"u-color--primary uv2-spacer--xs-bottom\"><h2 class=\"doctor-name\" data-qa-id=\"doctor_name\">Dr. Jaya Agnihotri</h2></div></a><div class=\"u-grey_3-text\"><div class=\"u-d-flex\"><span>Dentist</span></div><div class=\"uv2-spacer--xs-top\" data-qa-id=\"doctor_experience\"><div>22<!-- --> <span>years experience overall</span></div></div></div><div class=\"uv2-spacer--sm-top\"><div class=\"u-bold u-d-inlineblock u-valign--middle\"><a href=\"/bangalore/dentist/mahadevapura\"><span data-qa-id=\"practice_locality\">Mahadevapura<!-- -->,</span><span class=\"u-t-capitalize\" data-qa-id=\"practice_city\">Bangalore</span></a></div> <span class=\"u-dot-separator u-spacer--horizontal-less u-valign--middle\"></span> <div class=\"u-d-inlineblock u-valign--middle\"><a href=\"/Bangalore/clinic/prudent-multispeciality-dental-clinic-implant-center-marathahalli\" target=\"_blank\"><span class=\"u-c-pointer u-t-hover-underline\" data-qa-id=\"doctor_clinic_name\">PruDent Multispeciality Dental Clinic &amp; Implant Center</span></a><a href=\"/bangalore/doctor/jaya-agnihotri-dentist?practice_id=699962&amp;specialization=Dentist&amp;referrer=doctor_listing\" target=\"_blank\"><span class=\"u-c-pointer u-t-hover-underline\" data-qa-id=\"doctor_clinic_count\"> <span>+</span><span> 3</span> <span>more</span></span></a></div><div class=\"uv2-spacer--xs-top\"><span><span class=\"\" data-qa-id=\"consultation_fee\">₹<!-- -->350</span> </span><span>Consultation fee at clinic</span></div></div><div class=\"uv2-spacer--md-top uv2-cushion--lg-top u-border-general-dashed-top--gray-10\"><div><a class=\"uv2-spacer--md-right\" href=\"/bangalore/doctor/jaya-agnihotri-dentist/recommended?practice_id=699962&amp;specialization=Dentist&amp;referrer=doctor_listing\" target=\"_blank\"><span class=\"o-label--success u-bold\"><i class=\"icon-ic_like_filled\"></i><span data-qa-id=\"doctor_recommendation\">98<!-- -->% </span></span></a><a href=\"/bangalore/doctor/jaya-agnihotri-dentist/recommended?practice_id=699962&amp;specialization=Dentist&amp;referrer=doctor_listing\" target=\"_blank\"><span class=\"u-bold u-t-underline\" data-qa-id=\"total_feedback\">81<!-- --> <span>Patient Stories</span></span></a></div></div></div></div><div class=\"appointment-section flex-jc-flex-end\"><div><div class=\"u-t-center uv2-spacer--md-bottom\"><i class=\"c-card__icon icon-ic_calendar u-valign--top\" data-qa-id=\"time_icon\"></i><span class=\"\" data-qa-id=\"availability_text\">Available Tomorrow</span></div><div class=\"u-d-flex u-justify-center flex-direction-column\"><div class=\"u-spacer--thin pure-1-1\"><button class=\"u-t-capitalize u-bold u-round-corner--large c-btn--dark-medium\" data-qa-id=\"book_button\">Book Clinic Visit<div class=\"u-xx-small-font\">No Booking Fee</div></button></div></div></div></div></div>,\n",
       " <div class=\"listing-doctor-card\" data-qa-id=\"doctor_card\"><div class=\"u-d-flex\"><div><div class=\"u-d-inlineblock u-t-center\"><div class=\"u-pos-has profile-photo\"><div class=\"LazyLoad\" style=\"height:140px\"></div><span class=\"prime-badge\" data-qa-id=\"prime_badge\"><img src=\"//www.practostatic.com/web-assets/images/prime_badge.8f4ca26c7f36.svg\"/></span></div><button class=\"u-t-capitalize u-bold view-profile\" data-qa-id=\"View Profile_button\">View Profile</button></div></div><div class=\"info-section\"><a href=\"/bangalore/doctor/dr-chandan-mahesh1?practice_id=1157517&amp;specialization=Dentist&amp;referrer=doctor_listing\"><div class=\"u-color--primary uv2-spacer--xs-bottom\"><h2 class=\"doctor-name\" data-qa-id=\"doctor_name\">Dr. Chandan Mahesh</h2></div></a><div class=\"u-grey_3-text\"><div class=\"u-d-flex\"><span>Dentist</span></div><div class=\"uv2-spacer--xs-top\" data-qa-id=\"doctor_experience\"><div>12<!-- --> <span>years experience overall</span></div></div></div><div class=\"uv2-spacer--sm-top\"><div class=\"u-bold u-d-inlineblock u-valign--middle\"><a href=\"/bangalore/dentist/hsr-layout\"><span data-qa-id=\"practice_locality\">HSR Layout<!-- -->,</span><span class=\"u-t-capitalize\" data-qa-id=\"practice_city\">Bangalore</span></a></div> <span class=\"u-dot-separator u-spacer--horizontal-less u-valign--middle\"></span> <div class=\"u-d-inlineblock u-valign--middle\"><a href=\"/Bangalore/clinic/impla-dental-care-hsr-layout\" target=\"_blank\"><span class=\"u-c-pointer u-t-hover-underline\" data-qa-id=\"doctor_clinic_name\">Impla Dental Care</span></a></div><div class=\"uv2-spacer--xs-top\"><span><span class=\"\" data-qa-id=\"consultation_fee\">₹<!-- -->250</span> </span><span>Consultation fee at clinic</span></div></div><div class=\"uv2-spacer--md-top uv2-cushion--lg-top u-border-general-dashed-top--gray-10\"><div><a class=\"uv2-spacer--md-right\" href=\"/bangalore/doctor/dr-chandan-mahesh1/recommended?practice_id=1157517&amp;specialization=Dentist&amp;referrer=doctor_listing\" target=\"_blank\"><span class=\"o-label--success u-bold\"><i class=\"icon-ic_like_filled\"></i><span data-qa-id=\"doctor_recommendation\">100<!-- -->% </span></span></a><a href=\"/bangalore/doctor/dr-chandan-mahesh1/recommended?practice_id=1157517&amp;specialization=Dentist&amp;referrer=doctor_listing\" target=\"_blank\"><span class=\"u-bold u-t-underline\" data-qa-id=\"total_feedback\">735<!-- --> <span>Patient Stories</span></span></a></div></div></div></div><div class=\"appointment-section flex-jc-flex-end\"><div><div class=\"u-t-center uv2-spacer--md-bottom\"><i class=\"c-card__icon icon-ic_calendar u-valign--top u-color--green u-bold\" data-qa-id=\"time_icon\"></i><span class=\"u-color--green u-bold\" data-qa-id=\"availability_text\">Available Today</span></div><div class=\"u-d-flex u-justify-center flex-direction-column\"><div class=\"u-spacer--thin pure-1-1\"><button class=\"u-t-capitalize u-bold u-round-corner--large c-btn--dark-medium\" data-qa-id=\"book_button\">Book Clinic Visit<div class=\"u-xx-small-font\">No Booking Fee</div></button></div></div></div></div></div>,\n",
       " <div class=\"listing-doctor-card\" data-qa-id=\"doctor_card\"><div class=\"u-d-flex\"><div><div class=\"u-d-inlineblock u-t-center\"><div class=\"u-pos-has profile-photo\"><div class=\"LazyLoad\" style=\"height:140px\"></div><span class=\"prime-badge\" data-qa-id=\"prime_badge\"><img src=\"//www.practostatic.com/web-assets/images/prime_badge.8f4ca26c7f36.svg\"/></span></div><button class=\"u-t-capitalize u-bold view-profile\" data-qa-id=\"View Profile_button\">View Profile</button></div></div><div class=\"info-section\"><a href=\"/bangalore/doctor/dr-pranay-2-dentist?practice_id=835732&amp;specialization=Dentist&amp;referrer=doctor_listing\"><div class=\"u-color--primary uv2-spacer--xs-bottom\"><h2 class=\"doctor-name\" data-qa-id=\"doctor_name\">Dr. Pranay</h2></div></a><div class=\"u-grey_3-text\"><div class=\"u-d-flex\"><span>Dentist</span></div><div class=\"uv2-spacer--xs-top\" data-qa-id=\"doctor_experience\"><div>12<!-- --> <span>years experience overall</span></div></div></div><div class=\"uv2-spacer--sm-top\"><div class=\"u-bold u-d-inlineblock u-valign--middle\"><a href=\"/bangalore/dentist/marathahalli\"><span data-qa-id=\"practice_locality\">Marathahalli<!-- -->,</span><span class=\"u-t-capitalize\" data-qa-id=\"practice_city\">Bangalore</span></a></div> <span class=\"u-dot-separator u-spacer--horizontal-less u-valign--middle\"></span> <div class=\"u-d-inlineblock u-valign--middle\"><a href=\"/Bangalore/clinic/smilecure-multispeciality-dental-clinic-marathahalli\" target=\"_blank\"><span class=\"u-c-pointer u-t-hover-underline\" data-qa-id=\"doctor_clinic_name\">SmileCure Multispeciality Dental Clinic</span></a><a href=\"/bangalore/doctor/dr-pranay-2-dentist?practice_id=835732&amp;specialization=Dentist&amp;referrer=doctor_listing\" target=\"_blank\"><span class=\"u-c-pointer u-t-hover-underline\" data-qa-id=\"doctor_clinic_count\"> <span>+</span><span> 2</span> <span>more</span></span></a></div><div class=\"uv2-spacer--xs-top\"><span><span class=\"\" data-qa-id=\"consultation_fee\">₹<!-- -->550</span> </span><span>Consultation fee at clinic</span></div></div><div class=\"uv2-spacer--md-top uv2-cushion--lg-top u-border-general-dashed-top--gray-10\"><div><a class=\"uv2-spacer--md-right\" href=\"/bangalore/doctor/dr-pranay-2-dentist/recommended?practice_id=835732&amp;specialization=Dentist&amp;referrer=doctor_listing\" target=\"_blank\"><span class=\"o-label--success u-bold\"><i class=\"icon-ic_like_filled\"></i><span data-qa-id=\"doctor_recommendation\">97<!-- -->% </span></span></a><a href=\"/bangalore/doctor/dr-pranay-2-dentist/recommended?practice_id=835732&amp;specialization=Dentist&amp;referrer=doctor_listing\" target=\"_blank\"><span class=\"u-bold u-t-underline\" data-qa-id=\"total_feedback\">1061<!-- --> <span>Patient Stories</span></span></a></div></div></div></div><div class=\"appointment-section flex-jc-flex-end\"><div><div class=\"u-t-center uv2-spacer--md-bottom\"><i class=\"c-card__icon icon-ic_calendar u-valign--top u-color--green u-bold\" data-qa-id=\"time_icon\"></i><span class=\"u-color--green u-bold\" data-qa-id=\"availability_text\">Available Today</span></div><div class=\"u-d-flex u-justify-center flex-direction-column\"><div class=\"u-spacer--thin pure-1-1\"><button class=\"u-t-capitalize u-bold u-round-corner--large c-btn--dark-medium\" data-qa-id=\"book_button\">Book Clinic Visit<div class=\"u-xx-small-font\">No Booking Fee</div></button></div><div class=\"u-spacer--thin pure-1-1\"><button class=\"u-t-capitalize u-bold u-round-corner--large c-btn--purple-light u-border--thick\" data-qa-id=\"consult_cta\">Video Consult</button></div></div></div></div></div>,\n",
       " <div class=\"listing-doctor-card\" data-qa-id=\"doctor_card\"><div class=\"u-d-flex\"><div><div class=\"u-d-inlineblock u-t-center\"><div class=\"u-pos-has profile-photo\"><div class=\"LazyLoad\" style=\"height:140px\"></div><span class=\"prime-badge\" data-qa-id=\"prime_badge\"><img src=\"//www.practostatic.com/web-assets/images/prime_badge.8f4ca26c7f36.svg\"/></span></div><button class=\"u-t-capitalize u-bold view-profile\" data-qa-id=\"View Profile_button\">View Profile</button></div></div><div class=\"info-section\"><a href=\"/bangalore/doctor/dr-jaswant-reddy-dentist?practice_id=661014&amp;specialization=Dentist&amp;referrer=doctor_listing\"><div class=\"u-color--primary uv2-spacer--xs-bottom\"><h2 class=\"doctor-name\" data-qa-id=\"doctor_name\">Dr. Jaswanth Reddy</h2></div></a><div class=\"u-grey_3-text\"><div class=\"u-d-flex\"><span>Dentist</span></div><div class=\"uv2-spacer--xs-top\" data-qa-id=\"doctor_experience\"><div>16<!-- --> <span>years experience overall</span></div></div></div><div class=\"uv2-spacer--sm-top\"><div class=\"u-bold u-d-inlineblock u-valign--middle\"><a href=\"/bangalore/dentist/marathahalli\"><span data-qa-id=\"practice_locality\">Marathahalli<!-- -->,</span><span class=\"u-t-capitalize\" data-qa-id=\"practice_city\">Bangalore</span></a></div> <span class=\"u-dot-separator u-spacer--horizontal-less u-valign--middle\"></span> <div class=\"u-d-inlineblock u-valign--middle\"><a href=\"/Bangalore/clinic/ssr-multispeciality-dental-clinic-marathahalli-marathahalli\" target=\"_blank\"><span class=\"u-c-pointer u-t-hover-underline\" data-qa-id=\"doctor_clinic_name\">SSR Multispeciality Dental Clinic</span></a></div><div class=\"uv2-spacer--xs-top\"><span><span class=\"\" data-qa-id=\"consultation_fee\">₹<!-- -->350</span> </span><span>Consultation fee at clinic</span></div></div><div class=\"uv2-spacer--md-top uv2-cushion--lg-top u-border-general-dashed-top--gray-10\"><div><a class=\"uv2-spacer--md-right\" href=\"/bangalore/doctor/dr-jaswant-reddy-dentist/recommended?practice_id=661014&amp;specialization=Dentist&amp;referrer=doctor_listing\" target=\"_blank\"><span class=\"o-label--success u-bold\"><i class=\"icon-ic_like_filled\"></i><span data-qa-id=\"doctor_recommendation\">96<!-- -->% </span></span></a><a href=\"/bangalore/doctor/dr-jaswant-reddy-dentist/recommended?practice_id=661014&amp;specialization=Dentist&amp;referrer=doctor_listing\" target=\"_blank\"><span class=\"u-bold u-t-underline\" data-qa-id=\"total_feedback\">18<!-- --> <span>Patient Stories</span></span></a></div></div></div></div><div class=\"appointment-section flex-jc-flex-end\"><div><div class=\"u-t-center uv2-spacer--md-bottom\"><i class=\"c-card__icon icon-ic_calendar u-valign--top u-color--green u-bold\" data-qa-id=\"time_icon\"></i><span class=\"u-color--green u-bold\" data-qa-id=\"availability_text\">Available Today</span></div><div class=\"u-d-flex u-justify-center flex-direction-column\"><div class=\"u-spacer--thin pure-1-1\"><button class=\"u-t-capitalize u-bold u-round-corner--large c-btn--dark-medium\" data-qa-id=\"book_button\">Book Clinic Visit<div class=\"u-xx-small-font\">No Booking Fee</div></button></div><div class=\"u-spacer--thin pure-1-1\"><button class=\"u-t-capitalize u-bold u-round-corner--large c-btn--purple-light u-border--thick\" data-qa-id=\"consult_cta\">Video Consult</button></div></div></div></div></div>]"
      ]
     },
     "execution_count": 4,
     "metadata": {},
     "output_type": "execute_result"
    }
   ],
   "source": [
    "soup.find_all('div',{'class':'listing-doctor-card'})"
   ]
  },
  {
   "cell_type": "code",
   "execution_count": 5,
   "id": "28bf84d5",
   "metadata": {},
   "outputs": [],
   "source": [
    "practo = soup.find_all('div',{'class':'listing-doctor-card'})[0]"
   ]
  },
  {
   "cell_type": "code",
   "execution_count": 6,
   "id": "78360c9d",
   "metadata": {},
   "outputs": [
    {
     "data": {
      "text/plain": [
       "'View ProfileDr. Shantipriya ReddyDentist32\\xa0years experience overallDomlur,Bangalore\\xa0\\xa0Cosmo Dental Studio\\xa0+ 1 more₹300 Consultation fee at clinic93% 16\\xa0Patient StoriesAvailable TodayBook Clinic VisitNo Booking Fee'"
      ]
     },
     "execution_count": 6,
     "metadata": {},
     "output_type": "execute_result"
    }
   ],
   "source": [
    "soup.find_all('div',{'class':'listing-doctor-card'})[0].text"
   ]
  },
  {
   "cell_type": "code",
   "execution_count": null,
   "id": "04dbd316",
   "metadata": {},
   "outputs": [],
   "source": []
  },
  {
   "cell_type": "code",
   "execution_count": null,
   "id": "a799a60d",
   "metadata": {},
   "outputs": [],
   "source": [
    "\n",
    "\n",
    "   "
   ]
  },
  {
   "cell_type": "code",
   "execution_count": null,
   "id": "f1f970bf",
   "metadata": {},
   "outputs": [],
   "source": []
  },
  {
   "cell_type": "code",
   "execution_count": null,
   "id": "cabcef95",
   "metadata": {},
   "outputs": [],
   "source": [
    "driver.get('https://www.practo.com/search/doctors?results_type=doctor&q=%5B%7B%22word%22%3A%22Dentist%22%2C%22autocompleted%22%3Atrue%2C%22category%22%3A%22subspeciality%22%7D%5D&city=Bangalore')\n",
    "time.sleep(1)  # Allow 2 seconds for the web page to (open depends on you)\n",
    "scroll_pause_time = 2 # You can set your own pause time. dont slow too slow that might not able to load more data\n",
    "screen_height = driver.execute_script(\"return window.screen.height;\")  # get the screen height of the web\n",
    "A = 1\n",
    "\n",
    "while True:\n",
    "        # scroll one screen height each time\n",
    "    driver.execute_script(\"window.scrollTo(0, {screen_height}*{A});\".format(screen_height=screen_height, A=A))\n",
    "    A += 1\n",
    "    time.sleep(scroll_pause_time)\n",
    "        # update scroll height each time after scrolled, as the scroll height can change after we scrolled the page\n",
    "    scroll_height = driver.execute_script(\"return document.body.scrollHeight;\")\n",
    "        # Break the loop when the height we need to scroll to is larger than the total scroll height\n",
    "    if (screen_height) * A > scroll_height:\n",
    "        break"
   ]
  },
  {
   "cell_type": "code",
   "execution_count": null,
   "id": "a19814ec",
   "metadata": {},
   "outputs": [],
   "source": [
    "url ='https://www.practo.com/search/doctors?results_type=doctor&q=%5B%7B%22word%22%3A%22dentist%22%2C%22autocompleted%22%3Atrue%2C%22category%22%3A%22subspeciality%22%7D%5D&city=Bangalore'\n",
    "driver = webdriver.Firefox()\n",
    "driver.get(url)\n",
    "time.sleep(1)  # Allow 2 seconds for the web page to (open depends on you)\n",
    "scroll_pause_time = 2 # You can set your own pause time. dont slow too slow that might not able to load more data\n",
    "screen_height = driver.execute_script(\"return window.screen.height;\")  # get the screen height of the web\n",
    "A = 1\n",
    "\n",
    "while True:\n",
    "    # scroll one screen height each time\n",
    "    driver.execute_script(\"window.scrollTo(0, {screen_height}*{A});\".format(screen_height=screen_height, A=A))\n",
    "    A += 1\n",
    "    time.sleep(scroll_pause_time)\n",
    "    # update scroll height each time after scrolled, as the scroll height can change after we scrolled the page\n",
    "    scroll_height = driver.execute_script(\"return document.body.scrollHeight;\")\n",
    "    # Break the loop when the height we need to scroll to is larger than the total scroll height\n",
    "    if (screen_height) * A > scroll_height:\n",
    "        break"
   ]
  },
  {
   "cell_type": "code",
   "execution_count": null,
   "id": "0169a3e4",
   "metadata": {},
   "outputs": [],
   "source": [
    "# getting all types of link  from all the links in locationlist\n",
    "driver=webdriver.Firefox()\n",
    "link = []\n",
    "\n",
    "driver.get('https://www.practo.com/search/doctors?results_type=doctor&q=%5B%7B%22word%22%3A%22dentist%22%2C%22autocompleted%22%3Atrue%2C%22category%22%3A%22subspeciality%22%7D%5D&city=Bangalore')\n",
    "\n",
    "time.sleep(1)  # Allow 2 seconds for the web page to (open depends on you)\n",
    "scroll_pause_time = 2 # You can set your own pause time. dont slow too slow that might not able to load more data\n",
    "screen_height = driver.execute_script(\"return window.screen.height;\")  # get the screen height of the web\n",
    "A = 1\n",
    "\n",
    "while True:\n",
    "    soup=BeautifulSoup(driver.page_source,'html.parser')\n",
    "        # scroll one screen height each time\n",
    "    driver.execute_script(\"window.scrollTo(0, {screen_height}*{A});\".format(screen_height=screen_height, A=A))\n",
    "    A += 1\n",
    "    time.sleep(scroll_pause_time)\n",
    "        # update scroll height each time after scrolled, as the scroll height can change after we scrolled the page\n",
    "    scroll_height = driver.execute_script(\"return document.body.scrollHeight;\")\n",
    "        # Break the loop when the height we need to scroll to is larger than the total scroll height\n",
    "    if (screen_height) * A > scroll_height:\n",
    "        break\n",
    "        \n",
    "\n",
    "    \n",
    "    div_lst3 = soup.find_all('div', class_ = \"info-section\")\n",
    "\n",
    "\n",
    "\n",
    "# links = driver.find_elements('tag name','a')\n",
    "#     for i in links:\n",
    "#         link.append(i.get_attribute('href'))        \n",
    "#        \n",
    "#     driver.find_elements('div', class_ = \"info-section\")\n",
    "#     links = div.a['href']\n",
    "\n",
    "#     for i in links:\n",
    "#         link.append(i.get_attribute('href'))\n",
    "                            "
   ]
  },
  {
   "cell_type": "code",
   "execution_count": null,
   "id": "74dd91ba",
   "metadata": {},
   "outputs": [],
   "source": [
    "for div in div_lst3:\n",
    "    try:\n",
    "        link.append(div.a['href'])\n",
    "    except TypeError:\n",
    "        pass"
   ]
  },
  {
   "cell_type": "code",
   "execution_count": null,
   "id": "727c4149",
   "metadata": {},
   "outputs": [],
   "source": [
    "link"
   ]
  },
  {
   "cell_type": "code",
   "execution_count": null,
   "id": "f945a878",
   "metadata": {},
   "outputs": [],
   "source": [
    "len(link)"
   ]
  },
  {
   "cell_type": "code",
   "execution_count": null,
   "id": "edb525b4",
   "metadata": {},
   "outputs": [],
   "source": [
    "table1= pd.DataFrame(link)\n",
    "table1"
   ]
  },
  {
   "cell_type": "code",
   "execution_count": null,
   "id": "8579c477",
   "metadata": {},
   "outputs": [],
   "source": [
    "table1.to_csv('B_dentist.csv')"
   ]
  },
  {
   "cell_type": "code",
   "execution_count": null,
   "id": "140dc103",
   "metadata": {},
   "outputs": [],
   "source": [
    "# getting all types of link  from all the links in locationlist\n",
    "driver=webdriver.Firefox()\n",
    "link = []\n",
    "\n",
    "driver.get('https://www.practo.com/search/doctors?results_type=doctor&q=%5B%7B%22word%22%3A%22dentist%22%2C%22autocompleted%22%3Atrue%2C%22category%22%3A%22subspeciality%22%7D%5D&city=Bangalore')\n",
    "\n",
    "time.sleep(1)  # Allow 2 seconds for the web page to (open depends on you)\n",
    "scroll_pause_time = 2 # You can set your own pause time. dont slow too slow that might not able to load more data\n",
    "screen_height = driver.execute_script(\"return window.screen.height;\")  # get the screen height of the web\n",
    "A = 1\n",
    "\n",
    "while True:\n",
    "    soup=BeautifulSoup(driver.page_source,'html.parser')\n",
    "        # scroll one screen height each time\n",
    "    driver.execute_script(\"window.scrollTo(0, {screen_height}*{A});\".format(screen_height=screen_height, A=A))\n",
    "    A += 1\n",
    "    time.sleep(scroll_pause_time)\n",
    "        # update scroll height each time after scrolled, as the scroll height can change after we scrolled the page\n",
    "    scroll_height = driver.execute_script(\"return document.body.scrollHeight;\")\n",
    "        # Break the loop when the height we need to scroll to is larger than the total scroll height\n",
    "    if (screen_height) * A > scroll_height:\n",
    "        break\n",
    "        \n",
    "\n",
    "    \n",
    "    div_lst3 = soup.find_all('div', class_ = \"info-section\")"
   ]
  },
  {
   "cell_type": "code",
   "execution_count": null,
   "id": "4d70f008",
   "metadata": {},
   "outputs": [],
   "source": [
    "lis2=['Pune','Delhi', 'Chennai', 'Mumbai']\n",
    "link = []\n",
    "for i in lis2:\n",
    "    driver=webdriver.Firefox()\n",
    "    \n",
    "    url=f'https://www.practo.com/search/doctors?results_type=doctor&q=%5B%7B%22word%22%3A%22dentist%22%2C%22autocompleted%22%3Atrue%2C%22category%22%3A%22subspeciality%22%7D%5D&city={i}'\n",
    "    driver.get(url)\n",
    "\n",
    "    time.sleep(1)  # Allow 2 seconds for the web page to (open depends on you)\n",
    "    scroll_pause_time = 2 # You can set your own pause time. dont slow too slow that might not able to load more data\n",
    "    screen_height = driver.execute_script(\"return window.screen.height;\")  # get the screen height of the web\n",
    "    A = 1\n",
    "\n",
    "    while True:\n",
    "        soup=BeautifulSoup(driver.page_source,'html.parser')\n",
    "            # scroll one screen height each time\n",
    "        driver.execute_script(\"window.scrollTo(0, {screen_height}*{A});\".format(screen_height=screen_height, A=A))\n",
    "        A += 1\n",
    "        time.sleep(scroll_pause_time)\n",
    "            # update scroll height each time after scrolled, as the scroll height can change after we scrolled the page\n",
    "        scroll_height = driver.execute_script(\"return document.body.scrollHeight;\")\n",
    "            # Break the loop when the height we need to scroll to is larger than the total scroll height\n",
    "        if (screen_height) * A > scroll_height:\n",
    "            break\n",
    "\n",
    "\n",
    "\n",
    "        div_lst3 = soup.find_all('div', class_ = \"info-section\")\n",
    "    for div in div_lst3:\n",
    "        \n",
    "        try:\n",
    "            link.append(div.a['href'])\n",
    "        except TypeError:\n",
    "            pass\n"
   ]
  },
  {
   "cell_type": "code",
   "execution_count": null,
   "id": "7f5f3403",
   "metadata": {},
   "outputs": [],
   "source": [
    "for div in div_lst3:\n",
    "    try:\n",
    "        link.append(div.a['href'])\n",
    "    except TypeError:\n",
    "        pass"
   ]
  },
  {
   "cell_type": "code",
   "execution_count": null,
   "id": "3bc98de7",
   "metadata": {},
   "outputs": [],
   "source": [
    "len(link)"
   ]
  },
  {
   "cell_type": "code",
   "execution_count": null,
   "id": "932aa760",
   "metadata": {},
   "outputs": [],
   "source": [
    "link"
   ]
  },
  {
   "cell_type": "code",
   "execution_count": null,
   "id": "ba6766ed",
   "metadata": {},
   "outputs": [],
   "source": [
    "table3= pd.DataFrame(link)\n",
    "table3"
   ]
  },
  {
   "cell_type": "code",
   "execution_count": null,
   "id": "83686cbd",
   "metadata": {},
   "outputs": [],
   "source": [
    "table3.to_csv('M_dentist.csv')"
   ]
  },
  {
   "cell_type": "code",
   "execution_count": null,
   "id": "e2381741",
   "metadata": {},
   "outputs": [],
   "source": [
    "set1=set(link)"
   ]
  },
  {
   "cell_type": "code",
   "execution_count": null,
   "id": "ada99840",
   "metadata": {},
   "outputs": [],
   "source": [
    "len(set1)"
   ]
  },
  {
   "cell_type": "code",
   "execution_count": null,
   "id": "3ba250cc",
   "metadata": {},
   "outputs": [],
   "source": [
    "table1"
   ]
  },
  {
   "cell_type": "code",
   "execution_count": null,
   "id": "ae2288e3",
   "metadata": {},
   "outputs": [],
   "source": [
    "set2=set(table1[0])"
   ]
  },
  {
   "cell_type": "code",
   "execution_count": null,
   "id": "334dc372",
   "metadata": {},
   "outputs": [],
   "source": [
    "len(set2)"
   ]
  },
  {
   "cell_type": "code",
   "execution_count": null,
   "id": "b5f7cb23",
   "metadata": {},
   "outputs": [],
   "source": [
    "table2"
   ]
  },
  {
   "cell_type": "code",
   "execution_count": null,
   "id": "6c361d03",
   "metadata": {},
   "outputs": [],
   "source": [
    "set3=set(table2[0])"
   ]
  },
  {
   "cell_type": "code",
   "execution_count": null,
   "id": "9fd2c197",
   "metadata": {},
   "outputs": [],
   "source": [
    "len(set3)"
   ]
  },
  {
   "cell_type": "code",
   "execution_count": null,
   "id": "01196e70",
   "metadata": {},
   "outputs": [],
   "source": [
    "set4=set1.union(set2,set3)"
   ]
  },
  {
   "cell_type": "code",
   "execution_count": null,
   "id": "6d9845b8",
   "metadata": {},
   "outputs": [],
   "source": [
    "set4"
   ]
  },
  {
   "cell_type": "code",
   "execution_count": null,
   "id": "4e8ba263",
   "metadata": {},
   "outputs": [],
   "source": [
    "len(set4)"
   ]
  },
  {
   "cell_type": "code",
   "execution_count": null,
   "id": "6f73225d",
   "metadata": {},
   "outputs": [],
   "source": [
    "table4= pd.DataFrame(set4)\n",
    "table4"
   ]
  },
  {
   "cell_type": "code",
   "execution_count": null,
   "id": "25401c61",
   "metadata": {},
   "outputs": [],
   "source": [
    "table4.to_csv('final_dentist.csv')"
   ]
  },
  {
   "cell_type": "markdown",
   "id": "8a14392d",
   "metadata": {},
   "source": [
    "# Extracting link for Gynecologist"
   ]
  },
  {
   "cell_type": "code",
   "execution_count": 115,
   "id": "73f27dc7",
   "metadata": {},
   "outputs": [],
   "source": [
    "lis2=['Bangalore','Pune','Delhi', 'Chennai', 'Mumbai','Hyderabad']\n",
    "link = []\n",
    "for i in lis2:\n",
    "    driver=webdriver.Firefox()\n",
    "    \n",
    "    url=f'https://www.practo.com/search/doctors?results_type=doctor&q=%5B%7B%22word%22%3A%22gynecologist%22%2C%22autocompleted%22%3Atrue%2C%22category%22%3A%22subspeciality%22%7D%5D&city={i}'\n",
    "    driver.get(url)\n",
    "\n",
    "    time.sleep(1)  # Allow 2 seconds for the web page to (open depends on you)\n",
    "    scroll_pause_time = 2 # You can set your own pause time. dont slow too slow that might not able to load more data\n",
    "    screen_height = driver.execute_script(\"return window.screen.height;\")  # get the screen height of the web\n",
    "    A = 1\n",
    "\n",
    "    while True:\n",
    "        soup=BeautifulSoup(driver.page_source,'html.parser')\n",
    "            # scroll one screen height each time\n",
    "        driver.execute_script(\"window.scrollTo(0, {screen_height}*{A});\".format(screen_height=screen_height, A=A))\n",
    "        A += 1\n",
    "        time.sleep(scroll_pause_time)\n",
    "            # update scroll height each time after scrolled, as the scroll height can change after we scrolled the page\n",
    "        scroll_height = driver.execute_script(\"return document.body.scrollHeight;\")\n",
    "            # Break the loop when the height we need to scroll to is larger than the total scroll height\n",
    "        if (screen_height) * A > scroll_height:\n",
    "            break\n",
    "\n",
    "\n",
    "\n",
    "        div_lst3 = soup.find_all('div', class_ = \"info-section\")\n",
    "    for div in div_lst3:\n",
    "        \n",
    "        try:\n",
    "            link.append(div.a['href'])\n",
    "        except TypeError:\n",
    "            pass"
   ]
  },
  {
   "cell_type": "code",
   "execution_count": 116,
   "id": "f72109d4",
   "metadata": {},
   "outputs": [
    {
     "data": {
      "text/plain": [
       "1380"
      ]
     },
     "execution_count": 116,
     "metadata": {},
     "output_type": "execute_result"
    }
   ],
   "source": [
    "len(link)"
   ]
  },
  {
   "cell_type": "code",
   "execution_count": 117,
   "id": "a1562bc7",
   "metadata": {},
   "outputs": [
    {
     "data": {
      "text/html": [
       "<div>\n",
       "<style scoped>\n",
       "    .dataframe tbody tr th:only-of-type {\n",
       "        vertical-align: middle;\n",
       "    }\n",
       "\n",
       "    .dataframe tbody tr th {\n",
       "        vertical-align: top;\n",
       "    }\n",
       "\n",
       "    .dataframe thead th {\n",
       "        text-align: right;\n",
       "    }\n",
       "</style>\n",
       "<table border=\"1\" class=\"dataframe\">\n",
       "  <thead>\n",
       "    <tr style=\"text-align: right;\">\n",
       "      <th></th>\n",
       "      <th>0</th>\n",
       "    </tr>\n",
       "  </thead>\n",
       "  <tbody>\n",
       "    <tr>\n",
       "      <th>0</th>\n",
       "      <td>/bangalore/doctor/deepthi-rk-shashidhar-gyneco...</td>\n",
       "    </tr>\n",
       "    <tr>\n",
       "      <th>1</th>\n",
       "      <td>/bangalore/doctor/dr-suman-singh-gynecologist-...</td>\n",
       "    </tr>\n",
       "    <tr>\n",
       "      <th>2</th>\n",
       "      <td>/bangalore/doctor/reshu-saraogi-gynecologist-o...</td>\n",
       "    </tr>\n",
       "    <tr>\n",
       "      <th>3</th>\n",
       "      <td>/bangalore/doctor/dr-shafalika-s-b-gynecologis...</td>\n",
       "    </tr>\n",
       "    <tr>\n",
       "      <th>4</th>\n",
       "      <td>/bangalore/doctor/basavaraj-devarashetty-mbbs-...</td>\n",
       "    </tr>\n",
       "    <tr>\n",
       "      <th>...</th>\n",
       "      <td>...</td>\n",
       "    </tr>\n",
       "    <tr>\n",
       "      <th>1375</th>\n",
       "      <td>/hyderabad/doctor/dr-patel-sana-fathima-gyneco...</td>\n",
       "    </tr>\n",
       "    <tr>\n",
       "      <th>1376</th>\n",
       "      <td>/hyderabad/doctor/dr-ch-v-syamala-gynecologist...</td>\n",
       "    </tr>\n",
       "    <tr>\n",
       "      <th>1377</th>\n",
       "      <td>/hyderabad/doctor/neethi-mala-mekala-gynecolog...</td>\n",
       "    </tr>\n",
       "    <tr>\n",
       "      <th>1378</th>\n",
       "      <td>/hyderabad/doctor/dr-p-mrudhula-gynecologist-o...</td>\n",
       "    </tr>\n",
       "    <tr>\n",
       "      <th>1379</th>\n",
       "      <td>/hyderabad/doctor/dr-mounika-6-gynecologist-ob...</td>\n",
       "    </tr>\n",
       "  </tbody>\n",
       "</table>\n",
       "<p>1380 rows × 1 columns</p>\n",
       "</div>"
      ],
      "text/plain": [
       "                                                      0\n",
       "0     /bangalore/doctor/deepthi-rk-shashidhar-gyneco...\n",
       "1     /bangalore/doctor/dr-suman-singh-gynecologist-...\n",
       "2     /bangalore/doctor/reshu-saraogi-gynecologist-o...\n",
       "3     /bangalore/doctor/dr-shafalika-s-b-gynecologis...\n",
       "4     /bangalore/doctor/basavaraj-devarashetty-mbbs-...\n",
       "...                                                 ...\n",
       "1375  /hyderabad/doctor/dr-patel-sana-fathima-gyneco...\n",
       "1376  /hyderabad/doctor/dr-ch-v-syamala-gynecologist...\n",
       "1377  /hyderabad/doctor/neethi-mala-mekala-gynecolog...\n",
       "1378  /hyderabad/doctor/dr-p-mrudhula-gynecologist-o...\n",
       "1379  /hyderabad/doctor/dr-mounika-6-gynecologist-ob...\n",
       "\n",
       "[1380 rows x 1 columns]"
      ]
     },
     "execution_count": 117,
     "metadata": {},
     "output_type": "execute_result"
    }
   ],
   "source": [
    "table5= pd.DataFrame(link)\n",
    "table5"
   ]
  },
  {
   "cell_type": "code",
   "execution_count": 118,
   "id": "56bf6d64",
   "metadata": {},
   "outputs": [],
   "source": [
    "set5=set(table5[0])"
   ]
  },
  {
   "cell_type": "code",
   "execution_count": 119,
   "id": "e80102f7",
   "metadata": {},
   "outputs": [
    {
     "data": {
      "text/plain": [
       "1379"
      ]
     },
     "execution_count": 119,
     "metadata": {},
     "output_type": "execute_result"
    }
   ],
   "source": [
    "len(set5)"
   ]
  },
  {
   "cell_type": "code",
   "execution_count": 120,
   "id": "18e651f5",
   "metadata": {},
   "outputs": [
    {
     "data": {
      "text/html": [
       "<div>\n",
       "<style scoped>\n",
       "    .dataframe tbody tr th:only-of-type {\n",
       "        vertical-align: middle;\n",
       "    }\n",
       "\n",
       "    .dataframe tbody tr th {\n",
       "        vertical-align: top;\n",
       "    }\n",
       "\n",
       "    .dataframe thead th {\n",
       "        text-align: right;\n",
       "    }\n",
       "</style>\n",
       "<table border=\"1\" class=\"dataframe\">\n",
       "  <thead>\n",
       "    <tr style=\"text-align: right;\">\n",
       "      <th></th>\n",
       "      <th>0</th>\n",
       "    </tr>\n",
       "  </thead>\n",
       "  <tbody>\n",
       "    <tr>\n",
       "      <th>0</th>\n",
       "      <td>/pune/doctor/komal-bhadu-obstetrics-gynecology...</td>\n",
       "    </tr>\n",
       "    <tr>\n",
       "      <th>1</th>\n",
       "      <td>/delhi/doctor/dr-rakhi-gupta-gynecologist-obst...</td>\n",
       "    </tr>\n",
       "    <tr>\n",
       "      <th>2</th>\n",
       "      <td>/hyderabad/doctor/dr-s-akhila-bharthi-1-gyneco...</td>\n",
       "    </tr>\n",
       "    <tr>\n",
       "      <th>3</th>\n",
       "      <td>/mumbai/doctor/tejal-poddar?practice_id=114132...</td>\n",
       "    </tr>\n",
       "    <tr>\n",
       "      <th>4</th>\n",
       "      <td>/bangalore/doctor/dr-deepthi-bawa-gynecologist...</td>\n",
       "    </tr>\n",
       "    <tr>\n",
       "      <th>...</th>\n",
       "      <td>...</td>\n",
       "    </tr>\n",
       "    <tr>\n",
       "      <th>1374</th>\n",
       "      <td>/delhi/doctor/dr-kamal-buckshee-nephrologist?p...</td>\n",
       "    </tr>\n",
       "    <tr>\n",
       "      <th>1375</th>\n",
       "      <td>/hyderabad/doctor/dr-nidhi-nair-1-obstetrics-g...</td>\n",
       "    </tr>\n",
       "    <tr>\n",
       "      <th>1376</th>\n",
       "      <td>/pune/doctor/dr-rohini-abhay-somani-gynecologi...</td>\n",
       "    </tr>\n",
       "    <tr>\n",
       "      <th>1377</th>\n",
       "      <td>/delhi/doctor/dr-dr-divya-singhal-gynecologist...</td>\n",
       "    </tr>\n",
       "    <tr>\n",
       "      <th>1378</th>\n",
       "      <td>/delhi/doctor/dr-anita-k-jain-gynecologist-obs...</td>\n",
       "    </tr>\n",
       "  </tbody>\n",
       "</table>\n",
       "<p>1379 rows × 1 columns</p>\n",
       "</div>"
      ],
      "text/plain": [
       "                                                      0\n",
       "0     /pune/doctor/komal-bhadu-obstetrics-gynecology...\n",
       "1     /delhi/doctor/dr-rakhi-gupta-gynecologist-obst...\n",
       "2     /hyderabad/doctor/dr-s-akhila-bharthi-1-gyneco...\n",
       "3     /mumbai/doctor/tejal-poddar?practice_id=114132...\n",
       "4     /bangalore/doctor/dr-deepthi-bawa-gynecologist...\n",
       "...                                                 ...\n",
       "1374  /delhi/doctor/dr-kamal-buckshee-nephrologist?p...\n",
       "1375  /hyderabad/doctor/dr-nidhi-nair-1-obstetrics-g...\n",
       "1376  /pune/doctor/dr-rohini-abhay-somani-gynecologi...\n",
       "1377  /delhi/doctor/dr-dr-divya-singhal-gynecologist...\n",
       "1378  /delhi/doctor/dr-anita-k-jain-gynecologist-obs...\n",
       "\n",
       "[1379 rows x 1 columns]"
      ]
     },
     "execution_count": 120,
     "metadata": {},
     "output_type": "execute_result"
    }
   ],
   "source": [
    "table6= pd.DataFrame(set5)\n",
    "table6"
   ]
  },
  {
   "cell_type": "code",
   "execution_count": 121,
   "id": "ab31d9ae",
   "metadata": {},
   "outputs": [],
   "source": [
    "table6.to_csv('final_gynecologist.csv')"
   ]
  },
  {
   "cell_type": "code",
   "execution_count": null,
   "id": "b021b4e4",
   "metadata": {},
   "outputs": [],
   "source": []
  },
  {
   "cell_type": "markdown",
   "id": "6a472495",
   "metadata": {},
   "source": [
    "# Extracting link for Pediatrician"
   ]
  },
  {
   "cell_type": "code",
   "execution_count": 7,
   "id": "ffb5da51",
   "metadata": {},
   "outputs": [],
   "source": [
    "lis2=['Bangalore','Pune','Delhi', 'Chennai', 'Mumbai','Hyderabad']\n",
    "link = []\n",
    "for i in lis2:\n",
    "    driver=webdriver.Firefox()\n",
    "    \n",
    "    url=f'https://www.practo.com/search/doctors?results_type=doctor&q=%5B%7B%22word%22%3A%22pediatrician%22%2C%22autocompleted%22%3Atrue%2C%22category%22%3A%22subspeciality%22%7D%5D&city={i}'\n",
    "    driver.get(url)\n",
    "\n",
    "    time.sleep(1)  # Allow 2 seconds for the web page to (open depends on you)\n",
    "    scroll_pause_time = 2 # You can set your own pause time. dont slow too slow that might not able to load more data\n",
    "    screen_height = driver.execute_script(\"return window.screen.height;\")  # get the screen height of the web\n",
    "    A = 1\n",
    "\n",
    "    while True:\n",
    "        soup=BeautifulSoup(driver.page_source,'html.parser')\n",
    "            # scroll one screen height each time\n",
    "        driver.execute_script(\"window.scrollTo(0, {screen_height}*{A});\".format(screen_height=screen_height, A=A))\n",
    "        A += 1\n",
    "        time.sleep(scroll_pause_time)\n",
    "            # update scroll height each time after scrolled, as the scroll height can change after we scrolled the page\n",
    "        scroll_height = driver.execute_script(\"return document.body.scrollHeight;\")\n",
    "            # Break the loop when the height we need to scroll to is larger than the total scroll height\n",
    "        if (screen_height) * A > scroll_height:\n",
    "            break\n",
    "\n",
    "\n",
    "\n",
    "        div_lst3 = soup.find_all('div', class_ = \"info-section\")\n",
    "    for div in div_lst3:\n",
    "        \n",
    "        try:\n",
    "            link.append(div.a['href'])\n",
    "        except TypeError:\n",
    "            pass"
   ]
  },
  {
   "cell_type": "code",
   "execution_count": 8,
   "id": "4b6053c1",
   "metadata": {},
   "outputs": [
    {
     "data": {
      "text/plain": [
       "731"
      ]
     },
     "execution_count": 8,
     "metadata": {},
     "output_type": "execute_result"
    }
   ],
   "source": [
    "len(link)"
   ]
  },
  {
   "cell_type": "code",
   "execution_count": 9,
   "id": "bc44660a",
   "metadata": {},
   "outputs": [
    {
     "data": {
      "text/html": [
       "<div>\n",
       "<style scoped>\n",
       "    .dataframe tbody tr th:only-of-type {\n",
       "        vertical-align: middle;\n",
       "    }\n",
       "\n",
       "    .dataframe tbody tr th {\n",
       "        vertical-align: top;\n",
       "    }\n",
       "\n",
       "    .dataframe thead th {\n",
       "        text-align: right;\n",
       "    }\n",
       "</style>\n",
       "<table border=\"1\" class=\"dataframe\">\n",
       "  <thead>\n",
       "    <tr style=\"text-align: right;\">\n",
       "      <th></th>\n",
       "      <th>0</th>\n",
       "    </tr>\n",
       "  </thead>\n",
       "  <tbody>\n",
       "    <tr>\n",
       "      <th>0</th>\n",
       "      <td>/bangalore/doctor/dr-s-d-subba-rao-pediatricia...</td>\n",
       "    </tr>\n",
       "    <tr>\n",
       "      <th>1</th>\n",
       "      <td>/bangalore/doctor/dr-radhakrishna-hegde-pediat...</td>\n",
       "    </tr>\n",
       "    <tr>\n",
       "      <th>2</th>\n",
       "      <td>/bangalore/doctor/dr-supraja-chandrasekar-pedi...</td>\n",
       "    </tr>\n",
       "    <tr>\n",
       "      <th>3</th>\n",
       "      <td>/bangalore/doctor/dr-ragavan-p-s-pediatrician?...</td>\n",
       "    </tr>\n",
       "    <tr>\n",
       "      <th>4</th>\n",
       "      <td>/bangalore/doctor/dr-varsha-saxena-pediatricia...</td>\n",
       "    </tr>\n",
       "    <tr>\n",
       "      <th>...</th>\n",
       "      <td>...</td>\n",
       "    </tr>\n",
       "    <tr>\n",
       "      <th>726</th>\n",
       "      <td>/hyderabad/doctor/dr-anusha-allam-pediatrician...</td>\n",
       "    </tr>\n",
       "    <tr>\n",
       "      <th>727</th>\n",
       "      <td>/hyderabad/doctor/dr-jayati-jhala-pediatrician...</td>\n",
       "    </tr>\n",
       "    <tr>\n",
       "      <th>728</th>\n",
       "      <td>/hyderabad/doctor/madhavachari-pediatrician?pr...</td>\n",
       "    </tr>\n",
       "    <tr>\n",
       "      <th>729</th>\n",
       "      <td>/hyderabad/doctor/dr-poshanna-pediatrician?pra...</td>\n",
       "    </tr>\n",
       "    <tr>\n",
       "      <th>730</th>\n",
       "      <td>/hyderabad/doctor/dr-nikhil-nag-pediatrician?p...</td>\n",
       "    </tr>\n",
       "  </tbody>\n",
       "</table>\n",
       "<p>731 rows × 1 columns</p>\n",
       "</div>"
      ],
      "text/plain": [
       "                                                     0\n",
       "0    /bangalore/doctor/dr-s-d-subba-rao-pediatricia...\n",
       "1    /bangalore/doctor/dr-radhakrishna-hegde-pediat...\n",
       "2    /bangalore/doctor/dr-supraja-chandrasekar-pedi...\n",
       "3    /bangalore/doctor/dr-ragavan-p-s-pediatrician?...\n",
       "4    /bangalore/doctor/dr-varsha-saxena-pediatricia...\n",
       "..                                                 ...\n",
       "726  /hyderabad/doctor/dr-anusha-allam-pediatrician...\n",
       "727  /hyderabad/doctor/dr-jayati-jhala-pediatrician...\n",
       "728  /hyderabad/doctor/madhavachari-pediatrician?pr...\n",
       "729  /hyderabad/doctor/dr-poshanna-pediatrician?pra...\n",
       "730  /hyderabad/doctor/dr-nikhil-nag-pediatrician?p...\n",
       "\n",
       "[731 rows x 1 columns]"
      ]
     },
     "execution_count": 9,
     "metadata": {},
     "output_type": "execute_result"
    }
   ],
   "source": [
    "table7= pd.DataFrame(link)\n",
    "table7"
   ]
  },
  {
   "cell_type": "code",
   "execution_count": 10,
   "id": "e2f08344",
   "metadata": {},
   "outputs": [],
   "source": [
    "set6=set(table7[0])"
   ]
  },
  {
   "cell_type": "code",
   "execution_count": 12,
   "id": "e6106c55",
   "metadata": {},
   "outputs": [
    {
     "data": {
      "text/plain": [
       "730"
      ]
     },
     "execution_count": 12,
     "metadata": {},
     "output_type": "execute_result"
    }
   ],
   "source": [
    "len(set6)"
   ]
  },
  {
   "cell_type": "code",
   "execution_count": 13,
   "id": "75a51a35",
   "metadata": {},
   "outputs": [
    {
     "data": {
      "text/html": [
       "<div>\n",
       "<style scoped>\n",
       "    .dataframe tbody tr th:only-of-type {\n",
       "        vertical-align: middle;\n",
       "    }\n",
       "\n",
       "    .dataframe tbody tr th {\n",
       "        vertical-align: top;\n",
       "    }\n",
       "\n",
       "    .dataframe thead th {\n",
       "        text-align: right;\n",
       "    }\n",
       "</style>\n",
       "<table border=\"1\" class=\"dataframe\">\n",
       "  <thead>\n",
       "    <tr style=\"text-align: right;\">\n",
       "      <th></th>\n",
       "      <th>0</th>\n",
       "    </tr>\n",
       "  </thead>\n",
       "  <tbody>\n",
       "    <tr>\n",
       "      <th>0</th>\n",
       "      <td>/bangalore/doctor/dr-lathiesh-kumar-kambham?pr...</td>\n",
       "    </tr>\n",
       "    <tr>\n",
       "      <th>1</th>\n",
       "      <td>/delhi/doctor/dr-vikram-gagneja-pediatrician-2...</td>\n",
       "    </tr>\n",
       "    <tr>\n",
       "      <th>2</th>\n",
       "      <td>/bangalore/doctor/manu-chaudhary-2-pediatricia...</td>\n",
       "    </tr>\n",
       "    <tr>\n",
       "      <th>3</th>\n",
       "      <td>/bangalore/doctor/dr-h-a-venkatesh-pediatricia...</td>\n",
       "    </tr>\n",
       "    <tr>\n",
       "      <th>4</th>\n",
       "      <td>/bangalore/doctor/dr-deepa-mohan-sharma-pediat...</td>\n",
       "    </tr>\n",
       "    <tr>\n",
       "      <th>...</th>\n",
       "      <td>...</td>\n",
       "    </tr>\n",
       "    <tr>\n",
       "      <th>725</th>\n",
       "      <td>/hyderabad/doctor/dr-jayati-jhala-pediatrician...</td>\n",
       "    </tr>\n",
       "    <tr>\n",
       "      <th>726</th>\n",
       "      <td>/bangalore/doctor/dr-neha-jain-5-pediatrician-...</td>\n",
       "    </tr>\n",
       "    <tr>\n",
       "      <th>727</th>\n",
       "      <td>/pune/doctor/dr-kaustubh-prabhudesai-pediatric...</td>\n",
       "    </tr>\n",
       "    <tr>\n",
       "      <th>728</th>\n",
       "      <td>/delhi/doctor/mandeep-walia-pulmonologist?prac...</td>\n",
       "    </tr>\n",
       "    <tr>\n",
       "      <th>729</th>\n",
       "      <td>/delhi/doctor/dr-himanshu-batra-pediatrician?p...</td>\n",
       "    </tr>\n",
       "  </tbody>\n",
       "</table>\n",
       "<p>730 rows × 1 columns</p>\n",
       "</div>"
      ],
      "text/plain": [
       "                                                     0\n",
       "0    /bangalore/doctor/dr-lathiesh-kumar-kambham?pr...\n",
       "1    /delhi/doctor/dr-vikram-gagneja-pediatrician-2...\n",
       "2    /bangalore/doctor/manu-chaudhary-2-pediatricia...\n",
       "3    /bangalore/doctor/dr-h-a-venkatesh-pediatricia...\n",
       "4    /bangalore/doctor/dr-deepa-mohan-sharma-pediat...\n",
       "..                                                 ...\n",
       "725  /hyderabad/doctor/dr-jayati-jhala-pediatrician...\n",
       "726  /bangalore/doctor/dr-neha-jain-5-pediatrician-...\n",
       "727  /pune/doctor/dr-kaustubh-prabhudesai-pediatric...\n",
       "728  /delhi/doctor/mandeep-walia-pulmonologist?prac...\n",
       "729  /delhi/doctor/dr-himanshu-batra-pediatrician?p...\n",
       "\n",
       "[730 rows x 1 columns]"
      ]
     },
     "execution_count": 13,
     "metadata": {},
     "output_type": "execute_result"
    }
   ],
   "source": [
    "table8= pd.DataFrame(set6)\n",
    "table8"
   ]
  },
  {
   "cell_type": "code",
   "execution_count": 14,
   "id": "317fec0b",
   "metadata": {},
   "outputs": [],
   "source": [
    "table8.to_csv('final_pediatrician.csv')"
   ]
  },
  {
   "cell_type": "code",
   "execution_count": null,
   "id": "cf7fae15",
   "metadata": {},
   "outputs": [],
   "source": []
  },
  {
   "cell_type": "markdown",
   "id": "8c5c3480",
   "metadata": {},
   "source": [
    "# Extracting link for Orthopedist"
   ]
  },
  {
   "cell_type": "code",
   "execution_count": 15,
   "id": "6c3c1ddc",
   "metadata": {},
   "outputs": [],
   "source": [
    "lis2=['Bangalore','Pune','Delhi', 'Chennai', 'Mumbai','Hyderabad']\n",
    "link = []\n",
    "for i in lis2:\n",
    "    driver=webdriver.Firefox()\n",
    "    \n",
    "    url=f'https://www.practo.com/search/doctors?results_type=doctor&q=%5B%7B%22word%22%3A%22orthopedist%22%2C%22autocompleted%22%3Atrue%2C%22category%22%3A%22subspeciality%22%7D%5D&city={i}'\n",
    "    driver.get(url)\n",
    "\n",
    "    time.sleep(1)  # Allow 2 seconds for the web page to (open depends on you)\n",
    "    scroll_pause_time = 2 # You can set your own pause time. dont slow too slow that might not able to load more data\n",
    "    screen_height = driver.execute_script(\"return window.screen.height;\")  # get the screen height of the web\n",
    "    A = 1\n",
    "\n",
    "    while True:\n",
    "        soup=BeautifulSoup(driver.page_source,'html.parser')\n",
    "            # scroll one screen height each time\n",
    "        driver.execute_script(\"window.scrollTo(0, {screen_height}*{A});\".format(screen_height=screen_height, A=A))\n",
    "        A += 1\n",
    "        time.sleep(scroll_pause_time)\n",
    "            # update scroll height each time after scrolled, as the scroll height can change after we scrolled the page\n",
    "        scroll_height = driver.execute_script(\"return document.body.scrollHeight;\")\n",
    "            # Break the loop when the height we need to scroll to is larger than the total scroll height\n",
    "        if (screen_height) * A > scroll_height:\n",
    "            break\n",
    "\n",
    "\n",
    "\n",
    "        div_lst3 = soup.find_all('div', class_ = \"info-section\")\n",
    "    for div in div_lst3:\n",
    "        \n",
    "        try:\n",
    "            link.append(div.a['href'])\n",
    "        except TypeError:\n",
    "            pass"
   ]
  },
  {
   "cell_type": "code",
   "execution_count": 16,
   "id": "d2d5230c",
   "metadata": {},
   "outputs": [
    {
     "data": {
      "text/plain": [
       "791"
      ]
     },
     "execution_count": 16,
     "metadata": {},
     "output_type": "execute_result"
    }
   ],
   "source": [
    "len(link)"
   ]
  },
  {
   "cell_type": "code",
   "execution_count": 17,
   "id": "2730deae",
   "metadata": {},
   "outputs": [
    {
     "data": {
      "text/html": [
       "<div>\n",
       "<style scoped>\n",
       "    .dataframe tbody tr th:only-of-type {\n",
       "        vertical-align: middle;\n",
       "    }\n",
       "\n",
       "    .dataframe tbody tr th {\n",
       "        vertical-align: top;\n",
       "    }\n",
       "\n",
       "    .dataframe thead th {\n",
       "        text-align: right;\n",
       "    }\n",
       "</style>\n",
       "<table border=\"1\" class=\"dataframe\">\n",
       "  <thead>\n",
       "    <tr style=\"text-align: right;\">\n",
       "      <th></th>\n",
       "      <th>0</th>\n",
       "    </tr>\n",
       "  </thead>\n",
       "  <tbody>\n",
       "    <tr>\n",
       "      <th>0</th>\n",
       "      <td>/bangalore/doctor/b-a-gopala-krishna-1-orthope...</td>\n",
       "    </tr>\n",
       "    <tr>\n",
       "      <th>1</th>\n",
       "      <td>/bangalore/doctor/dr-shashidhar-v?practice_id=...</td>\n",
       "    </tr>\n",
       "    <tr>\n",
       "      <th>2</th>\n",
       "      <td>/bangalore/doctor/dr-sharath-kumar-shetty-orth...</td>\n",
       "    </tr>\n",
       "    <tr>\n",
       "      <th>3</th>\n",
       "      <td>/bangalore/doctor/somanna-malchira-orthopedist...</td>\n",
       "    </tr>\n",
       "    <tr>\n",
       "      <th>4</th>\n",
       "      <td>/bangalore/doctor/dr-prashanth-kalale-orthoped...</td>\n",
       "    </tr>\n",
       "    <tr>\n",
       "      <th>...</th>\n",
       "      <td>...</td>\n",
       "    </tr>\n",
       "    <tr>\n",
       "      <th>786</th>\n",
       "      <td>/hyderabad/doctor/kiran-varma-uddaraju-orthopa...</td>\n",
       "    </tr>\n",
       "    <tr>\n",
       "      <th>787</th>\n",
       "      <td>/hyderabad/doctor/dr-praneeth-reddy-c-v-orthop...</td>\n",
       "    </tr>\n",
       "    <tr>\n",
       "      <th>788</th>\n",
       "      <td>/hyderabad/doctor/dr-j-vamshidhar-reddy-orthop...</td>\n",
       "    </tr>\n",
       "    <tr>\n",
       "      <th>789</th>\n",
       "      <td>/hyderabad/doctor/dr-p-uday-kumar-reddy-orthop...</td>\n",
       "    </tr>\n",
       "    <tr>\n",
       "      <th>790</th>\n",
       "      <td>/hyderabad/doctor/dr-md-aslam-mohsin-general-p...</td>\n",
       "    </tr>\n",
       "  </tbody>\n",
       "</table>\n",
       "<p>791 rows × 1 columns</p>\n",
       "</div>"
      ],
      "text/plain": [
       "                                                     0\n",
       "0    /bangalore/doctor/b-a-gopala-krishna-1-orthope...\n",
       "1    /bangalore/doctor/dr-shashidhar-v?practice_id=...\n",
       "2    /bangalore/doctor/dr-sharath-kumar-shetty-orth...\n",
       "3    /bangalore/doctor/somanna-malchira-orthopedist...\n",
       "4    /bangalore/doctor/dr-prashanth-kalale-orthoped...\n",
       "..                                                 ...\n",
       "786  /hyderabad/doctor/kiran-varma-uddaraju-orthopa...\n",
       "787  /hyderabad/doctor/dr-praneeth-reddy-c-v-orthop...\n",
       "788  /hyderabad/doctor/dr-j-vamshidhar-reddy-orthop...\n",
       "789  /hyderabad/doctor/dr-p-uday-kumar-reddy-orthop...\n",
       "790  /hyderabad/doctor/dr-md-aslam-mohsin-general-p...\n",
       "\n",
       "[791 rows x 1 columns]"
      ]
     },
     "execution_count": 17,
     "metadata": {},
     "output_type": "execute_result"
    }
   ],
   "source": [
    "table9= pd.DataFrame(link)\n",
    "table9"
   ]
  },
  {
   "cell_type": "code",
   "execution_count": 20,
   "id": "97a48103",
   "metadata": {},
   "outputs": [
    {
     "data": {
      "text/plain": [
       "791"
      ]
     },
     "execution_count": 20,
     "metadata": {},
     "output_type": "execute_result"
    }
   ],
   "source": [
    "len(link)"
   ]
  },
  {
   "cell_type": "code",
   "execution_count": 18,
   "id": "7dc3d5a3",
   "metadata": {},
   "outputs": [],
   "source": [
    "set7=set(table9[0])"
   ]
  },
  {
   "cell_type": "code",
   "execution_count": 19,
   "id": "39a23a22",
   "metadata": {},
   "outputs": [
    {
     "data": {
      "text/plain": [
       "791"
      ]
     },
     "execution_count": 19,
     "metadata": {},
     "output_type": "execute_result"
    }
   ],
   "source": [
    "len(set7)"
   ]
  },
  {
   "cell_type": "code",
   "execution_count": 21,
   "id": "4c01c252",
   "metadata": {},
   "outputs": [],
   "source": [
    "table9.to_csv('final_orthopedist.csv')"
   ]
  },
  {
   "cell_type": "markdown",
   "id": "0268a6f8",
   "metadata": {},
   "source": [
    "# Extracting link for Dermatologist"
   ]
  },
  {
   "cell_type": "code",
   "execution_count": 7,
   "id": "52835482",
   "metadata": {},
   "outputs": [],
   "source": [
    "lis2=['Bangalore','Pune','Delhi', 'Chennai', 'Mumbai','Hyderabad']\n",
    "link = []\n",
    "for i in lis2:\n",
    "    driver=webdriver.Firefox()\n",
    "    \n",
    "    url=f'https://www.practo.com/search/doctors?results_type=doctor&q=%5B%7B%22word%22%3A%22dermatologist%22%2C%22autocompleted%22%3Atrue%2C%22category%22%3A%22subspeciality%22%7D%5D&city={i}'\n",
    "    driver.get(url)\n",
    "\n",
    "    time.sleep(1)  # Allow 2 seconds for the web page to (open depends on you)\n",
    "    scroll_pause_time = 2 # You can set your own pause time. dont slow too slow that might not able to load more data\n",
    "    screen_height = driver.execute_script(\"return window.screen.height;\")  # get the screen height of the web\n",
    "    A = 1\n",
    "\n",
    "    while True:\n",
    "        soup=BeautifulSoup(driver.page_source,'html.parser')\n",
    "            # scroll one screen height each time\n",
    "        driver.execute_script(\"window.scrollTo(0, {screen_height}*{A});\".format(screen_height=screen_height, A=A))\n",
    "        A += 1\n",
    "        time.sleep(scroll_pause_time)\n",
    "            # update scroll height each time after scrolled, as the scroll height can change after we scrolled the page\n",
    "        scroll_height = driver.execute_script(\"return document.body.scrollHeight;\")\n",
    "            # Break the loop when the height we need to scroll to is larger than the total scroll height\n",
    "        if (screen_height) * A > scroll_height:\n",
    "            break\n",
    "\n",
    "\n",
    "\n",
    "        div_lst3 = soup.find_all('div', class_ = \"info-section\")\n",
    "    for div in div_lst3:\n",
    "        \n",
    "        try:\n",
    "            link.append(div.a['href'])\n",
    "        except TypeError:\n",
    "            pass"
   ]
  },
  {
   "cell_type": "code",
   "execution_count": 8,
   "id": "f5612ac7",
   "metadata": {},
   "outputs": [
    {
     "data": {
      "text/plain": [
       "628"
      ]
     },
     "execution_count": 8,
     "metadata": {},
     "output_type": "execute_result"
    }
   ],
   "source": [
    "len(link)"
   ]
  },
  {
   "cell_type": "code",
   "execution_count": 9,
   "id": "9a7c5183",
   "metadata": {},
   "outputs": [
    {
     "data": {
      "text/html": [
       "<div>\n",
       "<style scoped>\n",
       "    .dataframe tbody tr th:only-of-type {\n",
       "        vertical-align: middle;\n",
       "    }\n",
       "\n",
       "    .dataframe tbody tr th {\n",
       "        vertical-align: top;\n",
       "    }\n",
       "\n",
       "    .dataframe thead th {\n",
       "        text-align: right;\n",
       "    }\n",
       "</style>\n",
       "<table border=\"1\" class=\"dataframe\">\n",
       "  <thead>\n",
       "    <tr style=\"text-align: right;\">\n",
       "      <th></th>\n",
       "      <th>0</th>\n",
       "    </tr>\n",
       "  </thead>\n",
       "  <tbody>\n",
       "    <tr>\n",
       "      <th>0</th>\n",
       "      <td>/bangalore/doctor/dr-deepak-devakar-dermatolog...</td>\n",
       "    </tr>\n",
       "    <tr>\n",
       "      <th>1</th>\n",
       "      <td>/bangalore/doctor/dr-partha-sarathi-dutta-roy-...</td>\n",
       "    </tr>\n",
       "    <tr>\n",
       "      <th>2</th>\n",
       "      <td>/bangalore/doctor/juvitha-rasquinha-dermatolog...</td>\n",
       "    </tr>\n",
       "    <tr>\n",
       "      <th>3</th>\n",
       "      <td>/bangalore/doctor/dr-hari-krishan-kumar-y-derm...</td>\n",
       "    </tr>\n",
       "    <tr>\n",
       "      <th>4</th>\n",
       "      <td>/bangalore/doctor/shashidhar-t-dermatologist-c...</td>\n",
       "    </tr>\n",
       "    <tr>\n",
       "      <th>...</th>\n",
       "      <td>...</td>\n",
       "    </tr>\n",
       "    <tr>\n",
       "      <th>623</th>\n",
       "      <td>/hyderabad/doctor/ashwani-p-dermatologist?prac...</td>\n",
       "    </tr>\n",
       "    <tr>\n",
       "      <th>624</th>\n",
       "      <td>/hyderabad/doctor/dr-shruthi-23-dermatologist?...</td>\n",
       "    </tr>\n",
       "    <tr>\n",
       "      <th>625</th>\n",
       "      <td>/hyderabad/doctor/dr-vasavi-latha-chandika-der...</td>\n",
       "    </tr>\n",
       "    <tr>\n",
       "      <th>626</th>\n",
       "      <td>/hyderabad/doctor/dr-p-sravanthi-dermatologist...</td>\n",
       "    </tr>\n",
       "    <tr>\n",
       "      <th>627</th>\n",
       "      <td>/hyderabad/doctor/shilpa-reddy-gill-dermatolog...</td>\n",
       "    </tr>\n",
       "  </tbody>\n",
       "</table>\n",
       "<p>628 rows × 1 columns</p>\n",
       "</div>"
      ],
      "text/plain": [
       "                                                     0\n",
       "0    /bangalore/doctor/dr-deepak-devakar-dermatolog...\n",
       "1    /bangalore/doctor/dr-partha-sarathi-dutta-roy-...\n",
       "2    /bangalore/doctor/juvitha-rasquinha-dermatolog...\n",
       "3    /bangalore/doctor/dr-hari-krishan-kumar-y-derm...\n",
       "4    /bangalore/doctor/shashidhar-t-dermatologist-c...\n",
       "..                                                 ...\n",
       "623  /hyderabad/doctor/ashwani-p-dermatologist?prac...\n",
       "624  /hyderabad/doctor/dr-shruthi-23-dermatologist?...\n",
       "625  /hyderabad/doctor/dr-vasavi-latha-chandika-der...\n",
       "626  /hyderabad/doctor/dr-p-sravanthi-dermatologist...\n",
       "627  /hyderabad/doctor/shilpa-reddy-gill-dermatolog...\n",
       "\n",
       "[628 rows x 1 columns]"
      ]
     },
     "execution_count": 9,
     "metadata": {},
     "output_type": "execute_result"
    }
   ],
   "source": [
    "table10= pd.DataFrame(link)\n",
    "table10"
   ]
  },
  {
   "cell_type": "code",
   "execution_count": 10,
   "id": "88400d1f",
   "metadata": {},
   "outputs": [],
   "source": [
    "set8=set(table10[0])"
   ]
  },
  {
   "cell_type": "code",
   "execution_count": 11,
   "id": "ce6f08c1",
   "metadata": {},
   "outputs": [
    {
     "data": {
      "text/plain": [
       "627"
      ]
     },
     "execution_count": 11,
     "metadata": {},
     "output_type": "execute_result"
    }
   ],
   "source": [
    "len(set8)"
   ]
  },
  {
   "cell_type": "code",
   "execution_count": 12,
   "id": "b89a528c",
   "metadata": {},
   "outputs": [
    {
     "data": {
      "text/html": [
       "<div>\n",
       "<style scoped>\n",
       "    .dataframe tbody tr th:only-of-type {\n",
       "        vertical-align: middle;\n",
       "    }\n",
       "\n",
       "    .dataframe tbody tr th {\n",
       "        vertical-align: top;\n",
       "    }\n",
       "\n",
       "    .dataframe thead th {\n",
       "        text-align: right;\n",
       "    }\n",
       "</style>\n",
       "<table border=\"1\" class=\"dataframe\">\n",
       "  <thead>\n",
       "    <tr style=\"text-align: right;\">\n",
       "      <th></th>\n",
       "      <th>0</th>\n",
       "    </tr>\n",
       "  </thead>\n",
       "  <tbody>\n",
       "    <tr>\n",
       "      <th>0</th>\n",
       "      <td>/mumbai/doctor/amit-gulati-1-dermatologist?pra...</td>\n",
       "    </tr>\n",
       "    <tr>\n",
       "      <th>1</th>\n",
       "      <td>/mumbai/doctor/simple-aher-dermatologist?pract...</td>\n",
       "    </tr>\n",
       "    <tr>\n",
       "      <th>2</th>\n",
       "      <td>/hyderabad/doctor/dr-dr-pooja-kondadi-dermatol...</td>\n",
       "    </tr>\n",
       "    <tr>\n",
       "      <th>3</th>\n",
       "      <td>/pune/doctor/anuradha-s-patil-dermatologist?pr...</td>\n",
       "    </tr>\n",
       "    <tr>\n",
       "      <th>4</th>\n",
       "      <td>/delhi/doctor/dr-chiranjiv-chhabra-cosmetic-pl...</td>\n",
       "    </tr>\n",
       "    <tr>\n",
       "      <th>...</th>\n",
       "      <td>...</td>\n",
       "    </tr>\n",
       "    <tr>\n",
       "      <th>622</th>\n",
       "      <td>/delhi/doctor/dr-tapesh-sharma-dermatologist?p...</td>\n",
       "    </tr>\n",
       "    <tr>\n",
       "      <th>623</th>\n",
       "      <td>/chennai/doctor/dr-rajkumar-kannan-dermatologi...</td>\n",
       "    </tr>\n",
       "    <tr>\n",
       "      <th>624</th>\n",
       "      <td>/pune/doctor/dr-vijay-nagdev-dermatologist-cos...</td>\n",
       "    </tr>\n",
       "    <tr>\n",
       "      <th>625</th>\n",
       "      <td>/delhi/doctor/tanvi-gupta-arora-dermatologist?...</td>\n",
       "    </tr>\n",
       "    <tr>\n",
       "      <th>626</th>\n",
       "      <td>/bangalore/doctor/dr-shobha-s-m-dermatologist?...</td>\n",
       "    </tr>\n",
       "  </tbody>\n",
       "</table>\n",
       "<p>627 rows × 1 columns</p>\n",
       "</div>"
      ],
      "text/plain": [
       "                                                     0\n",
       "0    /mumbai/doctor/amit-gulati-1-dermatologist?pra...\n",
       "1    /mumbai/doctor/simple-aher-dermatologist?pract...\n",
       "2    /hyderabad/doctor/dr-dr-pooja-kondadi-dermatol...\n",
       "3    /pune/doctor/anuradha-s-patil-dermatologist?pr...\n",
       "4    /delhi/doctor/dr-chiranjiv-chhabra-cosmetic-pl...\n",
       "..                                                 ...\n",
       "622  /delhi/doctor/dr-tapesh-sharma-dermatologist?p...\n",
       "623  /chennai/doctor/dr-rajkumar-kannan-dermatologi...\n",
       "624  /pune/doctor/dr-vijay-nagdev-dermatologist-cos...\n",
       "625  /delhi/doctor/tanvi-gupta-arora-dermatologist?...\n",
       "626  /bangalore/doctor/dr-shobha-s-m-dermatologist?...\n",
       "\n",
       "[627 rows x 1 columns]"
      ]
     },
     "execution_count": 12,
     "metadata": {},
     "output_type": "execute_result"
    }
   ],
   "source": [
    "table11= pd.DataFrame(set8)\n",
    "table11"
   ]
  },
  {
   "cell_type": "code",
   "execution_count": 13,
   "id": "50d22188",
   "metadata": {},
   "outputs": [],
   "source": [
    "table11.to_csv('final_Dermatologist.csv')"
   ]
  },
  {
   "cell_type": "markdown",
   "id": "0ad4fac2",
   "metadata": {},
   "source": [
    "# Extracting link for Physiotherapist"
   ]
  },
  {
   "cell_type": "code",
   "execution_count": 14,
   "id": "d9ebc833",
   "metadata": {},
   "outputs": [],
   "source": [
    "lis2=['Bangalore','Pune','Delhi', 'Chennai', 'Mumbai','Hyderabad']\n",
    "link = []\n",
    "for i in lis2:\n",
    "    driver=webdriver.Firefox()\n",
    "    \n",
    "    url=f'https://www.practo.com/search/doctors?results_type=doctor&q=%5B%7B%22word%22%3A%22physiotherapist%22%2C%22autocompleted%22%3Atrue%2C%22category%22%3A%22subspeciality%22%7D%5D&city={i}'\n",
    "    driver.get(url)\n",
    "\n",
    "    time.sleep(1)  # Allow 2 seconds for the web page to (open depends on you)\n",
    "    scroll_pause_time = 2 # You can set your own pause time. dont slow too slow that might not able to load more data\n",
    "    screen_height = driver.execute_script(\"return window.screen.height;\")  # get the screen height of the web\n",
    "    A = 1\n",
    "\n",
    "    while True:\n",
    "        soup=BeautifulSoup(driver.page_source,'html.parser')\n",
    "            # scroll one screen height each time\n",
    "        driver.execute_script(\"window.scrollTo(0, {screen_height}*{A});\".format(screen_height=screen_height, A=A))\n",
    "        A += 1\n",
    "        time.sleep(scroll_pause_time)\n",
    "            # update scroll height each time after scrolled, as the scroll height can change after we scrolled the page\n",
    "        scroll_height = driver.execute_script(\"return document.body.scrollHeight;\")\n",
    "            # Break the loop when the height we need to scroll to is larger than the total scroll height\n",
    "        if (screen_height) * A > scroll_height:\n",
    "            break\n",
    "\n",
    "\n",
    "\n",
    "        div_lst3 = soup.find_all('div', class_ = \"info-section\")\n",
    "    for div in div_lst3:\n",
    "        \n",
    "        try:\n",
    "            link.append(div.a['href'])\n",
    "        except TypeError:\n",
    "            pass"
   ]
  },
  {
   "cell_type": "code",
   "execution_count": 15,
   "id": "0141a11c",
   "metadata": {},
   "outputs": [
    {
     "data": {
      "text/plain": [
       "637"
      ]
     },
     "execution_count": 15,
     "metadata": {},
     "output_type": "execute_result"
    }
   ],
   "source": [
    "len(link)"
   ]
  },
  {
   "cell_type": "code",
   "execution_count": 16,
   "id": "c40d577d",
   "metadata": {},
   "outputs": [
    {
     "data": {
      "text/html": [
       "<div>\n",
       "<style scoped>\n",
       "    .dataframe tbody tr th:only-of-type {\n",
       "        vertical-align: middle;\n",
       "    }\n",
       "\n",
       "    .dataframe tbody tr th {\n",
       "        vertical-align: top;\n",
       "    }\n",
       "\n",
       "    .dataframe thead th {\n",
       "        text-align: right;\n",
       "    }\n",
       "</style>\n",
       "<table border=\"1\" class=\"dataframe\">\n",
       "  <thead>\n",
       "    <tr style=\"text-align: right;\">\n",
       "      <th></th>\n",
       "      <th>0</th>\n",
       "    </tr>\n",
       "  </thead>\n",
       "  <tbody>\n",
       "    <tr>\n",
       "      <th>0</th>\n",
       "      <td>/bangalore/therapist/kamalika-m-bhattacharya-p...</td>\n",
       "    </tr>\n",
       "    <tr>\n",
       "      <th>1</th>\n",
       "      <td>/bangalore/therapist/dr-jyoti-raghavendra-pt-p...</td>\n",
       "    </tr>\n",
       "    <tr>\n",
       "      <th>2</th>\n",
       "      <td>/bangalore/therapist/gomathi-3-physiotherapist...</td>\n",
       "    </tr>\n",
       "    <tr>\n",
       "      <th>3</th>\n",
       "      <td>/bangalore/therapist/pooja-jhade-physiotherapi...</td>\n",
       "    </tr>\n",
       "    <tr>\n",
       "      <th>4</th>\n",
       "      <td>/bangalore/therapist/ruchika-bhargava-physioth...</td>\n",
       "    </tr>\n",
       "    <tr>\n",
       "      <th>...</th>\n",
       "      <td>...</td>\n",
       "    </tr>\n",
       "    <tr>\n",
       "      <th>632</th>\n",
       "      <td>/hyderabad/therapist/dr-divya-krupa-n-physioth...</td>\n",
       "    </tr>\n",
       "    <tr>\n",
       "      <th>633</th>\n",
       "      <td>/hyderabad/therapist/suresh-babu-gajulla-pt-ph...</td>\n",
       "    </tr>\n",
       "    <tr>\n",
       "      <th>634</th>\n",
       "      <td>/hyderabad/therapist/setlem-manasa-pt-physioth...</td>\n",
       "    </tr>\n",
       "    <tr>\n",
       "      <th>635</th>\n",
       "      <td>/hyderabad/therapist/mamidi-sai-chand-pt-physi...</td>\n",
       "    </tr>\n",
       "    <tr>\n",
       "      <th>636</th>\n",
       "      <td>/hyderabad/therapist/kranthi-kumar-kotapoori-p...</td>\n",
       "    </tr>\n",
       "  </tbody>\n",
       "</table>\n",
       "<p>637 rows × 1 columns</p>\n",
       "</div>"
      ],
      "text/plain": [
       "                                                     0\n",
       "0    /bangalore/therapist/kamalika-m-bhattacharya-p...\n",
       "1    /bangalore/therapist/dr-jyoti-raghavendra-pt-p...\n",
       "2    /bangalore/therapist/gomathi-3-physiotherapist...\n",
       "3    /bangalore/therapist/pooja-jhade-physiotherapi...\n",
       "4    /bangalore/therapist/ruchika-bhargava-physioth...\n",
       "..                                                 ...\n",
       "632  /hyderabad/therapist/dr-divya-krupa-n-physioth...\n",
       "633  /hyderabad/therapist/suresh-babu-gajulla-pt-ph...\n",
       "634  /hyderabad/therapist/setlem-manasa-pt-physioth...\n",
       "635  /hyderabad/therapist/mamidi-sai-chand-pt-physi...\n",
       "636  /hyderabad/therapist/kranthi-kumar-kotapoori-p...\n",
       "\n",
       "[637 rows x 1 columns]"
      ]
     },
     "execution_count": 16,
     "metadata": {},
     "output_type": "execute_result"
    }
   ],
   "source": [
    "table12= pd.DataFrame(link)\n",
    "table12"
   ]
  },
  {
   "cell_type": "code",
   "execution_count": 17,
   "id": "1b427fa6",
   "metadata": {},
   "outputs": [],
   "source": [
    "table12.to_csv('1_Dermatologist.csv')"
   ]
  },
  {
   "cell_type": "code",
   "execution_count": 21,
   "id": "614fce6e",
   "metadata": {},
   "outputs": [],
   "source": [
    "set9=set(table12[0])"
   ]
  },
  {
   "cell_type": "code",
   "execution_count": 22,
   "id": "be019c52",
   "metadata": {},
   "outputs": [
    {
     "data": {
      "text/plain": [
       "359"
      ]
     },
     "execution_count": 22,
     "metadata": {},
     "output_type": "execute_result"
    }
   ],
   "source": [
    "len(set9)"
   ]
  },
  {
   "cell_type": "code",
   "execution_count": 24,
   "id": "eb0764b6",
   "metadata": {},
   "outputs": [],
   "source": []
  },
  {
   "cell_type": "code",
   "execution_count": 18,
   "id": "8da848cb",
   "metadata": {},
   "outputs": [],
   "source": [
    "lis2=['Pune','Delhi']\n",
    "link = []\n",
    "for i in lis2:\n",
    "    driver=webdriver.Firefox()\n",
    "    \n",
    "    url=f'https://www.practo.com/search/doctors?results_type=doctor&q=%5B%7B%22word%22%3A%22physiotherapist%22%2C%22autocompleted%22%3Atrue%2C%22category%22%3A%22subspeciality%22%7D%5D&city={i}'\n",
    "    driver.get(url)\n",
    "\n",
    "    time.sleep(1)  # Allow 2 seconds for the web page to (open depends on you)\n",
    "    scroll_pause_time = 2 # You can set your own pause time. dont slow too slow that might not able to load more data\n",
    "    screen_height = driver.execute_script(\"return window.screen.height;\")  # get the screen height of the web\n",
    "    A = 1\n",
    "\n",
    "    while True:\n",
    "        soup=BeautifulSoup(driver.page_source,'html.parser')\n",
    "            # scroll one screen height each time\n",
    "        driver.execute_script(\"window.scrollTo(0, {screen_height}*{A});\".format(screen_height=screen_height, A=A))\n",
    "        A += 1\n",
    "        time.sleep(scroll_pause_time)\n",
    "            # update scroll height each time after scrolled, as the scroll height can change after we scrolled the page\n",
    "        scroll_height = driver.execute_script(\"return document.body.scrollHeight;\")\n",
    "            # Break the loop when the height we need to scroll to is larger than the total scroll height\n",
    "        if (screen_height) * A > scroll_height:\n",
    "            break\n",
    "\n",
    "\n",
    "\n",
    "        div_lst3 = soup.find_all('div', class_ = \"info-section\")\n",
    "    for div in div_lst3:\n",
    "        \n",
    "        try:\n",
    "            link.append(div.a['href'])\n",
    "        except TypeError:\n",
    "            pass"
   ]
  },
  {
   "cell_type": "code",
   "execution_count": 19,
   "id": "4f555a78",
   "metadata": {},
   "outputs": [
    {
     "data": {
      "text/plain": [
       "112"
      ]
     },
     "execution_count": 19,
     "metadata": {},
     "output_type": "execute_result"
    }
   ],
   "source": [
    "len(link)"
   ]
  },
  {
   "cell_type": "code",
   "execution_count": 20,
   "id": "f1b58a0f",
   "metadata": {},
   "outputs": [
    {
     "data": {
      "text/html": [
       "<div>\n",
       "<style scoped>\n",
       "    .dataframe tbody tr th:only-of-type {\n",
       "        vertical-align: middle;\n",
       "    }\n",
       "\n",
       "    .dataframe tbody tr th {\n",
       "        vertical-align: top;\n",
       "    }\n",
       "\n",
       "    .dataframe thead th {\n",
       "        text-align: right;\n",
       "    }\n",
       "</style>\n",
       "<table border=\"1\" class=\"dataframe\">\n",
       "  <thead>\n",
       "    <tr style=\"text-align: right;\">\n",
       "      <th></th>\n",
       "      <th>0</th>\n",
       "    </tr>\n",
       "  </thead>\n",
       "  <tbody>\n",
       "    <tr>\n",
       "      <th>0</th>\n",
       "      <td>/pune/therapist/dr-umesh-d-falak-physiotherapi...</td>\n",
       "    </tr>\n",
       "    <tr>\n",
       "      <th>1</th>\n",
       "      <td>/pune/therapist/md-shadab-alam-physiotherapist...</td>\n",
       "    </tr>\n",
       "    <tr>\n",
       "      <th>2</th>\n",
       "      <td>/pune/therapist/dr-sumit-gupta-1-physiotherapi...</td>\n",
       "    </tr>\n",
       "    <tr>\n",
       "      <th>3</th>\n",
       "      <td>/pune/therapist/dr-tariq-shaikh?practice_id=12...</td>\n",
       "    </tr>\n",
       "    <tr>\n",
       "      <th>4</th>\n",
       "      <td>/pune/therapist/dr-mukesh-vyas-physiotherapist...</td>\n",
       "    </tr>\n",
       "    <tr>\n",
       "      <th>...</th>\n",
       "      <td>...</td>\n",
       "    </tr>\n",
       "    <tr>\n",
       "      <th>107</th>\n",
       "      <td>/delhi/therapist/dr-anuj-sharma-physiotherapis...</td>\n",
       "    </tr>\n",
       "    <tr>\n",
       "      <th>108</th>\n",
       "      <td>/delhi/therapist/kh-abu-jonayed-physiotherapis...</td>\n",
       "    </tr>\n",
       "    <tr>\n",
       "      <th>109</th>\n",
       "      <td>/delhi/therapist/dr-shreyansh-kumar-singh-phys...</td>\n",
       "    </tr>\n",
       "    <tr>\n",
       "      <th>110</th>\n",
       "      <td>/delhi/therapist/dr-mahesh-bagaria-physiothera...</td>\n",
       "    </tr>\n",
       "    <tr>\n",
       "      <th>111</th>\n",
       "      <td>/delhi/therapist/dr-s-srivastava-pt-physiother...</td>\n",
       "    </tr>\n",
       "  </tbody>\n",
       "</table>\n",
       "<p>112 rows × 1 columns</p>\n",
       "</div>"
      ],
      "text/plain": [
       "                                                     0\n",
       "0    /pune/therapist/dr-umesh-d-falak-physiotherapi...\n",
       "1    /pune/therapist/md-shadab-alam-physiotherapist...\n",
       "2    /pune/therapist/dr-sumit-gupta-1-physiotherapi...\n",
       "3    /pune/therapist/dr-tariq-shaikh?practice_id=12...\n",
       "4    /pune/therapist/dr-mukesh-vyas-physiotherapist...\n",
       "..                                                 ...\n",
       "107  /delhi/therapist/dr-anuj-sharma-physiotherapis...\n",
       "108  /delhi/therapist/kh-abu-jonayed-physiotherapis...\n",
       "109  /delhi/therapist/dr-shreyansh-kumar-singh-phys...\n",
       "110  /delhi/therapist/dr-mahesh-bagaria-physiothera...\n",
       "111  /delhi/therapist/dr-s-srivastava-pt-physiother...\n",
       "\n",
       "[112 rows x 1 columns]"
      ]
     },
     "execution_count": 20,
     "metadata": {},
     "output_type": "execute_result"
    }
   ],
   "source": [
    "table13= pd.DataFrame(link)\n",
    "table13"
   ]
  },
  {
   "cell_type": "code",
   "execution_count": 25,
   "id": "e985e9d7",
   "metadata": {},
   "outputs": [],
   "source": [
    "table13.to_csv('2_Dermatologist.csv')"
   ]
  },
  {
   "cell_type": "code",
   "execution_count": 26,
   "id": "7edea102",
   "metadata": {},
   "outputs": [],
   "source": [
    "set10=set(table13[0])"
   ]
  },
  {
   "cell_type": "code",
   "execution_count": 27,
   "id": "74ed3d0d",
   "metadata": {},
   "outputs": [
    {
     "data": {
      "text/plain": [
       "112"
      ]
     },
     "execution_count": 27,
     "metadata": {},
     "output_type": "execute_result"
    }
   ],
   "source": [
    "len(set10)"
   ]
  },
  {
   "cell_type": "code",
   "execution_count": 28,
   "id": "3f7c0c24",
   "metadata": {},
   "outputs": [],
   "source": [
    "set11=set9.union(set10)"
   ]
  },
  {
   "cell_type": "code",
   "execution_count": 29,
   "id": "1d8599f9",
   "metadata": {},
   "outputs": [
    {
     "data": {
      "text/plain": [
       "471"
      ]
     },
     "execution_count": 29,
     "metadata": {},
     "output_type": "execute_result"
    }
   ],
   "source": [
    "len(set11)"
   ]
  },
  {
   "cell_type": "code",
   "execution_count": 30,
   "id": "980ea34e",
   "metadata": {},
   "outputs": [
    {
     "data": {
      "text/html": [
       "<div>\n",
       "<style scoped>\n",
       "    .dataframe tbody tr th:only-of-type {\n",
       "        vertical-align: middle;\n",
       "    }\n",
       "\n",
       "    .dataframe tbody tr th {\n",
       "        vertical-align: top;\n",
       "    }\n",
       "\n",
       "    .dataframe thead th {\n",
       "        text-align: right;\n",
       "    }\n",
       "</style>\n",
       "<table border=\"1\" class=\"dataframe\">\n",
       "  <thead>\n",
       "    <tr style=\"text-align: right;\">\n",
       "      <th></th>\n",
       "      <th>0</th>\n",
       "    </tr>\n",
       "  </thead>\n",
       "  <tbody>\n",
       "    <tr>\n",
       "      <th>0</th>\n",
       "      <td>/pune/therapist/brinda-dave-physiotherapist?pr...</td>\n",
       "    </tr>\n",
       "    <tr>\n",
       "      <th>1</th>\n",
       "      <td>/mumbai/therapist/dr-avani-khadepau-physiother...</td>\n",
       "    </tr>\n",
       "    <tr>\n",
       "      <th>2</th>\n",
       "      <td>/bangalore/therapist/dr-rupalini-shastry-physi...</td>\n",
       "    </tr>\n",
       "    <tr>\n",
       "      <th>3</th>\n",
       "      <td>/bangalore/therapist/dr-devendra-naik-physioth...</td>\n",
       "    </tr>\n",
       "    <tr>\n",
       "      <th>4</th>\n",
       "      <td>/hyderabad/therapist/dr-shiva-kumar-durgam-phy...</td>\n",
       "    </tr>\n",
       "    <tr>\n",
       "      <th>...</th>\n",
       "      <td>...</td>\n",
       "    </tr>\n",
       "    <tr>\n",
       "      <th>466</th>\n",
       "      <td>/hyderabad/therapist/dr-n-kapil-chand-physioth...</td>\n",
       "    </tr>\n",
       "    <tr>\n",
       "      <th>467</th>\n",
       "      <td>/delhi/therapist/dr-anita-sharma-physiotherapi...</td>\n",
       "    </tr>\n",
       "    <tr>\n",
       "      <th>468</th>\n",
       "      <td>/mumbai/therapist/dr-dimple-kapasi-physiothera...</td>\n",
       "    </tr>\n",
       "    <tr>\n",
       "      <th>469</th>\n",
       "      <td>/bangalore/therapist/dr-sudhin-physiotherapist...</td>\n",
       "    </tr>\n",
       "    <tr>\n",
       "      <th>470</th>\n",
       "      <td>/bangalore/therapist/ram-kumar-5-physiotherapi...</td>\n",
       "    </tr>\n",
       "  </tbody>\n",
       "</table>\n",
       "<p>471 rows × 1 columns</p>\n",
       "</div>"
      ],
      "text/plain": [
       "                                                     0\n",
       "0    /pune/therapist/brinda-dave-physiotherapist?pr...\n",
       "1    /mumbai/therapist/dr-avani-khadepau-physiother...\n",
       "2    /bangalore/therapist/dr-rupalini-shastry-physi...\n",
       "3    /bangalore/therapist/dr-devendra-naik-physioth...\n",
       "4    /hyderabad/therapist/dr-shiva-kumar-durgam-phy...\n",
       "..                                                 ...\n",
       "466  /hyderabad/therapist/dr-n-kapil-chand-physioth...\n",
       "467  /delhi/therapist/dr-anita-sharma-physiotherapi...\n",
       "468  /mumbai/therapist/dr-dimple-kapasi-physiothera...\n",
       "469  /bangalore/therapist/dr-sudhin-physiotherapist...\n",
       "470  /bangalore/therapist/ram-kumar-5-physiotherapi...\n",
       "\n",
       "[471 rows x 1 columns]"
      ]
     },
     "execution_count": 30,
     "metadata": {},
     "output_type": "execute_result"
    }
   ],
   "source": [
    "table14= pd.DataFrame(set11)\n",
    "table14"
   ]
  },
  {
   "cell_type": "code",
   "execution_count": 31,
   "id": "cdbad4ec",
   "metadata": {},
   "outputs": [],
   "source": [
    "table14.to_csv('final_Physiotherapist.csv')"
   ]
  },
  {
   "cell_type": "markdown",
   "id": "39327333",
   "metadata": {},
   "source": [
    "# Extracting link for Infertility Specialist"
   ]
  },
  {
   "cell_type": "code",
   "execution_count": 32,
   "id": "43041f89",
   "metadata": {},
   "outputs": [],
   "source": [
    "lis2=['Bangalore','Pune','Delhi', 'Chennai', 'Mumbai','Hyderabad']\n",
    "link = []\n",
    "for i in lis2:\n",
    "    driver=webdriver.Firefox()\n",
    "    \n",
    "    url=f'https://www.practo.com/search/doctors?results_type=doctor&q=%5B%7B%22word%22%3A%22infertility%20specialist%22%2C%22autocompleted%22%3Atrue%2C%22category%22%3A%22subspeciality%22%7D%5D&city={i}'\n",
    "    driver.get(url)\n",
    "\n",
    "    time.sleep(1)  # Allow 2 seconds for the web page to (open depends on you)\n",
    "    scroll_pause_time = 2 # You can set your own pause time. dont slow too slow that might not able to load more data\n",
    "    screen_height = driver.execute_script(\"return window.screen.height;\")  # get the screen height of the web\n",
    "    A = 1\n",
    "\n",
    "    while True:\n",
    "        soup=BeautifulSoup(driver.page_source,'html.parser')\n",
    "            # scroll one screen height each time\n",
    "        driver.execute_script(\"window.scrollTo(0, {screen_height}*{A});\".format(screen_height=screen_height, A=A))\n",
    "        A += 1\n",
    "        time.sleep(scroll_pause_time)\n",
    "            # update scroll height each time after scrolled, as the scroll height can change after we scrolled the page\n",
    "        scroll_height = driver.execute_script(\"return document.body.scrollHeight;\")\n",
    "            # Break the loop when the height we need to scroll to is larger than the total scroll height\n",
    "        if (screen_height) * A > scroll_height:\n",
    "            break\n",
    "\n",
    "\n",
    "\n",
    "        div_lst3 = soup.find_all('div', class_ = \"info-section\")\n",
    "    for div in div_lst3:\n",
    "        \n",
    "        try:\n",
    "            link.append(div.a['href'])\n",
    "        except TypeError:\n",
    "            pass"
   ]
  },
  {
   "cell_type": "code",
   "execution_count": 33,
   "id": "3ef267a9",
   "metadata": {},
   "outputs": [
    {
     "data": {
      "text/plain": [
       "359"
      ]
     },
     "execution_count": 33,
     "metadata": {},
     "output_type": "execute_result"
    }
   ],
   "source": [
    "len(link)"
   ]
  },
  {
   "cell_type": "code",
   "execution_count": 34,
   "id": "d516752a",
   "metadata": {},
   "outputs": [
    {
     "data": {
      "text/html": [
       "<div>\n",
       "<style scoped>\n",
       "    .dataframe tbody tr th:only-of-type {\n",
       "        vertical-align: middle;\n",
       "    }\n",
       "\n",
       "    .dataframe tbody tr th {\n",
       "        vertical-align: top;\n",
       "    }\n",
       "\n",
       "    .dataframe thead th {\n",
       "        text-align: right;\n",
       "    }\n",
       "</style>\n",
       "<table border=\"1\" class=\"dataframe\">\n",
       "  <thead>\n",
       "    <tr style=\"text-align: right;\">\n",
       "      <th></th>\n",
       "      <th>0</th>\n",
       "    </tr>\n",
       "  </thead>\n",
       "  <tbody>\n",
       "    <tr>\n",
       "      <th>0</th>\n",
       "      <td>/bangalore/doctor/dr-m-gowri-gynecologist-obst...</td>\n",
       "    </tr>\n",
       "    <tr>\n",
       "      <th>1</th>\n",
       "      <td>/bangalore/doctor/dr-kavitha-lakshmi-easwaran-...</td>\n",
       "    </tr>\n",
       "    <tr>\n",
       "      <th>2</th>\n",
       "      <td>/bangalore/doctor/dr-mamatha-5-gynecologist-ob...</td>\n",
       "    </tr>\n",
       "    <tr>\n",
       "      <th>3</th>\n",
       "      <td>/bangalore/doctor/archana-agarwal-gynecologist...</td>\n",
       "    </tr>\n",
       "    <tr>\n",
       "      <th>4</th>\n",
       "      <td>/bangalore/doctor/dr-suman-singh-gynecologist-...</td>\n",
       "    </tr>\n",
       "    <tr>\n",
       "      <th>...</th>\n",
       "      <td>...</td>\n",
       "    </tr>\n",
       "    <tr>\n",
       "      <th>354</th>\n",
       "      <td>/hyderabad/doctor/avani-1-gynecologist-obstetr...</td>\n",
       "    </tr>\n",
       "    <tr>\n",
       "      <th>355</th>\n",
       "      <td>/hyderabad/doctor/dr-m-swathi-gynecologist-obs...</td>\n",
       "    </tr>\n",
       "    <tr>\n",
       "      <th>356</th>\n",
       "      <td>/hyderabad/doctor/manasvi-bommareddy-gynecolog...</td>\n",
       "    </tr>\n",
       "    <tr>\n",
       "      <th>357</th>\n",
       "      <td>/hyderabad/doctor/hema-sree-gynecologist-obste...</td>\n",
       "    </tr>\n",
       "    <tr>\n",
       "      <th>358</th>\n",
       "      <td>/hyderabad/doctor/dr-chandini-chinta-gynecolog...</td>\n",
       "    </tr>\n",
       "  </tbody>\n",
       "</table>\n",
       "<p>359 rows × 1 columns</p>\n",
       "</div>"
      ],
      "text/plain": [
       "                                                     0\n",
       "0    /bangalore/doctor/dr-m-gowri-gynecologist-obst...\n",
       "1    /bangalore/doctor/dr-kavitha-lakshmi-easwaran-...\n",
       "2    /bangalore/doctor/dr-mamatha-5-gynecologist-ob...\n",
       "3    /bangalore/doctor/archana-agarwal-gynecologist...\n",
       "4    /bangalore/doctor/dr-suman-singh-gynecologist-...\n",
       "..                                                 ...\n",
       "354  /hyderabad/doctor/avani-1-gynecologist-obstetr...\n",
       "355  /hyderabad/doctor/dr-m-swathi-gynecologist-obs...\n",
       "356  /hyderabad/doctor/manasvi-bommareddy-gynecolog...\n",
       "357  /hyderabad/doctor/hema-sree-gynecologist-obste...\n",
       "358  /hyderabad/doctor/dr-chandini-chinta-gynecolog...\n",
       "\n",
       "[359 rows x 1 columns]"
      ]
     },
     "execution_count": 34,
     "metadata": {},
     "output_type": "execute_result"
    }
   ],
   "source": [
    "table15= pd.DataFrame(link)\n",
    "table15"
   ]
  },
  {
   "cell_type": "code",
   "execution_count": 35,
   "id": "5295dd2b",
   "metadata": {},
   "outputs": [],
   "source": [
    "set12=set(table15[0])"
   ]
  },
  {
   "cell_type": "code",
   "execution_count": 36,
   "id": "0b40cf23",
   "metadata": {},
   "outputs": [
    {
     "data": {
      "text/plain": [
       "357"
      ]
     },
     "execution_count": 36,
     "metadata": {},
     "output_type": "execute_result"
    }
   ],
   "source": [
    "len(set12)"
   ]
  },
  {
   "cell_type": "code",
   "execution_count": 37,
   "id": "311baeda",
   "metadata": {},
   "outputs": [
    {
     "data": {
      "text/html": [
       "<div>\n",
       "<style scoped>\n",
       "    .dataframe tbody tr th:only-of-type {\n",
       "        vertical-align: middle;\n",
       "    }\n",
       "\n",
       "    .dataframe tbody tr th {\n",
       "        vertical-align: top;\n",
       "    }\n",
       "\n",
       "    .dataframe thead th {\n",
       "        text-align: right;\n",
       "    }\n",
       "</style>\n",
       "<table border=\"1\" class=\"dataframe\">\n",
       "  <thead>\n",
       "    <tr style=\"text-align: right;\">\n",
       "      <th></th>\n",
       "      <th>0</th>\n",
       "    </tr>\n",
       "  </thead>\n",
       "  <tbody>\n",
       "    <tr>\n",
       "      <th>0</th>\n",
       "      <td>/delhi/doctor/drsutopabanerjee-gynecologist-ob...</td>\n",
       "    </tr>\n",
       "    <tr>\n",
       "      <th>1</th>\n",
       "      <td>/pune/doctor/durga-karne-gynecologist-obstetri...</td>\n",
       "    </tr>\n",
       "    <tr>\n",
       "      <th>2</th>\n",
       "      <td>/bangalore/doctor/kavitha-kovi-gynecologist-ob...</td>\n",
       "    </tr>\n",
       "    <tr>\n",
       "      <th>3</th>\n",
       "      <td>/chennai/doctor/parimalam-gynecologist-obstetr...</td>\n",
       "    </tr>\n",
       "    <tr>\n",
       "      <th>4</th>\n",
       "      <td>/hyderabad/doctor/dr-m-swathi-gynecologist-obs...</td>\n",
       "    </tr>\n",
       "    <tr>\n",
       "      <th>...</th>\n",
       "      <td>...</td>\n",
       "    </tr>\n",
       "    <tr>\n",
       "      <th>352</th>\n",
       "      <td>/chennai/doctor/a-aishwarya-gynecologist-obste...</td>\n",
       "    </tr>\n",
       "    <tr>\n",
       "      <th>353</th>\n",
       "      <td>/bangalore/doctor/dr-aruna-kumari-v?practice_i...</td>\n",
       "    </tr>\n",
       "    <tr>\n",
       "      <th>354</th>\n",
       "      <td>/chennai/doctor/dr-kavitha-pediatrician?practi...</td>\n",
       "    </tr>\n",
       "    <tr>\n",
       "      <th>355</th>\n",
       "      <td>/mumbai/doctor/dr-shreedevi-tanksale?practice_...</td>\n",
       "    </tr>\n",
       "    <tr>\n",
       "      <th>356</th>\n",
       "      <td>/pune/doctor/dr-aarti-2-ayurveda?practice_id=8...</td>\n",
       "    </tr>\n",
       "  </tbody>\n",
       "</table>\n",
       "<p>357 rows × 1 columns</p>\n",
       "</div>"
      ],
      "text/plain": [
       "                                                     0\n",
       "0    /delhi/doctor/drsutopabanerjee-gynecologist-ob...\n",
       "1    /pune/doctor/durga-karne-gynecologist-obstetri...\n",
       "2    /bangalore/doctor/kavitha-kovi-gynecologist-ob...\n",
       "3    /chennai/doctor/parimalam-gynecologist-obstetr...\n",
       "4    /hyderabad/doctor/dr-m-swathi-gynecologist-obs...\n",
       "..                                                 ...\n",
       "352  /chennai/doctor/a-aishwarya-gynecologist-obste...\n",
       "353  /bangalore/doctor/dr-aruna-kumari-v?practice_i...\n",
       "354  /chennai/doctor/dr-kavitha-pediatrician?practi...\n",
       "355  /mumbai/doctor/dr-shreedevi-tanksale?practice_...\n",
       "356  /pune/doctor/dr-aarti-2-ayurveda?practice_id=8...\n",
       "\n",
       "[357 rows x 1 columns]"
      ]
     },
     "execution_count": 37,
     "metadata": {},
     "output_type": "execute_result"
    }
   ],
   "source": [
    "table16= pd.DataFrame(set12)\n",
    "table16"
   ]
  },
  {
   "cell_type": "code",
   "execution_count": 38,
   "id": "bee3018a",
   "metadata": {},
   "outputs": [],
   "source": [
    "table16.to_csv('7final_InSpecialist.csv')"
   ]
  },
  {
   "cell_type": "markdown",
   "id": "e872b4f9",
   "metadata": {},
   "source": [
    "# Extracting link for Urologist"
   ]
  },
  {
   "cell_type": "code",
   "execution_count": 39,
   "id": "fd0ea6b9",
   "metadata": {},
   "outputs": [],
   "source": [
    "lis2=['Bangalore','Pune','Delhi', 'Chennai', 'Mumbai','Hyderabad']\n",
    "link = []\n",
    "for i in lis2:\n",
    "    driver=webdriver.Firefox()\n",
    "    \n",
    "    url=f'https://www.practo.com/search/doctors?results_type=doctor&q=%5B%7B%22word%22%3A%22urologist%22%2C%22autocompleted%22%3Atrue%2C%22category%22%3A%22subspeciality%22%7D%5D&city={i}'\n",
    "    driver.get(url)\n",
    "\n",
    "    time.sleep(1)  # Allow 2 seconds for the web page to (open depends on you)\n",
    "    scroll_pause_time = 2 # You can set your own pause time. dont slow too slow that might not able to load more data\n",
    "    screen_height = driver.execute_script(\"return window.screen.height;\")  # get the screen height of the web\n",
    "    A = 1\n",
    "\n",
    "    while True:\n",
    "        soup=BeautifulSoup(driver.page_source,'html.parser')\n",
    "            # scroll one screen height each time\n",
    "        driver.execute_script(\"window.scrollTo(0, {screen_height}*{A});\".format(screen_height=screen_height, A=A))\n",
    "        A += 1\n",
    "        time.sleep(scroll_pause_time)\n",
    "            # update scroll height each time after scrolled, as the scroll height can change after we scrolled the page\n",
    "        scroll_height = driver.execute_script(\"return document.body.scrollHeight;\")\n",
    "            # Break the loop when the height we need to scroll to is larger than the total scroll height\n",
    "        if (screen_height) * A > scroll_height:\n",
    "            break\n",
    "\n",
    "\n",
    "\n",
    "        div_lst3 = soup.find_all('div', class_ = \"info-section\")\n",
    "    for div in div_lst3:\n",
    "        \n",
    "        try:\n",
    "            link.append(div.a['href'])\n",
    "        except TypeError:\n",
    "            pass"
   ]
  },
  {
   "cell_type": "code",
   "execution_count": 40,
   "id": "48389383",
   "metadata": {},
   "outputs": [
    {
     "data": {
      "text/plain": [
       "240"
      ]
     },
     "execution_count": 40,
     "metadata": {},
     "output_type": "execute_result"
    }
   ],
   "source": [
    "len(link)"
   ]
  },
  {
   "cell_type": "code",
   "execution_count": 41,
   "id": "cb219638",
   "metadata": {},
   "outputs": [
    {
     "data": {
      "text/html": [
       "<div>\n",
       "<style scoped>\n",
       "    .dataframe tbody tr th:only-of-type {\n",
       "        vertical-align: middle;\n",
       "    }\n",
       "\n",
       "    .dataframe tbody tr th {\n",
       "        vertical-align: top;\n",
       "    }\n",
       "\n",
       "    .dataframe thead th {\n",
       "        text-align: right;\n",
       "    }\n",
       "</style>\n",
       "<table border=\"1\" class=\"dataframe\">\n",
       "  <thead>\n",
       "    <tr style=\"text-align: right;\">\n",
       "      <th></th>\n",
       "      <th>0</th>\n",
       "    </tr>\n",
       "  </thead>\n",
       "  <tbody>\n",
       "    <tr>\n",
       "      <th>0</th>\n",
       "      <td>/bangalore/doctor/dr-mahesh-babu-5-urologist?p...</td>\n",
       "    </tr>\n",
       "    <tr>\n",
       "      <th>1</th>\n",
       "      <td>/bangalore/doctor/dr-udaybhaskar-m-urologist?p...</td>\n",
       "    </tr>\n",
       "    <tr>\n",
       "      <th>2</th>\n",
       "      <td>/bangalore/doctor/nipun-a-c-urologist?practice...</td>\n",
       "    </tr>\n",
       "    <tr>\n",
       "      <th>3</th>\n",
       "      <td>/bangalore/doctor/dr-prathik-r-urologist-urolo...</td>\n",
       "    </tr>\n",
       "    <tr>\n",
       "      <th>4</th>\n",
       "      <td>/bangalore/doctor/giriraja-velayutham-urologis...</td>\n",
       "    </tr>\n",
       "    <tr>\n",
       "      <th>...</th>\n",
       "      <td>...</td>\n",
       "    </tr>\n",
       "    <tr>\n",
       "      <th>235</th>\n",
       "      <td>/hyderabad/doctor/dr-hemnath-u-a-urologist?pra...</td>\n",
       "    </tr>\n",
       "    <tr>\n",
       "      <th>236</th>\n",
       "      <td>/hyderabad/doctor/dr-p-praneeth-urologist?prac...</td>\n",
       "    </tr>\n",
       "    <tr>\n",
       "      <th>237</th>\n",
       "      <td>/hyderabad/doctor/venu-4-urologist?practice_id...</td>\n",
       "    </tr>\n",
       "    <tr>\n",
       "      <th>238</th>\n",
       "      <td>/hyderabad/doctor/dr-leela-krishna-karri-urolo...</td>\n",
       "    </tr>\n",
       "    <tr>\n",
       "      <th>239</th>\n",
       "      <td>/hyderabad/doctor/rakesh-panda-urologist?pract...</td>\n",
       "    </tr>\n",
       "  </tbody>\n",
       "</table>\n",
       "<p>240 rows × 1 columns</p>\n",
       "</div>"
      ],
      "text/plain": [
       "                                                     0\n",
       "0    /bangalore/doctor/dr-mahesh-babu-5-urologist?p...\n",
       "1    /bangalore/doctor/dr-udaybhaskar-m-urologist?p...\n",
       "2    /bangalore/doctor/nipun-a-c-urologist?practice...\n",
       "3    /bangalore/doctor/dr-prathik-r-urologist-urolo...\n",
       "4    /bangalore/doctor/giriraja-velayutham-urologis...\n",
       "..                                                 ...\n",
       "235  /hyderabad/doctor/dr-hemnath-u-a-urologist?pra...\n",
       "236  /hyderabad/doctor/dr-p-praneeth-urologist?prac...\n",
       "237  /hyderabad/doctor/venu-4-urologist?practice_id...\n",
       "238  /hyderabad/doctor/dr-leela-krishna-karri-urolo...\n",
       "239  /hyderabad/doctor/rakesh-panda-urologist?pract...\n",
       "\n",
       "[240 rows x 1 columns]"
      ]
     },
     "execution_count": 41,
     "metadata": {},
     "output_type": "execute_result"
    }
   ],
   "source": [
    "table17= pd.DataFrame(link)\n",
    "table17"
   ]
  },
  {
   "cell_type": "code",
   "execution_count": 42,
   "id": "cecd4a93",
   "metadata": {},
   "outputs": [],
   "source": [
    "set13=set(table17[0])"
   ]
  },
  {
   "cell_type": "code",
   "execution_count": 43,
   "id": "e3ed0c26",
   "metadata": {},
   "outputs": [
    {
     "data": {
      "text/plain": [
       "240"
      ]
     },
     "execution_count": 43,
     "metadata": {},
     "output_type": "execute_result"
    }
   ],
   "source": [
    "len(set13)"
   ]
  },
  {
   "cell_type": "code",
   "execution_count": 44,
   "id": "5b92222b",
   "metadata": {},
   "outputs": [],
   "source": [
    "table17.to_csv('8final_Urologist.csv')"
   ]
  },
  {
   "cell_type": "markdown",
   "id": "f5b45cb3",
   "metadata": {},
   "source": [
    "# Extracting link for Psychiatrist"
   ]
  },
  {
   "cell_type": "code",
   "execution_count": 45,
   "id": "d92cfc03",
   "metadata": {},
   "outputs": [],
   "source": [
    "lis2=['Bangalore','Pune','Delhi', 'Chennai', 'Mumbai','Hyderabad']\n",
    "link = []\n",
    "for i in lis2:\n",
    "    driver=webdriver.Firefox()\n",
    "    \n",
    "    url=f'https://www.practo.com/search/doctors?results_type=doctor&q=%5B%7B%22word%22%3A%22psychiatrist%22%2C%22autocompleted%22%3Atrue%2C%22category%22%3A%22subspeciality%22%7D%5D&city={i}'\n",
    "    driver.get(url)\n",
    "\n",
    "    time.sleep(1)  # Allow 2 seconds for the web page to (open depends on you)\n",
    "    scroll_pause_time = 2 # You can set your own pause time. dont slow too slow that might not able to load more data\n",
    "    screen_height = driver.execute_script(\"return window.screen.height;\")  # get the screen height of the web\n",
    "    A = 1\n",
    "\n",
    "    while True:\n",
    "        soup=BeautifulSoup(driver.page_source,'html.parser')\n",
    "            # scroll one screen height each time\n",
    "        driver.execute_script(\"window.scrollTo(0, {screen_height}*{A});\".format(screen_height=screen_height, A=A))\n",
    "        A += 1\n",
    "        time.sleep(scroll_pause_time)\n",
    "            # update scroll height each time after scrolled, as the scroll height can change after we scrolled the page\n",
    "        scroll_height = driver.execute_script(\"return document.body.scrollHeight;\")\n",
    "            # Break the loop when the height we need to scroll to is larger than the total scroll height\n",
    "        if (screen_height) * A > scroll_height:\n",
    "            break\n",
    "\n",
    "\n",
    "\n",
    "        div_lst3 = soup.find_all('div', class_ = \"info-section\")\n",
    "    for div in div_lst3:\n",
    "        \n",
    "        try:\n",
    "            link.append(div.a['href'])\n",
    "        except TypeError:\n",
    "            pass"
   ]
  },
  {
   "cell_type": "code",
   "execution_count": 46,
   "id": "15b8601b",
   "metadata": {},
   "outputs": [
    {
     "data": {
      "text/plain": [
       "270"
      ]
     },
     "execution_count": 46,
     "metadata": {},
     "output_type": "execute_result"
    }
   ],
   "source": [
    "len(link)"
   ]
  },
  {
   "cell_type": "code",
   "execution_count": 47,
   "id": "f1bc1702",
   "metadata": {},
   "outputs": [
    {
     "data": {
      "text/html": [
       "<div>\n",
       "<style scoped>\n",
       "    .dataframe tbody tr th:only-of-type {\n",
       "        vertical-align: middle;\n",
       "    }\n",
       "\n",
       "    .dataframe tbody tr th {\n",
       "        vertical-align: top;\n",
       "    }\n",
       "\n",
       "    .dataframe thead th {\n",
       "        text-align: right;\n",
       "    }\n",
       "</style>\n",
       "<table border=\"1\" class=\"dataframe\">\n",
       "  <thead>\n",
       "    <tr style=\"text-align: right;\">\n",
       "      <th></th>\n",
       "      <th>0</th>\n",
       "    </tr>\n",
       "  </thead>\n",
       "  <tbody>\n",
       "    <tr>\n",
       "      <th>0</th>\n",
       "      <td>/bangalore/doctor/dr-lt-col-m-diwakar-psychiat...</td>\n",
       "    </tr>\n",
       "    <tr>\n",
       "      <th>1</th>\n",
       "      <td>/bangalore/doctor/dr-safiya-m-s-psychiatrist?p...</td>\n",
       "    </tr>\n",
       "    <tr>\n",
       "      <th>2</th>\n",
       "      <td>/bangalore/doctor/dr-manjunath-h-psychiatrist?...</td>\n",
       "    </tr>\n",
       "    <tr>\n",
       "      <th>3</th>\n",
       "      <td>/bangalore/doctor/vijay-mehtry?practice_id=129...</td>\n",
       "    </tr>\n",
       "    <tr>\n",
       "      <th>4</th>\n",
       "      <td>/bangalore/doctor/kaustubh-gosavi-psychiatrist...</td>\n",
       "    </tr>\n",
       "    <tr>\n",
       "      <th>...</th>\n",
       "      <td>...</td>\n",
       "    </tr>\n",
       "    <tr>\n",
       "      <th>265</th>\n",
       "      <td>/hyderabad/doctor/sunil-reddy-a-psychiatrist?p...</td>\n",
       "    </tr>\n",
       "    <tr>\n",
       "      <th>266</th>\n",
       "      <td>/hyderabad/doctor/ramesh-ammati-psychiatrist-1...</td>\n",
       "    </tr>\n",
       "    <tr>\n",
       "      <th>267</th>\n",
       "      <td>/hyderabad/doctor/dr-madhu-mohan-m-psychiatris...</td>\n",
       "    </tr>\n",
       "    <tr>\n",
       "      <th>268</th>\n",
       "      <td>/hyderabad/doctor/deepika-kommu-psychiatrist?p...</td>\n",
       "    </tr>\n",
       "    <tr>\n",
       "      <th>269</th>\n",
       "      <td>/hyderabad/doctor/b-sushma-psychiatrist?practi...</td>\n",
       "    </tr>\n",
       "  </tbody>\n",
       "</table>\n",
       "<p>270 rows × 1 columns</p>\n",
       "</div>"
      ],
      "text/plain": [
       "                                                     0\n",
       "0    /bangalore/doctor/dr-lt-col-m-diwakar-psychiat...\n",
       "1    /bangalore/doctor/dr-safiya-m-s-psychiatrist?p...\n",
       "2    /bangalore/doctor/dr-manjunath-h-psychiatrist?...\n",
       "3    /bangalore/doctor/vijay-mehtry?practice_id=129...\n",
       "4    /bangalore/doctor/kaustubh-gosavi-psychiatrist...\n",
       "..                                                 ...\n",
       "265  /hyderabad/doctor/sunil-reddy-a-psychiatrist?p...\n",
       "266  /hyderabad/doctor/ramesh-ammati-psychiatrist-1...\n",
       "267  /hyderabad/doctor/dr-madhu-mohan-m-psychiatris...\n",
       "268  /hyderabad/doctor/deepika-kommu-psychiatrist?p...\n",
       "269  /hyderabad/doctor/b-sushma-psychiatrist?practi...\n",
       "\n",
       "[270 rows x 1 columns]"
      ]
     },
     "execution_count": 47,
     "metadata": {},
     "output_type": "execute_result"
    }
   ],
   "source": [
    "table18= pd.DataFrame(link)\n",
    "table18"
   ]
  },
  {
   "cell_type": "code",
   "execution_count": 48,
   "id": "d6d9088f",
   "metadata": {},
   "outputs": [],
   "source": [
    "set14=set(table18[0])"
   ]
  },
  {
   "cell_type": "code",
   "execution_count": 49,
   "id": "591417f3",
   "metadata": {},
   "outputs": [
    {
     "data": {
      "text/plain": [
       "270"
      ]
     },
     "execution_count": 49,
     "metadata": {},
     "output_type": "execute_result"
    }
   ],
   "source": [
    "len(set14)"
   ]
  },
  {
   "cell_type": "code",
   "execution_count": 50,
   "id": "22109173",
   "metadata": {},
   "outputs": [],
   "source": [
    "table18.to_csv('9final_Psychiatrist.csv')"
   ]
  },
  {
   "cell_type": "markdown",
   "id": "8f1f8cb4",
   "metadata": {},
   "source": [
    "# Extracting link for Cardiologist"
   ]
  },
  {
   "cell_type": "code",
   "execution_count": 51,
   "id": "0a028b10",
   "metadata": {},
   "outputs": [],
   "source": [
    "lis2=['Bangalore','Pune','Delhi', 'Chennai', 'Mumbai','Hyderabad']\n",
    "link = []\n",
    "for i in lis2:\n",
    "    driver=webdriver.Firefox()\n",
    "    \n",
    "    url=f'https://www.practo.com/search/doctors?results_type=doctor&q=%5B%7B%22word%22%3A%22cardiologist%22%2C%22autocompleted%22%3Atrue%2C%22category%22%3A%22subspeciality%22%7D%5D&city={i}'\n",
    "    driver.get(url)\n",
    "\n",
    "    time.sleep(1)  # Allow 2 seconds for the web page to (open depends on you)\n",
    "    scroll_pause_time = 2 # You can set your own pause time. dont slow too slow that might not able to load more data\n",
    "    screen_height = driver.execute_script(\"return window.screen.height;\")  # get the screen height of the web\n",
    "    A = 1\n",
    "\n",
    "    while True:\n",
    "        soup=BeautifulSoup(driver.page_source,'html.parser')\n",
    "            # scroll one screen height each time\n",
    "        driver.execute_script(\"window.scrollTo(0, {screen_height}*{A});\".format(screen_height=screen_height, A=A))\n",
    "        A += 1\n",
    "        time.sleep(scroll_pause_time)\n",
    "            # update scroll height each time after scrolled, as the scroll height can change after we scrolled the page\n",
    "        scroll_height = driver.execute_script(\"return document.body.scrollHeight;\")\n",
    "            # Break the loop when the height we need to scroll to is larger than the total scroll height\n",
    "        if (screen_height) * A > scroll_height:\n",
    "            break\n",
    "\n",
    "\n",
    "\n",
    "        div_lst3 = soup.find_all('div', class_ = \"info-section\")\n",
    "    for div in div_lst3:\n",
    "        \n",
    "        try:\n",
    "            link.append(div.a['href'])\n",
    "        except TypeError:\n",
    "            pass"
   ]
  },
  {
   "cell_type": "code",
   "execution_count": 52,
   "id": "d33e24c5",
   "metadata": {},
   "outputs": [
    {
     "data": {
      "text/plain": [
       "345"
      ]
     },
     "execution_count": 52,
     "metadata": {},
     "output_type": "execute_result"
    }
   ],
   "source": [
    "len(link)"
   ]
  },
  {
   "cell_type": "code",
   "execution_count": 53,
   "id": "7e5ec863",
   "metadata": {},
   "outputs": [
    {
     "data": {
      "text/html": [
       "<div>\n",
       "<style scoped>\n",
       "    .dataframe tbody tr th:only-of-type {\n",
       "        vertical-align: middle;\n",
       "    }\n",
       "\n",
       "    .dataframe tbody tr th {\n",
       "        vertical-align: top;\n",
       "    }\n",
       "\n",
       "    .dataframe thead th {\n",
       "        text-align: right;\n",
       "    }\n",
       "</style>\n",
       "<table border=\"1\" class=\"dataframe\">\n",
       "  <thead>\n",
       "    <tr style=\"text-align: right;\">\n",
       "      <th></th>\n",
       "      <th>0</th>\n",
       "    </tr>\n",
       "  </thead>\n",
       "  <tbody>\n",
       "    <tr>\n",
       "      <th>0</th>\n",
       "      <td>/bangalore/doctor/dr-ramanresh-soudri-cardiolo...</td>\n",
       "    </tr>\n",
       "    <tr>\n",
       "      <th>1</th>\n",
       "      <td>/bangalore/doctor/roopa-r-cardiologist?practic...</td>\n",
       "    </tr>\n",
       "    <tr>\n",
       "      <th>2</th>\n",
       "      <td>/bangalore/doctor/dr-balaraju-d-cardiologist?p...</td>\n",
       "    </tr>\n",
       "    <tr>\n",
       "      <th>3</th>\n",
       "      <td>/bangalore/doctor/dr-n-praveen-kumar-cardiolog...</td>\n",
       "    </tr>\n",
       "    <tr>\n",
       "      <th>4</th>\n",
       "      <td>/bangalore/doctor/dr-srinivas-prasad-b-v-gener...</td>\n",
       "    </tr>\n",
       "    <tr>\n",
       "      <th>...</th>\n",
       "      <td>...</td>\n",
       "    </tr>\n",
       "    <tr>\n",
       "      <th>340</th>\n",
       "      <td>/hyderabad/doctor/nilkanth-patil-cardiologist?...</td>\n",
       "    </tr>\n",
       "    <tr>\n",
       "      <th>341</th>\n",
       "      <td>/hyderabad/doctor/ajit-kumar-patnaik-cardiolog...</td>\n",
       "    </tr>\n",
       "    <tr>\n",
       "      <th>342</th>\n",
       "      <td>/hyderabad/doctor/dr-anne-uday-kiran-cardiolog...</td>\n",
       "    </tr>\n",
       "    <tr>\n",
       "      <th>343</th>\n",
       "      <td>/hyderabad/doctor/bharat-kumar-goud-c-general-...</td>\n",
       "    </tr>\n",
       "    <tr>\n",
       "      <th>344</th>\n",
       "      <td>/hyderabad/doctor/dr-vamsi-krishna-mamidela-ca...</td>\n",
       "    </tr>\n",
       "  </tbody>\n",
       "</table>\n",
       "<p>345 rows × 1 columns</p>\n",
       "</div>"
      ],
      "text/plain": [
       "                                                     0\n",
       "0    /bangalore/doctor/dr-ramanresh-soudri-cardiolo...\n",
       "1    /bangalore/doctor/roopa-r-cardiologist?practic...\n",
       "2    /bangalore/doctor/dr-balaraju-d-cardiologist?p...\n",
       "3    /bangalore/doctor/dr-n-praveen-kumar-cardiolog...\n",
       "4    /bangalore/doctor/dr-srinivas-prasad-b-v-gener...\n",
       "..                                                 ...\n",
       "340  /hyderabad/doctor/nilkanth-patil-cardiologist?...\n",
       "341  /hyderabad/doctor/ajit-kumar-patnaik-cardiolog...\n",
       "342  /hyderabad/doctor/dr-anne-uday-kiran-cardiolog...\n",
       "343  /hyderabad/doctor/bharat-kumar-goud-c-general-...\n",
       "344  /hyderabad/doctor/dr-vamsi-krishna-mamidela-ca...\n",
       "\n",
       "[345 rows x 1 columns]"
      ]
     },
     "execution_count": 53,
     "metadata": {},
     "output_type": "execute_result"
    }
   ],
   "source": [
    "table19= pd.DataFrame(link)\n",
    "table19"
   ]
  },
  {
   "cell_type": "code",
   "execution_count": 54,
   "id": "c47413ee",
   "metadata": {},
   "outputs": [],
   "source": [
    "set15=set(table19[0])"
   ]
  },
  {
   "cell_type": "code",
   "execution_count": 55,
   "id": "c508f735",
   "metadata": {},
   "outputs": [
    {
     "data": {
      "text/plain": [
       "345"
      ]
     },
     "execution_count": 55,
     "metadata": {},
     "output_type": "execute_result"
    }
   ],
   "source": [
    "len(set15)"
   ]
  },
  {
   "cell_type": "code",
   "execution_count": 56,
   "id": "3462e73e",
   "metadata": {},
   "outputs": [],
   "source": [
    "table19.to_csv('10final_Cardiologist.csv')"
   ]
  },
  {
   "cell_type": "markdown",
   "id": "4a12859d",
   "metadata": {},
   "source": [
    "# Extracting link for Dietitian"
   ]
  },
  {
   "cell_type": "code",
   "execution_count": 57,
   "id": "03f85f05",
   "metadata": {},
   "outputs": [],
   "source": [
    "lis2=['Bangalore','Pune','Delhi', 'Chennai', 'Mumbai','Hyderabad']\n",
    "link = []\n",
    "for i in lis2:\n",
    "    driver=webdriver.Firefox()\n",
    "    \n",
    "    url=f'https://www.practo.com/search/doctors?results_type=doctor&q=%5B%7B%22word%22%3A%22dietitian%2Fnutritionist%22%2C%22autocompleted%22%3Atrue%2C%22category%22%3A%22subspeciality%22%7D%5D&city={i}'\n",
    "    driver.get(url)\n",
    "\n",
    "    time.sleep(1)  # Allow 2 seconds for the web page to (open depends on you)\n",
    "    scroll_pause_time = 2 # You can set your own pause time. dont slow too slow that might not able to load more data\n",
    "    screen_height = driver.execute_script(\"return window.screen.height;\")  # get the screen height of the web\n",
    "    A = 1\n",
    "\n",
    "    while True:\n",
    "        soup=BeautifulSoup(driver.page_source,'html.parser')\n",
    "            # scroll one screen height each time\n",
    "        driver.execute_script(\"window.scrollTo(0, {screen_height}*{A});\".format(screen_height=screen_height, A=A))\n",
    "        A += 1\n",
    "        time.sleep(scroll_pause_time)\n",
    "            # update scroll height each time after scrolled, as the scroll height can change after we scrolled the page\n",
    "        scroll_height = driver.execute_script(\"return document.body.scrollHeight;\")\n",
    "            # Break the loop when the height we need to scroll to is larger than the total scroll height\n",
    "        if (screen_height) * A > scroll_height:\n",
    "            break\n",
    "\n",
    "\n",
    "\n",
    "        div_lst3 = soup.find_all('div', class_ = \"info-section\")\n",
    "    for div in div_lst3:\n",
    "        \n",
    "        try:\n",
    "            link.append(div.a['href'])\n",
    "        except TypeError:\n",
    "            pass"
   ]
  },
  {
   "cell_type": "code",
   "execution_count": 58,
   "id": "ac3b3aa5",
   "metadata": {},
   "outputs": [
    {
     "data": {
      "text/plain": [
       "237"
      ]
     },
     "execution_count": 58,
     "metadata": {},
     "output_type": "execute_result"
    }
   ],
   "source": [
    "len(link)"
   ]
  },
  {
   "cell_type": "code",
   "execution_count": 59,
   "id": "76494b9c",
   "metadata": {},
   "outputs": [
    {
     "data": {
      "text/html": [
       "<div>\n",
       "<style scoped>\n",
       "    .dataframe tbody tr th:only-of-type {\n",
       "        vertical-align: middle;\n",
       "    }\n",
       "\n",
       "    .dataframe tbody tr th {\n",
       "        vertical-align: top;\n",
       "    }\n",
       "\n",
       "    .dataframe thead th {\n",
       "        text-align: right;\n",
       "    }\n",
       "</style>\n",
       "<table border=\"1\" class=\"dataframe\">\n",
       "  <thead>\n",
       "    <tr style=\"text-align: right;\">\n",
       "      <th></th>\n",
       "      <th>0</th>\n",
       "    </tr>\n",
       "  </thead>\n",
       "  <tbody>\n",
       "    <tr>\n",
       "      <th>0</th>\n",
       "      <td>/bangalore/therapist/dr-akhila-joshi-dietitian...</td>\n",
       "    </tr>\n",
       "    <tr>\n",
       "      <th>1</th>\n",
       "      <td>/bangalore/therapist/dr-silkymahajan-dietitian...</td>\n",
       "    </tr>\n",
       "    <tr>\n",
       "      <th>2</th>\n",
       "      <td>/bangalore/therapist/mrs-rohini-raghu-dietitia...</td>\n",
       "    </tr>\n",
       "    <tr>\n",
       "      <th>3</th>\n",
       "      <td>/bangalore/therapist/dr-sharanya-s-shastry-die...</td>\n",
       "    </tr>\n",
       "    <tr>\n",
       "      <th>4</th>\n",
       "      <td>/bangalore/therapist/dr-daisy-rani-rao-1-ophth...</td>\n",
       "    </tr>\n",
       "    <tr>\n",
       "      <th>...</th>\n",
       "      <td>...</td>\n",
       "    </tr>\n",
       "    <tr>\n",
       "      <th>232</th>\n",
       "      <td>/hyderabad/therapist/dr-shankar-rao-dietitian-...</td>\n",
       "    </tr>\n",
       "    <tr>\n",
       "      <th>233</th>\n",
       "      <td>/hyderabad/therapist/achsah-dietitian-nutritio...</td>\n",
       "    </tr>\n",
       "    <tr>\n",
       "      <th>234</th>\n",
       "      <td>/hyderabad/therapist/ms-suhasini-viswanathan-d...</td>\n",
       "    </tr>\n",
       "    <tr>\n",
       "      <th>235</th>\n",
       "      <td>/hyderabad/therapist/dr-mrs-imteyaz-dietitian-...</td>\n",
       "    </tr>\n",
       "    <tr>\n",
       "      <th>236</th>\n",
       "      <td>/hyderabad/therapist/dr-diksha-banthia-dietiti...</td>\n",
       "    </tr>\n",
       "  </tbody>\n",
       "</table>\n",
       "<p>237 rows × 1 columns</p>\n",
       "</div>"
      ],
      "text/plain": [
       "                                                     0\n",
       "0    /bangalore/therapist/dr-akhila-joshi-dietitian...\n",
       "1    /bangalore/therapist/dr-silkymahajan-dietitian...\n",
       "2    /bangalore/therapist/mrs-rohini-raghu-dietitia...\n",
       "3    /bangalore/therapist/dr-sharanya-s-shastry-die...\n",
       "4    /bangalore/therapist/dr-daisy-rani-rao-1-ophth...\n",
       "..                                                 ...\n",
       "232  /hyderabad/therapist/dr-shankar-rao-dietitian-...\n",
       "233  /hyderabad/therapist/achsah-dietitian-nutritio...\n",
       "234  /hyderabad/therapist/ms-suhasini-viswanathan-d...\n",
       "235  /hyderabad/therapist/dr-mrs-imteyaz-dietitian-...\n",
       "236  /hyderabad/therapist/dr-diksha-banthia-dietiti...\n",
       "\n",
       "[237 rows x 1 columns]"
      ]
     },
     "execution_count": 59,
     "metadata": {},
     "output_type": "execute_result"
    }
   ],
   "source": [
    "table19= pd.DataFrame(link)\n",
    "table19"
   ]
  },
  {
   "cell_type": "code",
   "execution_count": 60,
   "id": "6fd09d58",
   "metadata": {},
   "outputs": [],
   "source": [
    "set16=set(table19[0])"
   ]
  },
  {
   "cell_type": "code",
   "execution_count": 61,
   "id": "119c36da",
   "metadata": {},
   "outputs": [
    {
     "data": {
      "text/plain": [
       "237"
      ]
     },
     "execution_count": 61,
     "metadata": {},
     "output_type": "execute_result"
    }
   ],
   "source": [
    "len(set16)"
   ]
  },
  {
   "cell_type": "code",
   "execution_count": 62,
   "id": "f67a9cb4",
   "metadata": {},
   "outputs": [],
   "source": [
    "table19.to_csv('11final_Dietitian.csv')"
   ]
  },
  {
   "cell_type": "markdown",
   "id": "9f47909e",
   "metadata": {},
   "source": [
    "# Extracting link for Gastroenterologist"
   ]
  },
  {
   "cell_type": "code",
   "execution_count": 63,
   "id": "636e3af0",
   "metadata": {},
   "outputs": [],
   "source": [
    "lis2=['Bangalore','Pune','Delhi', 'Chennai', 'Mumbai','Hyderabad']\n",
    "link = []\n",
    "for i in lis2:\n",
    "    driver=webdriver.Firefox()\n",
    "    \n",
    "    url=f'https://www.practo.com/search/doctors?results_type=doctor&q=%5B%7B%22word%22%3A%22gastroenterologist%22%2C%22autocompleted%22%3Atrue%2C%22category%22%3A%22subspeciality%22%7D%5D&city={i}'\n",
    "    driver.get(url)\n",
    "\n",
    "    time.sleep(1)  # Allow 2 seconds for the web page to (open depends on you)\n",
    "    scroll_pause_time = 2 # You can set your own pause time. dont slow too slow that might not able to load more data\n",
    "    screen_height = driver.execute_script(\"return window.screen.height;\")  # get the screen height of the web\n",
    "    A = 1\n",
    "\n",
    "    while True:\n",
    "        soup=BeautifulSoup(driver.page_source,'html.parser')\n",
    "            # scroll one screen height each time\n",
    "        driver.execute_script(\"window.scrollTo(0, {screen_height}*{A});\".format(screen_height=screen_height, A=A))\n",
    "        A += 1\n",
    "        time.sleep(scroll_pause_time)\n",
    "            # update scroll height each time after scrolled, as the scroll height can change after we scrolled the page\n",
    "        scroll_height = driver.execute_script(\"return document.body.scrollHeight;\")\n",
    "            # Break the loop when the height we need to scroll to is larger than the total scroll height\n",
    "        if (screen_height) * A > scroll_height:\n",
    "            break\n",
    "\n",
    "\n",
    "\n",
    "        div_lst3 = soup.find_all('div', class_ = \"info-section\")\n",
    "    for div in div_lst3:\n",
    "        \n",
    "        try:\n",
    "            link.append(div.a['href'])\n",
    "        except TypeError:\n",
    "            pass"
   ]
  },
  {
   "cell_type": "code",
   "execution_count": 64,
   "id": "c2229203",
   "metadata": {},
   "outputs": [
    {
     "data": {
      "text/plain": [
       "254"
      ]
     },
     "execution_count": 64,
     "metadata": {},
     "output_type": "execute_result"
    }
   ],
   "source": [
    "len(link)"
   ]
  },
  {
   "cell_type": "code",
   "execution_count": 65,
   "id": "bc7a3bd1",
   "metadata": {},
   "outputs": [
    {
     "data": {
      "text/html": [
       "<div>\n",
       "<style scoped>\n",
       "    .dataframe tbody tr th:only-of-type {\n",
       "        vertical-align: middle;\n",
       "    }\n",
       "\n",
       "    .dataframe tbody tr th {\n",
       "        vertical-align: top;\n",
       "    }\n",
       "\n",
       "    .dataframe thead th {\n",
       "        text-align: right;\n",
       "    }\n",
       "</style>\n",
       "<table border=\"1\" class=\"dataframe\">\n",
       "  <thead>\n",
       "    <tr style=\"text-align: right;\">\n",
       "      <th></th>\n",
       "      <th>0</th>\n",
       "    </tr>\n",
       "  </thead>\n",
       "  <tbody>\n",
       "    <tr>\n",
       "      <th>0</th>\n",
       "      <td>/bangalore/doctor/dr-maruthesh-g-c-surgeon?pra...</td>\n",
       "    </tr>\n",
       "    <tr>\n",
       "      <th>1</th>\n",
       "      <td>/bangalore/doctor/dr-shabir-ahmed-surgeon?prac...</td>\n",
       "    </tr>\n",
       "    <tr>\n",
       "      <th>2</th>\n",
       "      <td>/bangalore/doctor/dr-rupesh-kalyan-gastroenter...</td>\n",
       "    </tr>\n",
       "    <tr>\n",
       "      <th>3</th>\n",
       "      <td>/bangalore/doctor/dr-k-s-prasanna-gastroentero...</td>\n",
       "    </tr>\n",
       "    <tr>\n",
       "      <th>4</th>\n",
       "      <td>/bangalore/doctor/vamsidhar-gastroenterologist...</td>\n",
       "    </tr>\n",
       "    <tr>\n",
       "      <th>...</th>\n",
       "      <td>...</td>\n",
       "    </tr>\n",
       "    <tr>\n",
       "      <th>249</th>\n",
       "      <td>/hyderabad/doctor/n-karunakar-gastroenterologi...</td>\n",
       "    </tr>\n",
       "    <tr>\n",
       "      <th>250</th>\n",
       "      <td>/hyderabad/doctor/dr-shujaath-asif-m-gastroent...</td>\n",
       "    </tr>\n",
       "    <tr>\n",
       "      <th>251</th>\n",
       "      <td>/hyderabad/doctor/pramod-kumar-22-gastroentero...</td>\n",
       "    </tr>\n",
       "    <tr>\n",
       "      <th>252</th>\n",
       "      <td>/hyderabad/doctor/sivananda-reddy-gastroentero...</td>\n",
       "    </tr>\n",
       "    <tr>\n",
       "      <th>253</th>\n",
       "      <td>/hyderabad/doctor/dr-parag-dashatwar-gastroent...</td>\n",
       "    </tr>\n",
       "  </tbody>\n",
       "</table>\n",
       "<p>254 rows × 1 columns</p>\n",
       "</div>"
      ],
      "text/plain": [
       "                                                     0\n",
       "0    /bangalore/doctor/dr-maruthesh-g-c-surgeon?pra...\n",
       "1    /bangalore/doctor/dr-shabir-ahmed-surgeon?prac...\n",
       "2    /bangalore/doctor/dr-rupesh-kalyan-gastroenter...\n",
       "3    /bangalore/doctor/dr-k-s-prasanna-gastroentero...\n",
       "4    /bangalore/doctor/vamsidhar-gastroenterologist...\n",
       "..                                                 ...\n",
       "249  /hyderabad/doctor/n-karunakar-gastroenterologi...\n",
       "250  /hyderabad/doctor/dr-shujaath-asif-m-gastroent...\n",
       "251  /hyderabad/doctor/pramod-kumar-22-gastroentero...\n",
       "252  /hyderabad/doctor/sivananda-reddy-gastroentero...\n",
       "253  /hyderabad/doctor/dr-parag-dashatwar-gastroent...\n",
       "\n",
       "[254 rows x 1 columns]"
      ]
     },
     "execution_count": 65,
     "metadata": {},
     "output_type": "execute_result"
    }
   ],
   "source": [
    "table20= pd.DataFrame(link)\n",
    "table20"
   ]
  },
  {
   "cell_type": "code",
   "execution_count": 66,
   "id": "2df3d076",
   "metadata": {},
   "outputs": [],
   "source": [
    "set17=set(table20[0])"
   ]
  },
  {
   "cell_type": "code",
   "execution_count": 67,
   "id": "9220ba51",
   "metadata": {},
   "outputs": [
    {
     "data": {
      "text/plain": [
       "254"
      ]
     },
     "execution_count": 67,
     "metadata": {},
     "output_type": "execute_result"
    }
   ],
   "source": [
    "len(set17)"
   ]
  },
  {
   "cell_type": "code",
   "execution_count": 68,
   "id": "bf822828",
   "metadata": {},
   "outputs": [],
   "source": [
    "table20.to_csv('12final_Gastro.csv')"
   ]
  },
  {
   "cell_type": "markdown",
   "id": "1b3437bb",
   "metadata": {},
   "source": [
    "# Extracting link for Neurologist"
   ]
  },
  {
   "cell_type": "code",
   "execution_count": 69,
   "id": "a0bd6a3f",
   "metadata": {},
   "outputs": [],
   "source": [
    "lis2=['Bangalore','Pune','Delhi', 'Chennai', 'Mumbai','Hyderabad']\n",
    "link = []\n",
    "for i in lis2:\n",
    "    driver=webdriver.Firefox()\n",
    "    \n",
    "    url=f'https://www.practo.com/search/doctors?results_type=doctor&q=%5B%7B%22word%22%3A%22neurologist%22%2C%22autocompleted%22%3Atrue%2C%22category%22%3A%22subspeciality%22%7D%5D&city={i}'\n",
    "    driver.get(url)\n",
    "\n",
    "    time.sleep(1)  # Allow 2 seconds for the web page to (open depends on you)\n",
    "    scroll_pause_time = 2 # You can set your own pause time. dont slow too slow that might not able to load more data\n",
    "    screen_height = driver.execute_script(\"return window.screen.height;\")  # get the screen height of the web\n",
    "    A = 1\n",
    "\n",
    "    while True:\n",
    "        soup=BeautifulSoup(driver.page_source,'html.parser')\n",
    "            # scroll one screen height each time\n",
    "        driver.execute_script(\"window.scrollTo(0, {screen_height}*{A});\".format(screen_height=screen_height, A=A))\n",
    "        A += 1\n",
    "        time.sleep(scroll_pause_time)\n",
    "            # update scroll height each time after scrolled, as the scroll height can change after we scrolled the page\n",
    "        scroll_height = driver.execute_script(\"return document.body.scrollHeight;\")\n",
    "            # Break the loop when the height we need to scroll to is larger than the total scroll height\n",
    "        if (screen_height) * A > scroll_height:\n",
    "            break\n",
    "\n",
    "\n",
    "\n",
    "        div_lst3 = soup.find_all('div', class_ = \"info-section\")\n",
    "    for div in div_lst3:\n",
    "        \n",
    "        try:\n",
    "            link.append(div.a['href'])\n",
    "        except TypeError:\n",
    "            pass"
   ]
  },
  {
   "cell_type": "code",
   "execution_count": 70,
   "id": "1dcd0ba1",
   "metadata": {},
   "outputs": [
    {
     "data": {
      "text/plain": [
       "194"
      ]
     },
     "execution_count": 70,
     "metadata": {},
     "output_type": "execute_result"
    }
   ],
   "source": [
    "len(link)"
   ]
  },
  {
   "cell_type": "code",
   "execution_count": 71,
   "id": "f9e196a0",
   "metadata": {},
   "outputs": [
    {
     "data": {
      "text/html": [
       "<div>\n",
       "<style scoped>\n",
       "    .dataframe tbody tr th:only-of-type {\n",
       "        vertical-align: middle;\n",
       "    }\n",
       "\n",
       "    .dataframe tbody tr th {\n",
       "        vertical-align: top;\n",
       "    }\n",
       "\n",
       "    .dataframe thead th {\n",
       "        text-align: right;\n",
       "    }\n",
       "</style>\n",
       "<table border=\"1\" class=\"dataframe\">\n",
       "  <thead>\n",
       "    <tr style=\"text-align: right;\">\n",
       "      <th></th>\n",
       "      <th>0</th>\n",
       "    </tr>\n",
       "  </thead>\n",
       "  <tbody>\n",
       "    <tr>\n",
       "      <th>0</th>\n",
       "      <td>/bangalore/doctor/dr-joshy-e-v-neurologist?pra...</td>\n",
       "    </tr>\n",
       "    <tr>\n",
       "      <th>1</th>\n",
       "      <td>/bangalore/doctor/dr-ajith-kumar-roy-neurologi...</td>\n",
       "    </tr>\n",
       "    <tr>\n",
       "      <th>2</th>\n",
       "      <td>/bangalore/doctor/dr-sunil-v-furtado?practice_...</td>\n",
       "    </tr>\n",
       "    <tr>\n",
       "      <th>3</th>\n",
       "      <td>/bangalore/doctor/dr-advait-kulkarni-1-neurolo...</td>\n",
       "    </tr>\n",
       "    <tr>\n",
       "      <th>4</th>\n",
       "      <td>/bangalore/doctor/dr-karthik-n-neurologist-ear...</td>\n",
       "    </tr>\n",
       "    <tr>\n",
       "      <th>...</th>\n",
       "      <td>...</td>\n",
       "    </tr>\n",
       "    <tr>\n",
       "      <th>189</th>\n",
       "      <td>/hyderabad/doctor/dr-murali-krishna-ch-v-neuro...</td>\n",
       "    </tr>\n",
       "    <tr>\n",
       "      <th>190</th>\n",
       "      <td>/hyderabad/doctor/b-kirthi-theja-neurologist?p...</td>\n",
       "    </tr>\n",
       "    <tr>\n",
       "      <th>191</th>\n",
       "      <td>/hyderabad/doctor/ch-praveen-neurologist?pract...</td>\n",
       "    </tr>\n",
       "    <tr>\n",
       "      <th>192</th>\n",
       "      <td>/hyderabad/doctor/dr-murali-krishna-konda-neur...</td>\n",
       "    </tr>\n",
       "    <tr>\n",
       "      <th>193</th>\n",
       "      <td>/hyderabad/doctor/dr-manoj-vasi-reddy-neurolog...</td>\n",
       "    </tr>\n",
       "  </tbody>\n",
       "</table>\n",
       "<p>194 rows × 1 columns</p>\n",
       "</div>"
      ],
      "text/plain": [
       "                                                     0\n",
       "0    /bangalore/doctor/dr-joshy-e-v-neurologist?pra...\n",
       "1    /bangalore/doctor/dr-ajith-kumar-roy-neurologi...\n",
       "2    /bangalore/doctor/dr-sunil-v-furtado?practice_...\n",
       "3    /bangalore/doctor/dr-advait-kulkarni-1-neurolo...\n",
       "4    /bangalore/doctor/dr-karthik-n-neurologist-ear...\n",
       "..                                                 ...\n",
       "189  /hyderabad/doctor/dr-murali-krishna-ch-v-neuro...\n",
       "190  /hyderabad/doctor/b-kirthi-theja-neurologist?p...\n",
       "191  /hyderabad/doctor/ch-praveen-neurologist?pract...\n",
       "192  /hyderabad/doctor/dr-murali-krishna-konda-neur...\n",
       "193  /hyderabad/doctor/dr-manoj-vasi-reddy-neurolog...\n",
       "\n",
       "[194 rows x 1 columns]"
      ]
     },
     "execution_count": 71,
     "metadata": {},
     "output_type": "execute_result"
    }
   ],
   "source": [
    "table21= pd.DataFrame(link)\n",
    "table21"
   ]
  },
  {
   "cell_type": "code",
   "execution_count": 72,
   "id": "30a35859",
   "metadata": {},
   "outputs": [],
   "source": [
    "set18=set(table21[0])"
   ]
  },
  {
   "cell_type": "code",
   "execution_count": 73,
   "id": "df8135e7",
   "metadata": {},
   "outputs": [
    {
     "data": {
      "text/plain": [
       "194"
      ]
     },
     "execution_count": 73,
     "metadata": {},
     "output_type": "execute_result"
    }
   ],
   "source": [
    "len(set18)"
   ]
  },
  {
   "cell_type": "code",
   "execution_count": 74,
   "id": "528cf402",
   "metadata": {},
   "outputs": [],
   "source": [
    "table21.to_csv('13final_Neurologist.csv')"
   ]
  },
  {
   "cell_type": "markdown",
   "id": "f8037ef2",
   "metadata": {},
   "source": [
    "# Extracting link for Neurosurgeon"
   ]
  },
  {
   "cell_type": "code",
   "execution_count": 75,
   "id": "f50b3a6e",
   "metadata": {},
   "outputs": [],
   "source": [
    "lis2=['Bangalore','Pune','Delhi', 'Chennai', 'Mumbai','Hyderabad']\n",
    "link = []\n",
    "for i in lis2:\n",
    "    driver=webdriver.Firefox()\n",
    "    \n",
    "    url=f'https://www.practo.com/search/doctors?results_type=doctor&q=%5B%7B%22word%22%3A%22neurosurgeon%22%2C%22autocompleted%22%3Atrue%2C%22category%22%3A%22subspeciality%22%7D%5D&city={i}'\n",
    "    driver.get(url)\n",
    "\n",
    "    time.sleep(1)  # Allow 2 seconds for the web page to (open depends on you)\n",
    "    scroll_pause_time = 2 # You can set your own pause time. dont slow too slow that might not able to load more data\n",
    "    screen_height = driver.execute_script(\"return window.screen.height;\")  # get the screen height of the web\n",
    "    A = 1\n",
    "\n",
    "    while True:\n",
    "        soup=BeautifulSoup(driver.page_source,'html.parser')\n",
    "            # scroll one screen height each time\n",
    "        driver.execute_script(\"window.scrollTo(0, {screen_height}*{A});\".format(screen_height=screen_height, A=A))\n",
    "        A += 1\n",
    "        time.sleep(scroll_pause_time)\n",
    "            # update scroll height each time after scrolled, as the scroll height can change after we scrolled the page\n",
    "        scroll_height = driver.execute_script(\"return document.body.scrollHeight;\")\n",
    "            # Break the loop when the height we need to scroll to is larger than the total scroll height\n",
    "        if (screen_height) * A > scroll_height:\n",
    "            break\n",
    "\n",
    "\n",
    "\n",
    "        div_lst3 = soup.find_all('div', class_ = \"info-section\")\n",
    "    for div in div_lst3:\n",
    "        \n",
    "        try:\n",
    "            link.append(div.a['href'])\n",
    "        except TypeError:\n",
    "            pass"
   ]
  },
  {
   "cell_type": "code",
   "execution_count": 76,
   "id": "ed42f336",
   "metadata": {},
   "outputs": [
    {
     "data": {
      "text/plain": [
       "181"
      ]
     },
     "execution_count": 76,
     "metadata": {},
     "output_type": "execute_result"
    }
   ],
   "source": [
    "len(link)"
   ]
  },
  {
   "cell_type": "code",
   "execution_count": 77,
   "id": "8baf5edd",
   "metadata": {},
   "outputs": [
    {
     "data": {
      "text/html": [
       "<div>\n",
       "<style scoped>\n",
       "    .dataframe tbody tr th:only-of-type {\n",
       "        vertical-align: middle;\n",
       "    }\n",
       "\n",
       "    .dataframe tbody tr th {\n",
       "        vertical-align: top;\n",
       "    }\n",
       "\n",
       "    .dataframe thead th {\n",
       "        text-align: right;\n",
       "    }\n",
       "</style>\n",
       "<table border=\"1\" class=\"dataframe\">\n",
       "  <thead>\n",
       "    <tr style=\"text-align: right;\">\n",
       "      <th></th>\n",
       "      <th>0</th>\n",
       "    </tr>\n",
       "  </thead>\n",
       "  <tbody>\n",
       "    <tr>\n",
       "      <th>0</th>\n",
       "      <td>/bangalore/doctor/ganesh-k-murthy-neurosurgeon...</td>\n",
       "    </tr>\n",
       "    <tr>\n",
       "      <th>1</th>\n",
       "      <td>/bangalore/doctor/dr-arjun-srivatsa-neurosurge...</td>\n",
       "    </tr>\n",
       "    <tr>\n",
       "      <th>2</th>\n",
       "      <td>/bangalore/doctor/dr-sunil-v-furtado?practice_...</td>\n",
       "    </tr>\n",
       "    <tr>\n",
       "      <th>3</th>\n",
       "      <td>/bangalore/doctor/k-kartik-revanappa-neurosurg...</td>\n",
       "    </tr>\n",
       "    <tr>\n",
       "      <th>4</th>\n",
       "      <td>/bangalore/doctor/deepak-a-n-neurosurgeon?prac...</td>\n",
       "    </tr>\n",
       "    <tr>\n",
       "      <th>...</th>\n",
       "      <td>...</td>\n",
       "    </tr>\n",
       "    <tr>\n",
       "      <th>176</th>\n",
       "      <td>/hyderabad/doctor/dr-venkatesh-yeddula-neurosu...</td>\n",
       "    </tr>\n",
       "    <tr>\n",
       "      <th>177</th>\n",
       "      <td>/hyderabad/doctor/dr-j-gauri-shankar-neurosurg...</td>\n",
       "    </tr>\n",
       "    <tr>\n",
       "      <th>178</th>\n",
       "      <td>/hyderabad/doctor/dr-sharan-basappa-neurosurge...</td>\n",
       "    </tr>\n",
       "    <tr>\n",
       "      <th>179</th>\n",
       "      <td>/hyderabad/doctor/dr-shyam-angatha-neurosurgeo...</td>\n",
       "    </tr>\n",
       "    <tr>\n",
       "      <th>180</th>\n",
       "      <td>/hyderabad/doctor/dr-sanjeev-kumar-3-neurosurg...</td>\n",
       "    </tr>\n",
       "  </tbody>\n",
       "</table>\n",
       "<p>181 rows × 1 columns</p>\n",
       "</div>"
      ],
      "text/plain": [
       "                                                     0\n",
       "0    /bangalore/doctor/ganesh-k-murthy-neurosurgeon...\n",
       "1    /bangalore/doctor/dr-arjun-srivatsa-neurosurge...\n",
       "2    /bangalore/doctor/dr-sunil-v-furtado?practice_...\n",
       "3    /bangalore/doctor/k-kartik-revanappa-neurosurg...\n",
       "4    /bangalore/doctor/deepak-a-n-neurosurgeon?prac...\n",
       "..                                                 ...\n",
       "176  /hyderabad/doctor/dr-venkatesh-yeddula-neurosu...\n",
       "177  /hyderabad/doctor/dr-j-gauri-shankar-neurosurg...\n",
       "178  /hyderabad/doctor/dr-sharan-basappa-neurosurge...\n",
       "179  /hyderabad/doctor/dr-shyam-angatha-neurosurgeo...\n",
       "180  /hyderabad/doctor/dr-sanjeev-kumar-3-neurosurg...\n",
       "\n",
       "[181 rows x 1 columns]"
      ]
     },
     "execution_count": 77,
     "metadata": {},
     "output_type": "execute_result"
    }
   ],
   "source": [
    "table22= pd.DataFrame(link)\n",
    "table22"
   ]
  },
  {
   "cell_type": "code",
   "execution_count": 78,
   "id": "0bda65d2",
   "metadata": {},
   "outputs": [],
   "source": [
    "set19=set(table22[0])"
   ]
  },
  {
   "cell_type": "code",
   "execution_count": 79,
   "id": "4b23140c",
   "metadata": {},
   "outputs": [
    {
     "data": {
      "text/plain": [
       "181"
      ]
     },
     "execution_count": 79,
     "metadata": {},
     "output_type": "execute_result"
    }
   ],
   "source": [
    "len(set19)"
   ]
  },
  {
   "cell_type": "code",
   "execution_count": 80,
   "id": "6ccf0ee7",
   "metadata": {},
   "outputs": [],
   "source": [
    "table22.to_csv('14final_Neurosurgeon.csv')"
   ]
  },
  {
   "cell_type": "markdown",
   "id": "004fb82a",
   "metadata": {},
   "source": [
    "# Extracting link for Pulmonologist"
   ]
  },
  {
   "cell_type": "code",
   "execution_count": 81,
   "id": "1f746e50",
   "metadata": {},
   "outputs": [],
   "source": [
    "lis2=['Bangalore','Pune','Delhi', 'Chennai', 'Mumbai','Hyderabad']\n",
    "link = []\n",
    "for i in lis2:\n",
    "    driver=webdriver.Firefox()\n",
    "    \n",
    "    url=f'https://www.practo.com/search/doctors?results_type=doctor&q=%5B%7B%22word%22%3A%22pulmonologist%22%2C%22autocompleted%22%3Atrue%2C%22category%22%3A%22subspeciality%22%7D%5D&city={i}'\n",
    "    driver.get(url)\n",
    "\n",
    "    time.sleep(1)  # Allow 2 seconds for the web page to (open depends on you)\n",
    "    scroll_pause_time = 2 # You can set your own pause time. dont slow too slow that might not able to load more data\n",
    "    screen_height = driver.execute_script(\"return window.screen.height;\")  # get the screen height of the web\n",
    "    A = 1\n",
    "\n",
    "    while True:\n",
    "        soup=BeautifulSoup(driver.page_source,'html.parser')\n",
    "            # scroll one screen height each time\n",
    "        driver.execute_script(\"window.scrollTo(0, {screen_height}*{A});\".format(screen_height=screen_height, A=A))\n",
    "        A += 1\n",
    "        time.sleep(scroll_pause_time)\n",
    "            # update scroll height each time after scrolled, as the scroll height can change after we scrolled the page\n",
    "        scroll_height = driver.execute_script(\"return document.body.scrollHeight;\")\n",
    "            # Break the loop when the height we need to scroll to is larger than the total scroll height\n",
    "        if (screen_height) * A > scroll_height:\n",
    "            break\n",
    "\n",
    "\n",
    "\n",
    "        div_lst3 = soup.find_all('div', class_ = \"info-section\")\n",
    "    for div in div_lst3:\n",
    "        \n",
    "        try:\n",
    "            link.append(div.a['href'])\n",
    "        except TypeError:\n",
    "            pass"
   ]
  },
  {
   "cell_type": "code",
   "execution_count": 82,
   "id": "0d7ce197",
   "metadata": {},
   "outputs": [
    {
     "data": {
      "text/plain": [
       "176"
      ]
     },
     "execution_count": 82,
     "metadata": {},
     "output_type": "execute_result"
    }
   ],
   "source": [
    "len(link)"
   ]
  },
  {
   "cell_type": "code",
   "execution_count": 83,
   "id": "ec9bce9a",
   "metadata": {},
   "outputs": [
    {
     "data": {
      "text/html": [
       "<div>\n",
       "<style scoped>\n",
       "    .dataframe tbody tr th:only-of-type {\n",
       "        vertical-align: middle;\n",
       "    }\n",
       "\n",
       "    .dataframe tbody tr th {\n",
       "        vertical-align: top;\n",
       "    }\n",
       "\n",
       "    .dataframe thead th {\n",
       "        text-align: right;\n",
       "    }\n",
       "</style>\n",
       "<table border=\"1\" class=\"dataframe\">\n",
       "  <thead>\n",
       "    <tr style=\"text-align: right;\">\n",
       "      <th></th>\n",
       "      <th>0</th>\n",
       "    </tr>\n",
       "  </thead>\n",
       "  <tbody>\n",
       "    <tr>\n",
       "      <th>0</th>\n",
       "      <td>/bangalore/doctor/dr-raghu-6-pulmonologist?pra...</td>\n",
       "    </tr>\n",
       "    <tr>\n",
       "      <th>1</th>\n",
       "      <td>/bangalore/doctor/dr-r-chaitanya-sravanthi-inf...</td>\n",
       "    </tr>\n",
       "    <tr>\n",
       "      <th>2</th>\n",
       "      <td>/bangalore/doctor/dr-shivraj-pulmonologist?pra...</td>\n",
       "    </tr>\n",
       "    <tr>\n",
       "      <th>3</th>\n",
       "      <td>/bangalore/doctor/m-b-rajashekhar?practice_id=...</td>\n",
       "    </tr>\n",
       "    <tr>\n",
       "      <th>4</th>\n",
       "      <td>/bangalore/doctor/dr-huzefa-general-physician-...</td>\n",
       "    </tr>\n",
       "    <tr>\n",
       "      <th>...</th>\n",
       "      <td>...</td>\n",
       "    </tr>\n",
       "    <tr>\n",
       "      <th>171</th>\n",
       "      <td>/hyderabad/doctor/dr-lakshmi-37-pulmonologist?...</td>\n",
       "    </tr>\n",
       "    <tr>\n",
       "      <th>172</th>\n",
       "      <td>/hyderabad/doctor/dr-anusha-kantheti-pulmonolo...</td>\n",
       "    </tr>\n",
       "    <tr>\n",
       "      <th>173</th>\n",
       "      <td>/hyderabad/doctor/dr-prapulla-chandra-pulmonol...</td>\n",
       "    </tr>\n",
       "    <tr>\n",
       "      <th>174</th>\n",
       "      <td>/hyderabad/doctor/dr-sravan-kumar-g-pulmonolog...</td>\n",
       "    </tr>\n",
       "    <tr>\n",
       "      <th>175</th>\n",
       "      <td>/hyderabad/doctor/dr-ranganath-d-pulmonologist...</td>\n",
       "    </tr>\n",
       "  </tbody>\n",
       "</table>\n",
       "<p>176 rows × 1 columns</p>\n",
       "</div>"
      ],
      "text/plain": [
       "                                                     0\n",
       "0    /bangalore/doctor/dr-raghu-6-pulmonologist?pra...\n",
       "1    /bangalore/doctor/dr-r-chaitanya-sravanthi-inf...\n",
       "2    /bangalore/doctor/dr-shivraj-pulmonologist?pra...\n",
       "3    /bangalore/doctor/m-b-rajashekhar?practice_id=...\n",
       "4    /bangalore/doctor/dr-huzefa-general-physician-...\n",
       "..                                                 ...\n",
       "171  /hyderabad/doctor/dr-lakshmi-37-pulmonologist?...\n",
       "172  /hyderabad/doctor/dr-anusha-kantheti-pulmonolo...\n",
       "173  /hyderabad/doctor/dr-prapulla-chandra-pulmonol...\n",
       "174  /hyderabad/doctor/dr-sravan-kumar-g-pulmonolog...\n",
       "175  /hyderabad/doctor/dr-ranganath-d-pulmonologist...\n",
       "\n",
       "[176 rows x 1 columns]"
      ]
     },
     "execution_count": 83,
     "metadata": {},
     "output_type": "execute_result"
    }
   ],
   "source": [
    "table23= pd.DataFrame(link)\n",
    "table23"
   ]
  },
  {
   "cell_type": "code",
   "execution_count": 84,
   "id": "560bd845",
   "metadata": {},
   "outputs": [],
   "source": [
    "set20=set(table23[0])"
   ]
  },
  {
   "cell_type": "code",
   "execution_count": 85,
   "id": "26eba416",
   "metadata": {},
   "outputs": [
    {
     "data": {
      "text/plain": [
       "176"
      ]
     },
     "execution_count": 85,
     "metadata": {},
     "output_type": "execute_result"
    }
   ],
   "source": [
    "len(set20)"
   ]
  },
  {
   "cell_type": "code",
   "execution_count": 86,
   "id": "fc0b9565",
   "metadata": {},
   "outputs": [],
   "source": [
    "table23.to_csv('15final_Pulmonologist.csv')"
   ]
  },
  {
   "cell_type": "markdown",
   "id": "23cc740b",
   "metadata": {},
   "source": [
    "# Extracting link for Bariatric Surgeon"
   ]
  },
  {
   "cell_type": "code",
   "execution_count": 87,
   "id": "1c2c11e2",
   "metadata": {},
   "outputs": [],
   "source": [
    "lis2=['Bangalore','Pune','Delhi', 'Chennai', 'Mumbai','Hyderabad']\n",
    "link = []\n",
    "for i in lis2:\n",
    "    driver=webdriver.Firefox()\n",
    "    \n",
    "    url=f'https://www.practo.com/search/doctors?results_type=doctor&q=%5B%7B%22word%22%3A%22bariatric%20surgeon%22%2C%22autocompleted%22%3Atrue%2C%22category%22%3A%22subspeciality%22%7D%5D&city={i}'\n",
    "    driver.get(url)\n",
    "\n",
    "    time.sleep(1)  # Allow 2 seconds for the web page to (open depends on you)\n",
    "    scroll_pause_time = 2 # You can set your own pause time. dont slow too slow that might not able to load more data\n",
    "    screen_height = driver.execute_script(\"return window.screen.height;\")  # get the screen height of the web\n",
    "    A = 1\n",
    "\n",
    "    while True:\n",
    "        soup=BeautifulSoup(driver.page_source,'html.parser')\n",
    "            # scroll one screen height each time\n",
    "        driver.execute_script(\"window.scrollTo(0, {screen_height}*{A});\".format(screen_height=screen_height, A=A))\n",
    "        A += 1\n",
    "        time.sleep(scroll_pause_time)\n",
    "            # update scroll height each time after scrolled, as the scroll height can change after we scrolled the page\n",
    "        scroll_height = driver.execute_script(\"return document.body.scrollHeight;\")\n",
    "            # Break the loop when the height we need to scroll to is larger than the total scroll height\n",
    "        if (screen_height) * A > scroll_height:\n",
    "            break\n",
    "\n",
    "\n",
    "\n",
    "        div_lst3 = soup.find_all('div', class_ = \"info-section\")\n",
    "    for div in div_lst3:\n",
    "        \n",
    "        try:\n",
    "            link.append(div.a['href'])\n",
    "        except TypeError:\n",
    "            pass"
   ]
  },
  {
   "cell_type": "code",
   "execution_count": 88,
   "id": "350134a9",
   "metadata": {},
   "outputs": [
    {
     "data": {
      "text/plain": [
       "131"
      ]
     },
     "execution_count": 88,
     "metadata": {},
     "output_type": "execute_result"
    }
   ],
   "source": [
    "len(link)"
   ]
  },
  {
   "cell_type": "code",
   "execution_count": 89,
   "id": "1b6569b8",
   "metadata": {},
   "outputs": [
    {
     "data": {
      "text/html": [
       "<div>\n",
       "<style scoped>\n",
       "    .dataframe tbody tr th:only-of-type {\n",
       "        vertical-align: middle;\n",
       "    }\n",
       "\n",
       "    .dataframe tbody tr th {\n",
       "        vertical-align: top;\n",
       "    }\n",
       "\n",
       "    .dataframe thead th {\n",
       "        text-align: right;\n",
       "    }\n",
       "</style>\n",
       "<table border=\"1\" class=\"dataframe\">\n",
       "  <thead>\n",
       "    <tr style=\"text-align: right;\">\n",
       "      <th></th>\n",
       "      <th>0</th>\n",
       "    </tr>\n",
       "  </thead>\n",
       "  <tbody>\n",
       "    <tr>\n",
       "      <th>0</th>\n",
       "      <td>/bangalore/doctor/dr-parameshwar-c-m-gastroent...</td>\n",
       "    </tr>\n",
       "    <tr>\n",
       "      <th>1</th>\n",
       "      <td>/bangalore/doctor/dr-shiva-kumar-general-surge...</td>\n",
       "    </tr>\n",
       "    <tr>\n",
       "      <th>2</th>\n",
       "      <td>/bangalore/doctor/vamsi-krishna-m-general-surg...</td>\n",
       "    </tr>\n",
       "    <tr>\n",
       "      <th>3</th>\n",
       "      <td>/bangalore/doctor/vijay-c-r-reddy-general-surg...</td>\n",
       "    </tr>\n",
       "    <tr>\n",
       "      <th>4</th>\n",
       "      <td>/bangalore/doctor/dr-maruthesh-g-c-surgeon?pra...</td>\n",
       "    </tr>\n",
       "    <tr>\n",
       "      <th>...</th>\n",
       "      <td>...</td>\n",
       "    </tr>\n",
       "    <tr>\n",
       "      <th>126</th>\n",
       "      <td>/hyderabad/doctor/pavan-kumar-5-surgical-gastr...</td>\n",
       "    </tr>\n",
       "    <tr>\n",
       "      <th>127</th>\n",
       "      <td>/hyderabad/doctor/v-pavan-kumar-gastrointestin...</td>\n",
       "    </tr>\n",
       "    <tr>\n",
       "      <th>128</th>\n",
       "      <td>/hyderabad/doctor/abhishek-katakwar-bariatric-...</td>\n",
       "    </tr>\n",
       "    <tr>\n",
       "      <th>129</th>\n",
       "      <td>/hyderabad/doctor/dr-krishna-moorthy-plastic-s...</td>\n",
       "    </tr>\n",
       "    <tr>\n",
       "      <th>130</th>\n",
       "      <td>/hyderabad/doctor/jayasimha-1-general-surgeon?...</td>\n",
       "    </tr>\n",
       "  </tbody>\n",
       "</table>\n",
       "<p>131 rows × 1 columns</p>\n",
       "</div>"
      ],
      "text/plain": [
       "                                                     0\n",
       "0    /bangalore/doctor/dr-parameshwar-c-m-gastroent...\n",
       "1    /bangalore/doctor/dr-shiva-kumar-general-surge...\n",
       "2    /bangalore/doctor/vamsi-krishna-m-general-surg...\n",
       "3    /bangalore/doctor/vijay-c-r-reddy-general-surg...\n",
       "4    /bangalore/doctor/dr-maruthesh-g-c-surgeon?pra...\n",
       "..                                                 ...\n",
       "126  /hyderabad/doctor/pavan-kumar-5-surgical-gastr...\n",
       "127  /hyderabad/doctor/v-pavan-kumar-gastrointestin...\n",
       "128  /hyderabad/doctor/abhishek-katakwar-bariatric-...\n",
       "129  /hyderabad/doctor/dr-krishna-moorthy-plastic-s...\n",
       "130  /hyderabad/doctor/jayasimha-1-general-surgeon?...\n",
       "\n",
       "[131 rows x 1 columns]"
      ]
     },
     "execution_count": 89,
     "metadata": {},
     "output_type": "execute_result"
    }
   ],
   "source": [
    "table24= pd.DataFrame(link)\n",
    "table24"
   ]
  },
  {
   "cell_type": "code",
   "execution_count": 90,
   "id": "7856f7e5",
   "metadata": {},
   "outputs": [],
   "source": [
    "set21=set(table24[0])"
   ]
  },
  {
   "cell_type": "code",
   "execution_count": 91,
   "id": "b38c3d87",
   "metadata": {},
   "outputs": [
    {
     "data": {
      "text/plain": [
       "131"
      ]
     },
     "execution_count": 91,
     "metadata": {},
     "output_type": "execute_result"
    }
   ],
   "source": [
    "len(set21)"
   ]
  },
  {
   "cell_type": "code",
   "execution_count": 92,
   "id": "00a9215b",
   "metadata": {},
   "outputs": [],
   "source": [
    "table24.to_csv('16final_Bariatric.csv')"
   ]
  },
  {
   "cell_type": "markdown",
   "id": "724b4483",
   "metadata": {},
   "source": [
    "# Extracting link for Ophthalmologist"
   ]
  },
  {
   "cell_type": "code",
   "execution_count": 93,
   "id": "72526cb2",
   "metadata": {},
   "outputs": [],
   "source": [
    "lis2=['Bangalore','Pune','Delhi', 'Chennai', 'Mumbai','Hyderabad']\n",
    "link = []\n",
    "for i in lis2:\n",
    "    driver=webdriver.Firefox()\n",
    "    \n",
    "    url=f'https://www.practo.com/search/doctors?results_type=doctor&q=%5B%7B%22word%22%3A%22ophthalmologist%22%2C%22autocompleted%22%3Atrue%2C%22category%22%3A%22subspeciality%22%7D%5D&city={i}'\n",
    "    driver.get(url)\n",
    "\n",
    "    time.sleep(1)  # Allow 2 seconds for the web page to (open depends on you)\n",
    "    scroll_pause_time = 2 # You can set your own pause time. dont slow too slow that might not able to load more data\n",
    "    screen_height = driver.execute_script(\"return window.screen.height;\")  # get the screen height of the web\n",
    "    A = 1\n",
    "\n",
    "    while True:\n",
    "        soup=BeautifulSoup(driver.page_source,'html.parser')\n",
    "            # scroll one screen height each time\n",
    "        driver.execute_script(\"window.scrollTo(0, {screen_height}*{A});\".format(screen_height=screen_height, A=A))\n",
    "        A += 1\n",
    "        time.sleep(scroll_pause_time)\n",
    "            # update scroll height each time after scrolled, as the scroll height can change after we scrolled the page\n",
    "        scroll_height = driver.execute_script(\"return document.body.scrollHeight;\")\n",
    "            # Break the loop when the height we need to scroll to is larger than the total scroll height\n",
    "        if (screen_height) * A > scroll_height:\n",
    "            break\n",
    "\n",
    "\n",
    "\n",
    "        div_lst3 = soup.find_all('div', class_ = \"info-section\")\n",
    "    for div in div_lst3:\n",
    "        \n",
    "        try:\n",
    "            link.append(div.a['href'])\n",
    "        except TypeError:\n",
    "            pass"
   ]
  },
  {
   "cell_type": "code",
   "execution_count": 94,
   "id": "00adff6e",
   "metadata": {},
   "outputs": [
    {
     "data": {
      "text/plain": [
       "411"
      ]
     },
     "execution_count": 94,
     "metadata": {},
     "output_type": "execute_result"
    }
   ],
   "source": [
    "len(link)"
   ]
  },
  {
   "cell_type": "code",
   "execution_count": 95,
   "id": "b11081f0",
   "metadata": {},
   "outputs": [
    {
     "data": {
      "text/html": [
       "<div>\n",
       "<style scoped>\n",
       "    .dataframe tbody tr th:only-of-type {\n",
       "        vertical-align: middle;\n",
       "    }\n",
       "\n",
       "    .dataframe tbody tr th {\n",
       "        vertical-align: top;\n",
       "    }\n",
       "\n",
       "    .dataframe thead th {\n",
       "        text-align: right;\n",
       "    }\n",
       "</style>\n",
       "<table border=\"1\" class=\"dataframe\">\n",
       "  <thead>\n",
       "    <tr style=\"text-align: right;\">\n",
       "      <th></th>\n",
       "      <th>0</th>\n",
       "    </tr>\n",
       "  </thead>\n",
       "  <tbody>\n",
       "    <tr>\n",
       "      <th>0</th>\n",
       "      <td>/bangalore/doctor/dr-yogesh-16-ophthalmologist...</td>\n",
       "    </tr>\n",
       "    <tr>\n",
       "      <th>1</th>\n",
       "      <td>/bangalore/doctor/dr-vinay-patil-ophthalmologi...</td>\n",
       "    </tr>\n",
       "    <tr>\n",
       "      <th>2</th>\n",
       "      <td>/bangalore/doctor/dr-swarna-t-p-ophthalmologis...</td>\n",
       "    </tr>\n",
       "    <tr>\n",
       "      <th>3</th>\n",
       "      <td>/bangalore/doctor/prashant-singh-2-ophthalmolo...</td>\n",
       "    </tr>\n",
       "    <tr>\n",
       "      <th>4</th>\n",
       "      <td>/bangalore/doctor/pinto-kiran-ophthalmologist?...</td>\n",
       "    </tr>\n",
       "    <tr>\n",
       "      <th>...</th>\n",
       "      <td>...</td>\n",
       "    </tr>\n",
       "    <tr>\n",
       "      <th>406</th>\n",
       "      <td>/hyderabad/doctor/dr-varsha-tapadia-ophthalmol...</td>\n",
       "    </tr>\n",
       "    <tr>\n",
       "      <th>407</th>\n",
       "      <td>/hyderabad/doctor/chandra-shekhar-reddy-ophtha...</td>\n",
       "    </tr>\n",
       "    <tr>\n",
       "      <th>408</th>\n",
       "      <td>/hyderabad/doctor/dr-sucharitha-2-ophthalmolog...</td>\n",
       "    </tr>\n",
       "    <tr>\n",
       "      <th>409</th>\n",
       "      <td>/hyderabad/doctor/dr-s-r-p-kumar-valmeki-ophth...</td>\n",
       "    </tr>\n",
       "    <tr>\n",
       "      <th>410</th>\n",
       "      <td>/hyderabad/doctor/pravalika-rebbala-ophthalmol...</td>\n",
       "    </tr>\n",
       "  </tbody>\n",
       "</table>\n",
       "<p>411 rows × 1 columns</p>\n",
       "</div>"
      ],
      "text/plain": [
       "                                                     0\n",
       "0    /bangalore/doctor/dr-yogesh-16-ophthalmologist...\n",
       "1    /bangalore/doctor/dr-vinay-patil-ophthalmologi...\n",
       "2    /bangalore/doctor/dr-swarna-t-p-ophthalmologis...\n",
       "3    /bangalore/doctor/prashant-singh-2-ophthalmolo...\n",
       "4    /bangalore/doctor/pinto-kiran-ophthalmologist?...\n",
       "..                                                 ...\n",
       "406  /hyderabad/doctor/dr-varsha-tapadia-ophthalmol...\n",
       "407  /hyderabad/doctor/chandra-shekhar-reddy-ophtha...\n",
       "408  /hyderabad/doctor/dr-sucharitha-2-ophthalmolog...\n",
       "409  /hyderabad/doctor/dr-s-r-p-kumar-valmeki-ophth...\n",
       "410  /hyderabad/doctor/pravalika-rebbala-ophthalmol...\n",
       "\n",
       "[411 rows x 1 columns]"
      ]
     },
     "execution_count": 95,
     "metadata": {},
     "output_type": "execute_result"
    }
   ],
   "source": [
    "table25= pd.DataFrame(link)\n",
    "table25"
   ]
  },
  {
   "cell_type": "code",
   "execution_count": 96,
   "id": "5afe776e",
   "metadata": {},
   "outputs": [],
   "source": [
    "set22=set(table25[0])"
   ]
  },
  {
   "cell_type": "code",
   "execution_count": 97,
   "id": "1f9f8bca",
   "metadata": {},
   "outputs": [
    {
     "data": {
      "text/plain": [
       "411"
      ]
     },
     "execution_count": 97,
     "metadata": {},
     "output_type": "execute_result"
    }
   ],
   "source": [
    "len(set22)"
   ]
  },
  {
   "cell_type": "code",
   "execution_count": 98,
   "id": "7b938181",
   "metadata": {},
   "outputs": [],
   "source": [
    "table25.to_csv('17final_Ophthalmologist.csv')"
   ]
  },
  {
   "cell_type": "markdown",
   "id": "846162b1",
   "metadata": {},
   "source": [
    "# Extracting link for Rheumatologist"
   ]
  },
  {
   "cell_type": "code",
   "execution_count": 99,
   "id": "0767d1e7",
   "metadata": {},
   "outputs": [],
   "source": [
    "lis2=['Bangalore','Pune','Delhi', 'Chennai', 'Mumbai','Hyderabad']\n",
    "link = []\n",
    "for i in lis2:\n",
    "    driver=webdriver.Firefox()\n",
    "    \n",
    "    url=f'https://www.practo.com/search/doctors?results_type=doctor&q=%5B%7B%22word%22%3A%22rheumatologist%22%2C%22autocompleted%22%3Atrue%2C%22category%22%3A%22subspeciality%22%7D%5D&city={i}'\n",
    "    driver.get(url)\n",
    "\n",
    "    time.sleep(1)  # Allow 2 seconds for the web page to (open depends on you)\n",
    "    scroll_pause_time = 2 # You can set your own pause time. dont slow too slow that might not able to load more data\n",
    "    screen_height = driver.execute_script(\"return window.screen.height;\")  # get the screen height of the web\n",
    "    A = 1\n",
    "\n",
    "    while True:\n",
    "        soup=BeautifulSoup(driver.page_source,'html.parser')\n",
    "            # scroll one screen height each time\n",
    "        driver.execute_script(\"window.scrollTo(0, {screen_height}*{A});\".format(screen_height=screen_height, A=A))\n",
    "        A += 1\n",
    "        time.sleep(scroll_pause_time)\n",
    "            # update scroll height each time after scrolled, as the scroll height can change after we scrolled the page\n",
    "        scroll_height = driver.execute_script(\"return document.body.scrollHeight;\")\n",
    "            # Break the loop when the height we need to scroll to is larger than the total scroll height\n",
    "        if (screen_height) * A > scroll_height:\n",
    "            break\n",
    "\n",
    "\n",
    "\n",
    "        div_lst3 = soup.find_all('div', class_ = \"info-section\")\n",
    "    for div in div_lst3:\n",
    "        \n",
    "        try:\n",
    "            link.append(div.a['href'])\n",
    "        except TypeError:\n",
    "            pass"
   ]
  },
  {
   "cell_type": "code",
   "execution_count": 100,
   "id": "7d1ec204",
   "metadata": {},
   "outputs": [
    {
     "data": {
      "text/plain": [
       "76"
      ]
     },
     "execution_count": 100,
     "metadata": {},
     "output_type": "execute_result"
    }
   ],
   "source": [
    "len(link)"
   ]
  },
  {
   "cell_type": "code",
   "execution_count": 101,
   "id": "4061fd98",
   "metadata": {},
   "outputs": [
    {
     "data": {
      "text/html": [
       "<div>\n",
       "<style scoped>\n",
       "    .dataframe tbody tr th:only-of-type {\n",
       "        vertical-align: middle;\n",
       "    }\n",
       "\n",
       "    .dataframe tbody tr th {\n",
       "        vertical-align: top;\n",
       "    }\n",
       "\n",
       "    .dataframe thead th {\n",
       "        text-align: right;\n",
       "    }\n",
       "</style>\n",
       "<table border=\"1\" class=\"dataframe\">\n",
       "  <thead>\n",
       "    <tr style=\"text-align: right;\">\n",
       "      <th></th>\n",
       "      <th>0</th>\n",
       "    </tr>\n",
       "  </thead>\n",
       "  <tbody>\n",
       "    <tr>\n",
       "      <th>0</th>\n",
       "      <td>/bangalore/doctor/dr-chethana-dharmapalaiah?pr...</td>\n",
       "    </tr>\n",
       "    <tr>\n",
       "      <th>1</th>\n",
       "      <td>/bangalore/doctor/abhishek-patil-1-rheumatolog...</td>\n",
       "    </tr>\n",
       "    <tr>\n",
       "      <th>2</th>\n",
       "      <td>/bangalore/doctor/dr-yathish-gc-rheumatologist...</td>\n",
       "    </tr>\n",
       "    <tr>\n",
       "      <th>3</th>\n",
       "      <td>/bangalore/doctor/dr-uma-karjigi-rheumatologis...</td>\n",
       "    </tr>\n",
       "    <tr>\n",
       "      <th>4</th>\n",
       "      <td>/bangalore/doctor/dr-vijay-k-rao-rheumatologis...</td>\n",
       "    </tr>\n",
       "    <tr>\n",
       "      <th>...</th>\n",
       "      <td>...</td>\n",
       "    </tr>\n",
       "    <tr>\n",
       "      <th>71</th>\n",
       "      <td>/hyderabad/doctor/dr-aedula-srisaila-datta-rhe...</td>\n",
       "    </tr>\n",
       "    <tr>\n",
       "      <th>72</th>\n",
       "      <td>/hyderabad/doctor/dr-spoorthy-kothapalli-rheum...</td>\n",
       "    </tr>\n",
       "    <tr>\n",
       "      <th>73</th>\n",
       "      <td>/hyderabad/doctor/madhuri-h-r-rheumatologist?p...</td>\n",
       "    </tr>\n",
       "    <tr>\n",
       "      <th>74</th>\n",
       "      <td>/hyderabad/doctor/rajeshwer-reddy-guda-rheumat...</td>\n",
       "    </tr>\n",
       "    <tr>\n",
       "      <th>75</th>\n",
       "      <td>/hyderabad/doctor/shruti-sripati-rheumatologis...</td>\n",
       "    </tr>\n",
       "  </tbody>\n",
       "</table>\n",
       "<p>76 rows × 1 columns</p>\n",
       "</div>"
      ],
      "text/plain": [
       "                                                    0\n",
       "0   /bangalore/doctor/dr-chethana-dharmapalaiah?pr...\n",
       "1   /bangalore/doctor/abhishek-patil-1-rheumatolog...\n",
       "2   /bangalore/doctor/dr-yathish-gc-rheumatologist...\n",
       "3   /bangalore/doctor/dr-uma-karjigi-rheumatologis...\n",
       "4   /bangalore/doctor/dr-vijay-k-rao-rheumatologis...\n",
       "..                                                ...\n",
       "71  /hyderabad/doctor/dr-aedula-srisaila-datta-rhe...\n",
       "72  /hyderabad/doctor/dr-spoorthy-kothapalli-rheum...\n",
       "73  /hyderabad/doctor/madhuri-h-r-rheumatologist?p...\n",
       "74  /hyderabad/doctor/rajeshwer-reddy-guda-rheumat...\n",
       "75  /hyderabad/doctor/shruti-sripati-rheumatologis...\n",
       "\n",
       "[76 rows x 1 columns]"
      ]
     },
     "execution_count": 101,
     "metadata": {},
     "output_type": "execute_result"
    }
   ],
   "source": [
    "table26= pd.DataFrame(link)\n",
    "table26"
   ]
  },
  {
   "cell_type": "code",
   "execution_count": 102,
   "id": "844a26a5",
   "metadata": {},
   "outputs": [],
   "source": [
    "set23=set(table26[0])"
   ]
  },
  {
   "cell_type": "code",
   "execution_count": 103,
   "id": "1a4e6ea8",
   "metadata": {},
   "outputs": [
    {
     "data": {
      "text/plain": [
       "76"
      ]
     },
     "execution_count": 103,
     "metadata": {},
     "output_type": "execute_result"
    }
   ],
   "source": [
    "len(set23)"
   ]
  },
  {
   "cell_type": "code",
   "execution_count": 104,
   "id": "fde3babc",
   "metadata": {},
   "outputs": [],
   "source": [
    "table26.to_csv('18final_Rheumatologists.csv')"
   ]
  },
  {
   "cell_type": "markdown",
   "id": "6cf89623",
   "metadata": {},
   "source": [
    "# Extracting link for Chiropractor"
   ]
  },
  {
   "cell_type": "code",
   "execution_count": 105,
   "id": "efaca790",
   "metadata": {},
   "outputs": [],
   "source": [
    "lis2=['Bangalore','Pune','Delhi', 'Chennai', 'Mumbai','Hyderabad']\n",
    "link = []\n",
    "for i in lis2:\n",
    "    driver=webdriver.Firefox()\n",
    "    \n",
    "    url=f'https://www.practo.com/search/doctors?results_type=doctor&q=%5B%7B%22word%22%3A%22chiropractor%22%2C%22autocompleted%22%3Atrue%2C%22category%22%3A%22subspeciality%22%7D%5D&city={i}'\n",
    "    driver.get(url)\n",
    "\n",
    "    time.sleep(1)  # Allow 2 seconds for the web page to (open depends on you)\n",
    "    scroll_pause_time = 2 # You can set your own pause time. dont slow too slow that might not able to load more data\n",
    "    screen_height = driver.execute_script(\"return window.screen.height;\")  # get the screen height of the web\n",
    "    A = 1\n",
    "\n",
    "    while True:\n",
    "        soup=BeautifulSoup(driver.page_source,'html.parser')\n",
    "            # scroll one screen height each time\n",
    "        driver.execute_script(\"window.scrollTo(0, {screen_height}*{A});\".format(screen_height=screen_height, A=A))\n",
    "        A += 1\n",
    "        time.sleep(scroll_pause_time)\n",
    "            # update scroll height each time after scrolled, as the scroll height can change after we scrolled the page\n",
    "        scroll_height = driver.execute_script(\"return document.body.scrollHeight;\")\n",
    "            # Break the loop when the height we need to scroll to is larger than the total scroll height\n",
    "        if (screen_height) * A > scroll_height:\n",
    "            break\n",
    "\n",
    "\n",
    "\n",
    "        div_lst3 = soup.find_all('div', class_ = \"info-section\")\n",
    "    for div in div_lst3:\n",
    "        \n",
    "        try:\n",
    "            link.append(div.a['href'])\n",
    "        except TypeError:\n",
    "            pass"
   ]
  },
  {
   "cell_type": "code",
   "execution_count": 106,
   "id": "b5cdd507",
   "metadata": {},
   "outputs": [
    {
     "data": {
      "text/plain": [
       "16"
      ]
     },
     "execution_count": 106,
     "metadata": {},
     "output_type": "execute_result"
    }
   ],
   "source": [
    "len(link)"
   ]
  },
  {
   "cell_type": "code",
   "execution_count": 107,
   "id": "70776f3f",
   "metadata": {},
   "outputs": [
    {
     "data": {
      "text/html": [
       "<div>\n",
       "<style scoped>\n",
       "    .dataframe tbody tr th:only-of-type {\n",
       "        vertical-align: middle;\n",
       "    }\n",
       "\n",
       "    .dataframe tbody tr th {\n",
       "        vertical-align: top;\n",
       "    }\n",
       "\n",
       "    .dataframe thead th {\n",
       "        text-align: right;\n",
       "    }\n",
       "</style>\n",
       "<table border=\"1\" class=\"dataframe\">\n",
       "  <thead>\n",
       "    <tr style=\"text-align: right;\">\n",
       "      <th></th>\n",
       "      <th>0</th>\n",
       "    </tr>\n",
       "  </thead>\n",
       "  <tbody>\n",
       "    <tr>\n",
       "      <th>0</th>\n",
       "      <td>/bangalore/therapist/prathap-addageethala-alte...</td>\n",
       "    </tr>\n",
       "    <tr>\n",
       "      <th>1</th>\n",
       "      <td>/bangalore/therapist/prem-12-chiropractor?prac...</td>\n",
       "    </tr>\n",
       "    <tr>\n",
       "      <th>2</th>\n",
       "      <td>/bangalore/therapist/cecile-aubert-chiropracto...</td>\n",
       "    </tr>\n",
       "    <tr>\n",
       "      <th>3</th>\n",
       "      <td>/bangalore/therapist/ryan-bakosh-chiropractor-...</td>\n",
       "    </tr>\n",
       "    <tr>\n",
       "      <th>4</th>\n",
       "      <td>/bangalore/therapist/prathap-addageethala-alte...</td>\n",
       "    </tr>\n",
       "    <tr>\n",
       "      <th>5</th>\n",
       "      <td>/bangalore/therapist/prem-12-chiropractor?prac...</td>\n",
       "    </tr>\n",
       "    <tr>\n",
       "      <th>6</th>\n",
       "      <td>/bangalore/therapist/cecile-aubert-chiropracto...</td>\n",
       "    </tr>\n",
       "    <tr>\n",
       "      <th>7</th>\n",
       "      <td>/bangalore/therapist/ryan-bakosh-chiropractor-...</td>\n",
       "    </tr>\n",
       "    <tr>\n",
       "      <th>8</th>\n",
       "      <td>/delhi/therapist/user-240?practice_id=1159234&amp;...</td>\n",
       "    </tr>\n",
       "    <tr>\n",
       "      <th>9</th>\n",
       "      <td>/delhi/therapist/dr-shiv-bajaj?practice_id=115...</td>\n",
       "    </tr>\n",
       "    <tr>\n",
       "      <th>10</th>\n",
       "      <td>/delhi/therapist/user-240?practice_id=1159234&amp;...</td>\n",
       "    </tr>\n",
       "    <tr>\n",
       "      <th>11</th>\n",
       "      <td>/delhi/therapist/dr-shiv-bajaj?practice_id=115...</td>\n",
       "    </tr>\n",
       "    <tr>\n",
       "      <th>12</th>\n",
       "      <td>/delhi/therapist/user-240?practice_id=1159234&amp;...</td>\n",
       "    </tr>\n",
       "    <tr>\n",
       "      <th>13</th>\n",
       "      <td>/delhi/therapist/dr-shiv-bajaj?practice_id=115...</td>\n",
       "    </tr>\n",
       "    <tr>\n",
       "      <th>14</th>\n",
       "      <td>/delhi/therapist/user-240?practice_id=1159234&amp;...</td>\n",
       "    </tr>\n",
       "    <tr>\n",
       "      <th>15</th>\n",
       "      <td>/delhi/therapist/dr-shiv-bajaj?practice_id=115...</td>\n",
       "    </tr>\n",
       "  </tbody>\n",
       "</table>\n",
       "</div>"
      ],
      "text/plain": [
       "                                                    0\n",
       "0   /bangalore/therapist/prathap-addageethala-alte...\n",
       "1   /bangalore/therapist/prem-12-chiropractor?prac...\n",
       "2   /bangalore/therapist/cecile-aubert-chiropracto...\n",
       "3   /bangalore/therapist/ryan-bakosh-chiropractor-...\n",
       "4   /bangalore/therapist/prathap-addageethala-alte...\n",
       "5   /bangalore/therapist/prem-12-chiropractor?prac...\n",
       "6   /bangalore/therapist/cecile-aubert-chiropracto...\n",
       "7   /bangalore/therapist/ryan-bakosh-chiropractor-...\n",
       "8   /delhi/therapist/user-240?practice_id=1159234&...\n",
       "9   /delhi/therapist/dr-shiv-bajaj?practice_id=115...\n",
       "10  /delhi/therapist/user-240?practice_id=1159234&...\n",
       "11  /delhi/therapist/dr-shiv-bajaj?practice_id=115...\n",
       "12  /delhi/therapist/user-240?practice_id=1159234&...\n",
       "13  /delhi/therapist/dr-shiv-bajaj?practice_id=115...\n",
       "14  /delhi/therapist/user-240?practice_id=1159234&...\n",
       "15  /delhi/therapist/dr-shiv-bajaj?practice_id=115..."
      ]
     },
     "execution_count": 107,
     "metadata": {},
     "output_type": "execute_result"
    }
   ],
   "source": [
    "table27= pd.DataFrame(link)\n",
    "table27"
   ]
  },
  {
   "cell_type": "code",
   "execution_count": 108,
   "id": "794d67d3",
   "metadata": {},
   "outputs": [],
   "source": [
    "set24=set(table27[0])"
   ]
  },
  {
   "cell_type": "code",
   "execution_count": 109,
   "id": "b94280c2",
   "metadata": {},
   "outputs": [
    {
     "data": {
      "text/plain": [
       "6"
      ]
     },
     "execution_count": 109,
     "metadata": {},
     "output_type": "execute_result"
    }
   ],
   "source": [
    "len(set24)"
   ]
  },
  {
   "cell_type": "code",
   "execution_count": 110,
   "id": "62156abc",
   "metadata": {},
   "outputs": [
    {
     "data": {
      "text/html": [
       "<div>\n",
       "<style scoped>\n",
       "    .dataframe tbody tr th:only-of-type {\n",
       "        vertical-align: middle;\n",
       "    }\n",
       "\n",
       "    .dataframe tbody tr th {\n",
       "        vertical-align: top;\n",
       "    }\n",
       "\n",
       "    .dataframe thead th {\n",
       "        text-align: right;\n",
       "    }\n",
       "</style>\n",
       "<table border=\"1\" class=\"dataframe\">\n",
       "  <thead>\n",
       "    <tr style=\"text-align: right;\">\n",
       "      <th></th>\n",
       "      <th>0</th>\n",
       "    </tr>\n",
       "  </thead>\n",
       "  <tbody>\n",
       "    <tr>\n",
       "      <th>0</th>\n",
       "      <td>/bangalore/therapist/ryan-bakosh-chiropractor-...</td>\n",
       "    </tr>\n",
       "    <tr>\n",
       "      <th>1</th>\n",
       "      <td>/delhi/therapist/user-240?practice_id=1159234&amp;...</td>\n",
       "    </tr>\n",
       "    <tr>\n",
       "      <th>2</th>\n",
       "      <td>/bangalore/therapist/cecile-aubert-chiropracto...</td>\n",
       "    </tr>\n",
       "    <tr>\n",
       "      <th>3</th>\n",
       "      <td>/delhi/therapist/dr-shiv-bajaj?practice_id=115...</td>\n",
       "    </tr>\n",
       "    <tr>\n",
       "      <th>4</th>\n",
       "      <td>/bangalore/therapist/prathap-addageethala-alte...</td>\n",
       "    </tr>\n",
       "    <tr>\n",
       "      <th>5</th>\n",
       "      <td>/bangalore/therapist/prem-12-chiropractor?prac...</td>\n",
       "    </tr>\n",
       "  </tbody>\n",
       "</table>\n",
       "</div>"
      ],
      "text/plain": [
       "                                                   0\n",
       "0  /bangalore/therapist/ryan-bakosh-chiropractor-...\n",
       "1  /delhi/therapist/user-240?practice_id=1159234&...\n",
       "2  /bangalore/therapist/cecile-aubert-chiropracto...\n",
       "3  /delhi/therapist/dr-shiv-bajaj?practice_id=115...\n",
       "4  /bangalore/therapist/prathap-addageethala-alte...\n",
       "5  /bangalore/therapist/prem-12-chiropractor?prac..."
      ]
     },
     "execution_count": 110,
     "metadata": {},
     "output_type": "execute_result"
    }
   ],
   "source": [
    "table28= pd.DataFrame(set24)\n",
    "table28"
   ]
  },
  {
   "cell_type": "code",
   "execution_count": 111,
   "id": "88c395c5",
   "metadata": {},
   "outputs": [],
   "source": [
    "table28.to_csv('19final_Chiropractor.csv')"
   ]
  },
  {
   "cell_type": "code",
   "execution_count": null,
   "id": "ec9c2770",
   "metadata": {},
   "outputs": [],
   "source": []
  },
  {
   "cell_type": "code",
   "execution_count": null,
   "id": "c729dd94",
   "metadata": {},
   "outputs": [],
   "source": []
  },
  {
   "cell_type": "code",
   "execution_count": null,
   "id": "339ce5b6",
   "metadata": {},
   "outputs": [],
   "source": []
  },
  {
   "cell_type": "code",
   "execution_count": null,
   "id": "619edde9",
   "metadata": {},
   "outputs": [],
   "source": []
  },
  {
   "cell_type": "code",
   "execution_count": null,
   "id": "f1cc0068",
   "metadata": {},
   "outputs": [],
   "source": []
  },
  {
   "cell_type": "code",
   "execution_count": null,
   "id": "e5ac97ac",
   "metadata": {},
   "outputs": [],
   "source": []
  },
  {
   "cell_type": "code",
   "execution_count": null,
   "id": "c9ee3dba",
   "metadata": {},
   "outputs": [],
   "source": []
  },
  {
   "cell_type": "code",
   "execution_count": null,
   "id": "488be0b8",
   "metadata": {},
   "outputs": [],
   "source": []
  },
  {
   "cell_type": "code",
   "execution_count": null,
   "id": "3614d08b",
   "metadata": {},
   "outputs": [],
   "source": []
  },
  {
   "cell_type": "code",
   "execution_count": null,
   "id": "28758f06",
   "metadata": {},
   "outputs": [],
   "source": []
  },
  {
   "cell_type": "code",
   "execution_count": null,
   "id": "f147dcd5",
   "metadata": {},
   "outputs": [],
   "source": []
  },
  {
   "cell_type": "code",
   "execution_count": null,
   "id": "f82e4d08",
   "metadata": {},
   "outputs": [],
   "source": []
  },
  {
   "cell_type": "code",
   "execution_count": null,
   "id": "6bf15b58",
   "metadata": {},
   "outputs": [],
   "source": []
  },
  {
   "cell_type": "code",
   "execution_count": null,
   "id": "1472bf91",
   "metadata": {},
   "outputs": [],
   "source": []
  }
 ],
 "metadata": {
  "kernelspec": {
   "display_name": "Python 3 (ipykernel)",
   "language": "python",
   "name": "python3"
  },
  "language_info": {
   "codemirror_mode": {
    "name": "ipython",
    "version": 3
   },
   "file_extension": ".py",
   "mimetype": "text/x-python",
   "name": "python",
   "nbconvert_exporter": "python",
   "pygments_lexer": "ipython3",
   "version": "3.9.12"
  }
 },
 "nbformat": 4,
 "nbformat_minor": 5
}
