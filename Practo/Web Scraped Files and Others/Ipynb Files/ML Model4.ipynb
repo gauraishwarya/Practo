{
 "cells": [
  {
   "cell_type": "code",
   "execution_count": 1,
   "metadata": {},
   "outputs": [],
   "source": [
    "import numpy as np\n",
    "import pandas as pd"
   ]
  },
  {
   "cell_type": "code",
   "execution_count": 2,
   "metadata": {},
   "outputs": [
    {
     "data": {
      "text/html": [
       "<div>\n",
       "<style scoped>\n",
       "    .dataframe tbody tr th:only-of-type {\n",
       "        vertical-align: middle;\n",
       "    }\n",
       "\n",
       "    .dataframe tbody tr th {\n",
       "        vertical-align: top;\n",
       "    }\n",
       "\n",
       "    .dataframe thead th {\n",
       "        text-align: right;\n",
       "    }\n",
       "</style>\n",
       "<table border=\"1\" class=\"dataframe\">\n",
       "  <thead>\n",
       "    <tr style=\"text-align: right;\">\n",
       "      <th></th>\n",
       "      <th>Name</th>\n",
       "      <th>Speciality_of_doctor</th>\n",
       "      <th>Degree</th>\n",
       "      <th>Years_Of_Experience</th>\n",
       "      <th>Location</th>\n",
       "      <th>City</th>\n",
       "      <th>dp_score(percentage)</th>\n",
       "      <th>npv</th>\n",
       "      <th>consultation_fee</th>\n",
       "    </tr>\n",
       "  </thead>\n",
       "  <tbody>\n",
       "    <tr>\n",
       "      <th>0</th>\n",
       "      <td>Dr. Parameshwara C M</td>\n",
       "      <td>Ophthalmologist</td>\n",
       "      <td>MBBS, MS - General Surgery</td>\n",
       "      <td>28</td>\n",
       "      <td>HBR Layout</td>\n",
       "      <td>Bangalore</td>\n",
       "      <td>94</td>\n",
       "      <td>138</td>\n",
       "      <td>700</td>\n",
       "    </tr>\n",
       "    <tr>\n",
       "      <th>1</th>\n",
       "      <td>Dr. Shiva Kumar</td>\n",
       "      <td>Ophthalmologist</td>\n",
       "      <td>MBBS, DNB - General Surgery</td>\n",
       "      <td>10</td>\n",
       "      <td>HSR Layout</td>\n",
       "      <td>Bangalore</td>\n",
       "      <td>72</td>\n",
       "      <td>18</td>\n",
       "      <td>499</td>\n",
       "    </tr>\n",
       "    <tr>\n",
       "      <th>2</th>\n",
       "      <td>Dr. Vamsi Krishna M</td>\n",
       "      <td>Ophthalmologist</td>\n",
       "      <td>MBBS, MS - General Surgery</td>\n",
       "      <td>24</td>\n",
       "      <td>Whitefield</td>\n",
       "      <td>Bangalore</td>\n",
       "      <td>0</td>\n",
       "      <td>0</td>\n",
       "      <td>500</td>\n",
       "    </tr>\n",
       "    <tr>\n",
       "      <th>3</th>\n",
       "      <td>Dr. Vijay C R Reddy</td>\n",
       "      <td>Ophthalmologist</td>\n",
       "      <td>MS - General Surgery, MBBS</td>\n",
       "      <td>27</td>\n",
       "      <td>HSR Layout</td>\n",
       "      <td>Bangalore</td>\n",
       "      <td>92</td>\n",
       "      <td>26</td>\n",
       "      <td>599</td>\n",
       "    </tr>\n",
       "    <tr>\n",
       "      <th>4</th>\n",
       "      <td>Dr. Maruthesh Gowda</td>\n",
       "      <td>Ophthalmologist</td>\n",
       "      <td>MBBS, FRCS - General Surgery, MRCS (UK)</td>\n",
       "      <td>18</td>\n",
       "      <td>Hegde Nagar</td>\n",
       "      <td>Bangalore</td>\n",
       "      <td>95</td>\n",
       "      <td>1116</td>\n",
       "      <td>600</td>\n",
       "    </tr>\n",
       "    <tr>\n",
       "      <th>...</th>\n",
       "      <td>...</td>\n",
       "      <td>...</td>\n",
       "      <td>...</td>\n",
       "      <td>...</td>\n",
       "      <td>...</td>\n",
       "      <td>...</td>\n",
       "      <td>...</td>\n",
       "      <td>...</td>\n",
       "      <td>...</td>\n",
       "    </tr>\n",
       "    <tr>\n",
       "      <th>9101</th>\n",
       "      <td>Dr. Hemnath U A</td>\n",
       "      <td>Urologist</td>\n",
       "      <td>MBBS, MS - General Surgery, MCh - Urology</td>\n",
       "      <td>12</td>\n",
       "      <td>Kondapur</td>\n",
       "      <td>Hyderabad</td>\n",
       "      <td>0</td>\n",
       "      <td>0</td>\n",
       "      <td>500</td>\n",
       "    </tr>\n",
       "    <tr>\n",
       "      <th>9102</th>\n",
       "      <td>Dr. P Praneeth</td>\n",
       "      <td>Urologist</td>\n",
       "      <td>MBBS, MS - General Surgery, MCh - Urology</td>\n",
       "      <td>4</td>\n",
       "      <td>Manikonda</td>\n",
       "      <td>Hyderabad</td>\n",
       "      <td>0</td>\n",
       "      <td>0</td>\n",
       "      <td>600</td>\n",
       "    </tr>\n",
       "    <tr>\n",
       "      <th>9103</th>\n",
       "      <td>Dr. Venu</td>\n",
       "      <td>Urologist</td>\n",
       "      <td>MBBS, DNB - Urology/Genito - Urinary Surgery</td>\n",
       "      <td>25</td>\n",
       "      <td>LB Nagar</td>\n",
       "      <td>Hyderabad</td>\n",
       "      <td>0</td>\n",
       "      <td>0</td>\n",
       "      <td>680</td>\n",
       "    </tr>\n",
       "    <tr>\n",
       "      <th>9104</th>\n",
       "      <td>Dr. Leela krishna Karri</td>\n",
       "      <td>Urologist</td>\n",
       "      <td>MBBS, MS - General Surgery, MCh - Urology</td>\n",
       "      <td>11</td>\n",
       "      <td>Hitech City</td>\n",
       "      <td>Hyderabad</td>\n",
       "      <td>0</td>\n",
       "      <td>0</td>\n",
       "      <td>700</td>\n",
       "    </tr>\n",
       "    <tr>\n",
       "      <th>9105</th>\n",
       "      <td>Dr. Rakesh Panda</td>\n",
       "      <td>Urologist</td>\n",
       "      <td>MBBS, MS - General Surgery, MCh - Urology</td>\n",
       "      <td>11</td>\n",
       "      <td>Kondapur</td>\n",
       "      <td>Hyderabad</td>\n",
       "      <td>0</td>\n",
       "      <td>0</td>\n",
       "      <td>500</td>\n",
       "    </tr>\n",
       "  </tbody>\n",
       "</table>\n",
       "<p>9106 rows × 9 columns</p>\n",
       "</div>"
      ],
      "text/plain": [
       "                         Name Speciality_of_doctor  \\\n",
       "0        Dr. Parameshwara C M      Ophthalmologist   \n",
       "1             Dr. Shiva Kumar      Ophthalmologist   \n",
       "2         Dr. Vamsi Krishna M      Ophthalmologist   \n",
       "3         Dr. Vijay C R Reddy      Ophthalmologist   \n",
       "4         Dr. Maruthesh Gowda      Ophthalmologist   \n",
       "...                       ...                  ...   \n",
       "9101          Dr. Hemnath U A            Urologist   \n",
       "9102           Dr. P Praneeth            Urologist   \n",
       "9103                 Dr. Venu            Urologist   \n",
       "9104  Dr. Leela krishna Karri            Urologist   \n",
       "9105         Dr. Rakesh Panda            Urologist   \n",
       "\n",
       "                                            Degree Years_Of_Experience  \\\n",
       "0                       MBBS, MS - General Surgery                  28   \n",
       "1                      MBBS, DNB - General Surgery                  10   \n",
       "2                       MBBS, MS - General Surgery                  24   \n",
       "3                       MS - General Surgery, MBBS                  27   \n",
       "4          MBBS, FRCS - General Surgery, MRCS (UK)                  18   \n",
       "...                                            ...                 ...   \n",
       "9101     MBBS, MS - General Surgery, MCh - Urology                  12   \n",
       "9102     MBBS, MS - General Surgery, MCh - Urology                   4   \n",
       "9103  MBBS, DNB - Urology/Genito - Urinary Surgery                  25   \n",
       "9104     MBBS, MS - General Surgery, MCh - Urology                  11   \n",
       "9105     MBBS, MS - General Surgery, MCh - Urology                  11   \n",
       "\n",
       "         Location        City  dp_score(percentage)   npv  consultation_fee  \n",
       "0      HBR Layout   Bangalore                    94   138               700  \n",
       "1      HSR Layout   Bangalore                    72    18               499  \n",
       "2      Whitefield   Bangalore                     0     0               500  \n",
       "3      HSR Layout   Bangalore                    92    26               599  \n",
       "4     Hegde Nagar   Bangalore                    95  1116               600  \n",
       "...           ...         ...                   ...   ...               ...  \n",
       "9101     Kondapur   Hyderabad                     0     0               500  \n",
       "9102    Manikonda   Hyderabad                     0     0               600  \n",
       "9103     LB Nagar   Hyderabad                     0     0               680  \n",
       "9104  Hitech City   Hyderabad                     0     0               700  \n",
       "9105     Kondapur   Hyderabad                     0     0               500  \n",
       "\n",
       "[9106 rows x 9 columns]"
      ]
     },
     "execution_count": 2,
     "metadata": {},
     "output_type": "execute_result"
    }
   ],
   "source": [
    "df=pd.read_csv('Final_Table.csv')\n",
    "df"
   ]
  },
  {
   "cell_type": "code",
   "execution_count": 3,
   "metadata": {},
   "outputs": [
    {
     "name": "stdout",
     "output_type": "stream",
     "text": [
      "<class 'pandas.core.frame.DataFrame'>\n",
      "RangeIndex: 9106 entries, 0 to 9105\n",
      "Data columns (total 9 columns):\n",
      " #   Column                Non-Null Count  Dtype \n",
      "---  ------                --------------  ----- \n",
      " 0   Name                  9106 non-null   object\n",
      " 1   Speciality_of_doctor  9106 non-null   object\n",
      " 2   Degree                9106 non-null   object\n",
      " 3   Years_Of_Experience   9106 non-null   object\n",
      " 4   Location              9106 non-null   object\n",
      " 5   City                  9106 non-null   object\n",
      " 6   dp_score(percentage)  9106 non-null   int64 \n",
      " 7   npv                   9106 non-null   int64 \n",
      " 8   consultation_fee      9106 non-null   int64 \n",
      "dtypes: int64(3), object(6)\n",
      "memory usage: 640.4+ KB\n"
     ]
    }
   ],
   "source": [
    "df.info()"
   ]
  },
  {
   "cell_type": "code",
   "execution_count": 4,
   "metadata": {},
   "outputs": [],
   "source": [
    "df[\"Years_Of_Experience\"] = pd.to_numeric(df[\"Years_Of_Experience\"],errors='coerce')"
   ]
  },
  {
   "cell_type": "code",
   "execution_count": 5,
   "metadata": {},
   "outputs": [
    {
     "name": "stdout",
     "output_type": "stream",
     "text": [
      "<class 'pandas.core.frame.DataFrame'>\n",
      "RangeIndex: 9106 entries, 0 to 9105\n",
      "Data columns (total 9 columns):\n",
      " #   Column                Non-Null Count  Dtype  \n",
      "---  ------                --------------  -----  \n",
      " 0   Name                  9106 non-null   object \n",
      " 1   Speciality_of_doctor  9106 non-null   object \n",
      " 2   Degree                9106 non-null   object \n",
      " 3   Years_Of_Experience   9101 non-null   float64\n",
      " 4   Location              9106 non-null   object \n",
      " 5   City                  9106 non-null   object \n",
      " 6   dp_score(percentage)  9106 non-null   int64  \n",
      " 7   npv                   9106 non-null   int64  \n",
      " 8   consultation_fee      9106 non-null   int64  \n",
      "dtypes: float64(1), int64(3), object(5)\n",
      "memory usage: 640.4+ KB\n"
     ]
    }
   ],
   "source": [
    "df.info()"
   ]
  },
  {
   "cell_type": "code",
   "execution_count": 6,
   "metadata": {},
   "outputs": [
    {
     "data": {
      "text/html": [
       "<div>\n",
       "<style scoped>\n",
       "    .dataframe tbody tr th:only-of-type {\n",
       "        vertical-align: middle;\n",
       "    }\n",
       "\n",
       "    .dataframe tbody tr th {\n",
       "        vertical-align: top;\n",
       "    }\n",
       "\n",
       "    .dataframe thead th {\n",
       "        text-align: right;\n",
       "    }\n",
       "</style>\n",
       "<table border=\"1\" class=\"dataframe\">\n",
       "  <thead>\n",
       "    <tr style=\"text-align: right;\">\n",
       "      <th></th>\n",
       "      <th>Name</th>\n",
       "      <th>Speciality_of_doctor</th>\n",
       "      <th>Degree</th>\n",
       "      <th>Years_Of_Experience</th>\n",
       "      <th>Location</th>\n",
       "      <th>City</th>\n",
       "      <th>dp_score(percentage)</th>\n",
       "      <th>npv</th>\n",
       "      <th>consultation_fee</th>\n",
       "    </tr>\n",
       "  </thead>\n",
       "  <tbody>\n",
       "    <tr>\n",
       "      <th>0</th>\n",
       "      <td>Dr. Parameshwara C M</td>\n",
       "      <td>Ophthalmologist</td>\n",
       "      <td>MBBS, MS - General Surgery</td>\n",
       "      <td>28.0</td>\n",
       "      <td>HBR Layout</td>\n",
       "      <td>Bangalore</td>\n",
       "      <td>94</td>\n",
       "      <td>138</td>\n",
       "      <td>700</td>\n",
       "    </tr>\n",
       "    <tr>\n",
       "      <th>1</th>\n",
       "      <td>Dr. Shiva Kumar</td>\n",
       "      <td>Ophthalmologist</td>\n",
       "      <td>MBBS, DNB - General Surgery</td>\n",
       "      <td>10.0</td>\n",
       "      <td>HSR Layout</td>\n",
       "      <td>Bangalore</td>\n",
       "      <td>72</td>\n",
       "      <td>18</td>\n",
       "      <td>499</td>\n",
       "    </tr>\n",
       "    <tr>\n",
       "      <th>2</th>\n",
       "      <td>Dr. Vamsi Krishna M</td>\n",
       "      <td>Ophthalmologist</td>\n",
       "      <td>MBBS, MS - General Surgery</td>\n",
       "      <td>24.0</td>\n",
       "      <td>Whitefield</td>\n",
       "      <td>Bangalore</td>\n",
       "      <td>0</td>\n",
       "      <td>0</td>\n",
       "      <td>500</td>\n",
       "    </tr>\n",
       "    <tr>\n",
       "      <th>3</th>\n",
       "      <td>Dr. Vijay C R Reddy</td>\n",
       "      <td>Ophthalmologist</td>\n",
       "      <td>MS - General Surgery, MBBS</td>\n",
       "      <td>27.0</td>\n",
       "      <td>HSR Layout</td>\n",
       "      <td>Bangalore</td>\n",
       "      <td>92</td>\n",
       "      <td>26</td>\n",
       "      <td>599</td>\n",
       "    </tr>\n",
       "    <tr>\n",
       "      <th>4</th>\n",
       "      <td>Dr. Maruthesh Gowda</td>\n",
       "      <td>Ophthalmologist</td>\n",
       "      <td>MBBS, FRCS - General Surgery, MRCS (UK)</td>\n",
       "      <td>18.0</td>\n",
       "      <td>Hegde Nagar</td>\n",
       "      <td>Bangalore</td>\n",
       "      <td>95</td>\n",
       "      <td>1116</td>\n",
       "      <td>600</td>\n",
       "    </tr>\n",
       "  </tbody>\n",
       "</table>\n",
       "</div>"
      ],
      "text/plain": [
       "                   Name Speciality_of_doctor  \\\n",
       "0  Dr. Parameshwara C M      Ophthalmologist   \n",
       "1       Dr. Shiva Kumar      Ophthalmologist   \n",
       "2   Dr. Vamsi Krishna M      Ophthalmologist   \n",
       "3   Dr. Vijay C R Reddy      Ophthalmologist   \n",
       "4   Dr. Maruthesh Gowda      Ophthalmologist   \n",
       "\n",
       "                                    Degree  Years_Of_Experience     Location  \\\n",
       "0               MBBS, MS - General Surgery                 28.0   HBR Layout   \n",
       "1              MBBS, DNB - General Surgery                 10.0   HSR Layout   \n",
       "2               MBBS, MS - General Surgery                 24.0   Whitefield   \n",
       "3               MS - General Surgery, MBBS                 27.0   HSR Layout   \n",
       "4  MBBS, FRCS - General Surgery, MRCS (UK)                 18.0  Hegde Nagar   \n",
       "\n",
       "         City  dp_score(percentage)   npv  consultation_fee  \n",
       "0   Bangalore                    94   138               700  \n",
       "1   Bangalore                    72    18               499  \n",
       "2   Bangalore                     0     0               500  \n",
       "3   Bangalore                    92    26               599  \n",
       "4   Bangalore                    95  1116               600  "
      ]
     },
     "execution_count": 6,
     "metadata": {},
     "output_type": "execute_result"
    }
   ],
   "source": [
    "df.head()"
   ]
  },
  {
   "cell_type": "code",
   "execution_count": 7,
   "metadata": {},
   "outputs": [
    {
     "data": {
      "text/plain": [
       "Name                    0\n",
       "Speciality_of_doctor    0\n",
       "Degree                  0\n",
       "Years_Of_Experience     5\n",
       "Location                0\n",
       "City                    0\n",
       "dp_score(percentage)    0\n",
       "npv                     0\n",
       "consultation_fee        0\n",
       "dtype: int64"
      ]
     },
     "execution_count": 7,
     "metadata": {},
     "output_type": "execute_result"
    }
   ],
   "source": [
    "df.isnull().sum()"
   ]
  },
  {
   "cell_type": "code",
   "execution_count": 8,
   "metadata": {},
   "outputs": [],
   "source": [
    "df.fillna(0, inplace=True)"
   ]
  },
  {
   "cell_type": "code",
   "execution_count": 9,
   "metadata": {},
   "outputs": [
    {
     "data": {
      "text/plain": [
       "Name                    0\n",
       "Speciality_of_doctor    0\n",
       "Degree                  0\n",
       "Years_Of_Experience     0\n",
       "Location                0\n",
       "City                    0\n",
       "dp_score(percentage)    0\n",
       "npv                     0\n",
       "consultation_fee        0\n",
       "dtype: int64"
      ]
     },
     "execution_count": 9,
     "metadata": {},
     "output_type": "execute_result"
    }
   ],
   "source": [
    "df.isnull().sum()"
   ]
  },
  {
   "cell_type": "markdown",
   "metadata": {},
   "source": [
    "# Data Visualization"
   ]
  },
  {
   "cell_type": "code",
   "execution_count": 10,
   "metadata": {},
   "outputs": [],
   "source": [
    "import matplotlib.pyplot as plt\n",
    "import seaborn as sns"
   ]
  },
  {
   "cell_type": "code",
   "execution_count": null,
   "metadata": {},
   "outputs": [],
   "source": []
  },
  {
   "cell_type": "code",
   "execution_count": 11,
   "metadata": {},
   "outputs": [
    {
     "data": {
      "text/plain": [
       "City        Speciality_of_doctor\n",
       " Bangalore  Cardiologist             95\n",
       "            Chiropractor              4\n",
       "            Dentist                 445\n",
       "            Dermatologist           166\n",
       "            Dietitian                34\n",
       "                                   ... \n",
       " Pune       Physiotherapist          53\n",
       "            Psychiatrist             30\n",
       "            Pulmonologist            12\n",
       "            Rheumatologists           5\n",
       "            Urologist                13\n",
       "Name: Speciality_of_doctor, Length: 104, dtype: int64"
      ]
     },
     "execution_count": 11,
     "metadata": {},
     "output_type": "execute_result"
    }
   ],
   "source": [
    "df2=df.groupby(['City','Speciality_of_doctor'])['Speciality_of_doctor'].count()\n",
    "df2"
   ]
  },
  {
   "cell_type": "code",
   "execution_count": 12,
   "metadata": {},
   "outputs": [
    {
     "data": {
      "text/html": [
       "<div>\n",
       "<style scoped>\n",
       "    .dataframe tbody tr th:only-of-type {\n",
       "        vertical-align: middle;\n",
       "    }\n",
       "\n",
       "    .dataframe tbody tr th {\n",
       "        vertical-align: top;\n",
       "    }\n",
       "\n",
       "    .dataframe thead th {\n",
       "        text-align: right;\n",
       "    }\n",
       "</style>\n",
       "<table border=\"1\" class=\"dataframe\">\n",
       "  <thead>\n",
       "    <tr style=\"text-align: right;\">\n",
       "      <th></th>\n",
       "      <th></th>\n",
       "      <th>Speciality_of_doctor</th>\n",
       "    </tr>\n",
       "    <tr>\n",
       "      <th>City</th>\n",
       "      <th>Speciality_of_doctor</th>\n",
       "      <th></th>\n",
       "    </tr>\n",
       "  </thead>\n",
       "  <tbody>\n",
       "    <tr>\n",
       "      <th rowspan=\"5\" valign=\"top\">Bangalore</th>\n",
       "      <th>Cardiologist</th>\n",
       "      <td>95</td>\n",
       "    </tr>\n",
       "    <tr>\n",
       "      <th>Chiropractor</th>\n",
       "      <td>4</td>\n",
       "    </tr>\n",
       "    <tr>\n",
       "      <th>Dentist</th>\n",
       "      <td>445</td>\n",
       "    </tr>\n",
       "    <tr>\n",
       "      <th>Dermatologist</th>\n",
       "      <td>166</td>\n",
       "    </tr>\n",
       "    <tr>\n",
       "      <th>Dietitian</th>\n",
       "      <td>34</td>\n",
       "    </tr>\n",
       "    <tr>\n",
       "      <th>...</th>\n",
       "      <th>...</th>\n",
       "      <td>...</td>\n",
       "    </tr>\n",
       "    <tr>\n",
       "      <th rowspan=\"5\" valign=\"top\">Pune</th>\n",
       "      <th>Physiotherapist</th>\n",
       "      <td>53</td>\n",
       "    </tr>\n",
       "    <tr>\n",
       "      <th>Psychiatrist</th>\n",
       "      <td>30</td>\n",
       "    </tr>\n",
       "    <tr>\n",
       "      <th>Pulmonologist</th>\n",
       "      <td>12</td>\n",
       "    </tr>\n",
       "    <tr>\n",
       "      <th>Rheumatologists</th>\n",
       "      <td>5</td>\n",
       "    </tr>\n",
       "    <tr>\n",
       "      <th>Urologist</th>\n",
       "      <td>13</td>\n",
       "    </tr>\n",
       "  </tbody>\n",
       "</table>\n",
       "<p>104 rows × 1 columns</p>\n",
       "</div>"
      ],
      "text/plain": [
       "                                 Speciality_of_doctor\n",
       "City       Speciality_of_doctor                      \n",
       " Bangalore Cardiologist                            95\n",
       "           Chiropractor                             4\n",
       "           Dentist                                445\n",
       "           Dermatologist                          166\n",
       "           Dietitian                               34\n",
       "...                                               ...\n",
       " Pune      Physiotherapist                         53\n",
       "           Psychiatrist                            30\n",
       "           Pulmonologist                           12\n",
       "           Rheumatologists                          5\n",
       "           Urologist                               13\n",
       "\n",
       "[104 rows x 1 columns]"
      ]
     },
     "execution_count": 12,
     "metadata": {},
     "output_type": "execute_result"
    }
   ],
   "source": [
    "pd.DataFrame(df2)"
   ]
  },
  {
   "cell_type": "code",
   "execution_count": null,
   "metadata": {},
   "outputs": [],
   "source": []
  },
  {
   "cell_type": "code",
   "execution_count": 13,
   "metadata": {},
   "outputs": [
    {
     "data": {
      "text/html": [
       "<div>\n",
       "<style scoped>\n",
       "    .dataframe tbody tr th:only-of-type {\n",
       "        vertical-align: middle;\n",
       "    }\n",
       "\n",
       "    .dataframe tbody tr th {\n",
       "        vertical-align: top;\n",
       "    }\n",
       "\n",
       "    .dataframe thead th {\n",
       "        text-align: right;\n",
       "    }\n",
       "</style>\n",
       "<table border=\"1\" class=\"dataframe\">\n",
       "  <thead>\n",
       "    <tr style=\"text-align: right;\">\n",
       "      <th></th>\n",
       "      <th>index</th>\n",
       "      <th>Speciality_of_doctor</th>\n",
       "    </tr>\n",
       "  </thead>\n",
       "  <tbody>\n",
       "    <tr>\n",
       "      <th>0</th>\n",
       "      <td>Dentist</td>\n",
       "      <td>2240</td>\n",
       "    </tr>\n",
       "    <tr>\n",
       "      <th>1</th>\n",
       "      <td>Gynecologist</td>\n",
       "      <td>1379</td>\n",
       "    </tr>\n",
       "    <tr>\n",
       "      <th>2</th>\n",
       "      <td>Orthopedist</td>\n",
       "      <td>791</td>\n",
       "    </tr>\n",
       "    <tr>\n",
       "      <th>3</th>\n",
       "      <td>Pediatrician</td>\n",
       "      <td>727</td>\n",
       "    </tr>\n",
       "    <tr>\n",
       "      <th>4</th>\n",
       "      <td>Dermatologist</td>\n",
       "      <td>627</td>\n",
       "    </tr>\n",
       "    <tr>\n",
       "      <th>5</th>\n",
       "      <td>Ophthalmologist</td>\n",
       "      <td>542</td>\n",
       "    </tr>\n",
       "    <tr>\n",
       "      <th>6</th>\n",
       "      <td>Physiotherapist</td>\n",
       "      <td>468</td>\n",
       "    </tr>\n",
       "    <tr>\n",
       "      <th>7</th>\n",
       "      <td>Infertility Specialist</td>\n",
       "      <td>357</td>\n",
       "    </tr>\n",
       "    <tr>\n",
       "      <th>8</th>\n",
       "      <td>Cardiologist</td>\n",
       "      <td>345</td>\n",
       "    </tr>\n",
       "    <tr>\n",
       "      <th>9</th>\n",
       "      <td>Psychiatrist</td>\n",
       "      <td>266</td>\n",
       "    </tr>\n",
       "    <tr>\n",
       "      <th>10</th>\n",
       "      <td>Gastroenterologist</td>\n",
       "      <td>254</td>\n",
       "    </tr>\n",
       "    <tr>\n",
       "      <th>11</th>\n",
       "      <td>Urologist</td>\n",
       "      <td>240</td>\n",
       "    </tr>\n",
       "    <tr>\n",
       "      <th>12</th>\n",
       "      <td>Dietitian</td>\n",
       "      <td>237</td>\n",
       "    </tr>\n",
       "    <tr>\n",
       "      <th>13</th>\n",
       "      <td>Neurologist</td>\n",
       "      <td>194</td>\n",
       "    </tr>\n",
       "    <tr>\n",
       "      <th>14</th>\n",
       "      <td>Neurosurgeon</td>\n",
       "      <td>181</td>\n",
       "    </tr>\n",
       "    <tr>\n",
       "      <th>15</th>\n",
       "      <td>Pulmonologist</td>\n",
       "      <td>176</td>\n",
       "    </tr>\n",
       "    <tr>\n",
       "      <th>16</th>\n",
       "      <td>Rheumatologists</td>\n",
       "      <td>76</td>\n",
       "    </tr>\n",
       "    <tr>\n",
       "      <th>17</th>\n",
       "      <td>Chiropractor</td>\n",
       "      <td>6</td>\n",
       "    </tr>\n",
       "  </tbody>\n",
       "</table>\n",
       "</div>"
      ],
      "text/plain": [
       "                     index  Speciality_of_doctor\n",
       "0                  Dentist                  2240\n",
       "1             Gynecologist                  1379\n",
       "2              Orthopedist                   791\n",
       "3             Pediatrician                   727\n",
       "4            Dermatologist                   627\n",
       "5          Ophthalmologist                   542\n",
       "6          Physiotherapist                   468\n",
       "7   Infertility Specialist                   357\n",
       "8             Cardiologist                   345\n",
       "9             Psychiatrist                   266\n",
       "10      Gastroenterologist                   254\n",
       "11               Urologist                   240\n",
       "12               Dietitian                   237\n",
       "13             Neurologist                   194\n",
       "14            Neurosurgeon                   181\n",
       "15           Pulmonologist                   176\n",
       "16         Rheumatologists                    76\n",
       "17            Chiropractor                     6"
      ]
     },
     "execution_count": 13,
     "metadata": {},
     "output_type": "execute_result"
    }
   ],
   "source": [
    "d1=pd.DataFrame(df['Speciality_of_doctor'].value_counts()).reset_index()\n",
    "d1"
   ]
  },
  {
   "cell_type": "code",
   "execution_count": 14,
   "metadata": {},
   "outputs": [
    {
     "data": {
      "image/png": "[encoded data removed]",
      "text/plain": [
       "<Figure size 864x576 with 1 Axes>"
      ]
     },
     "metadata": {
      "needs_background": "light"
     },
     "output_type": "display_data"
    }
   ],
   "source": [
    "plt.figure(figsize=(12,8))\n",
    "plt.bar(d1['index'],d1['Speciality_of_doctor'])\n",
    "plt.xticks(rotation=90)\n",
    "plt.xlabel('Speciality of doctor')\n",
    "plt.ylabel('Number of doctors')\n",
    "plt.title(\"Bar Graph between Speciality of doctor and Number of doctors\")\n",
    "plt.show()"
   ]
  },
  {
   "cell_type": "code",
   "execution_count": null,
   "metadata": {},
   "outputs": [],
   "source": []
  },
  {
   "cell_type": "code",
   "execution_count": 15,
   "metadata": {},
   "outputs": [
    {
     "data": {
      "text/html": [
       "<div>\n",
       "<style scoped>\n",
       "    .dataframe tbody tr th:only-of-type {\n",
       "        vertical-align: middle;\n",
       "    }\n",
       "\n",
       "    .dataframe tbody tr th {\n",
       "        vertical-align: top;\n",
       "    }\n",
       "\n",
       "    .dataframe thead th {\n",
       "        text-align: right;\n",
       "    }\n",
       "</style>\n",
       "<table border=\"1\" class=\"dataframe\">\n",
       "  <thead>\n",
       "    <tr style=\"text-align: right;\">\n",
       "      <th></th>\n",
       "      <th>index</th>\n",
       "      <th>City</th>\n",
       "    </tr>\n",
       "  </thead>\n",
       "  <tbody>\n",
       "    <tr>\n",
       "      <th>0</th>\n",
       "      <td>Bangalore</td>\n",
       "      <td>2218</td>\n",
       "    </tr>\n",
       "    <tr>\n",
       "      <th>1</th>\n",
       "      <td>Delhi</td>\n",
       "      <td>1652</td>\n",
       "    </tr>\n",
       "    <tr>\n",
       "      <th>2</th>\n",
       "      <td>Mumbai</td>\n",
       "      <td>1503</td>\n",
       "    </tr>\n",
       "    <tr>\n",
       "      <th>3</th>\n",
       "      <td>Hyderabad</td>\n",
       "      <td>1365</td>\n",
       "    </tr>\n",
       "    <tr>\n",
       "      <th>4</th>\n",
       "      <td>Chennai</td>\n",
       "      <td>1272</td>\n",
       "    </tr>\n",
       "    <tr>\n",
       "      <th>5</th>\n",
       "      <td>Pune</td>\n",
       "      <td>1096</td>\n",
       "    </tr>\n",
       "  </tbody>\n",
       "</table>\n",
       "</div>"
      ],
      "text/plain": [
       "        index  City\n",
       "0   Bangalore  2218\n",
       "1       Delhi  1652\n",
       "2      Mumbai  1503\n",
       "3   Hyderabad  1365\n",
       "4     Chennai  1272\n",
       "5        Pune  1096"
      ]
     },
     "execution_count": 15,
     "metadata": {},
     "output_type": "execute_result"
    }
   ],
   "source": [
    "d2=pd.DataFrame(df['City'].value_counts()).reset_index()\n",
    "d2"
   ]
  },
  {
   "cell_type": "code",
   "execution_count": 16,
   "metadata": {},
   "outputs": [
    {
     "data": {
      "image/png": "[encoded data removed]",
      "text/plain": [
       "<Figure size 864x576 with 1 Axes>"
      ]
     },
     "metadata": {
      "needs_background": "light"
     },
     "output_type": "display_data"
    }
   ],
   "source": [
    "plt.figure(figsize=(12,8))\n",
    "plt.bar(d2['index'],d2['City'])\n",
    "plt.xticks(rotation=90)\n",
    "plt.xlabel('City')\n",
    "plt.ylabel('Number of doctors')\n",
    "plt.title(\"Bar Graph between City and Number of doctors\")\n",
    "plt.show()"
   ]
  },
  {
   "cell_type": "code",
   "execution_count": null,
   "metadata": {},
   "outputs": [],
   "source": []
  },
  {
   "cell_type": "code",
   "execution_count": 17,
   "metadata": {},
   "outputs": [
    {
     "data": {
      "text/plain": [
       "<AxesSubplot:>"
      ]
     },
     "execution_count": 17,
     "metadata": {},
     "output_type": "execute_result"
    },
    {
     "data": {
      "image/png": "[encoded data removed]",
      "text/plain": [
       "<Figure size 960x640 with 2 Axes>"
      ]
     },
     "metadata": {
      "needs_background": "light"
     },
     "output_type": "display_data"
    }
   ],
   "source": [
    "plt.figure(figsize=(12, 8),dpi=80)\n",
    "sns.heatmap(df.corr(), annot=True)"
   ]
  },
  {
   "cell_type": "code",
   "execution_count": null,
   "metadata": {},
   "outputs": [],
   "source": []
  },
  {
   "cell_type": "code",
   "execution_count": 18,
   "metadata": {},
   "outputs": [
    {
     "data": {
      "text/plain": [
       "<AxesSubplot:xlabel='Years_Of_Experience', ylabel='Density'>"
      ]
     },
     "execution_count": 18,
     "metadata": {},
     "output_type": "execute_result"
    },
    {
     "data": {
      "image/png": "[encoded data removed]",
      "text/plain": [
       "<Figure size 432x288 with 1 Axes>"
      ]
     },
     "metadata": {
      "needs_background": "light"
     },
     "output_type": "display_data"
    }
   ],
   "source": [
    "sns.kdeplot(df['Years_Of_Experience'])"
   ]
  },
  {
   "cell_type": "markdown",
   "metadata": {},
   "source": [
    "## OUTLIER Analysis"
   ]
  },
  {
   "cell_type": "code",
   "execution_count": 19,
   "metadata": {},
   "outputs": [
    {
     "data": {
      "text/html": [
       "<div>\n",
       "<style scoped>\n",
       "    .dataframe tbody tr th:only-of-type {\n",
       "        vertical-align: middle;\n",
       "    }\n",
       "\n",
       "    .dataframe tbody tr th {\n",
       "        vertical-align: top;\n",
       "    }\n",
       "\n",
       "    .dataframe thead th {\n",
       "        text-align: right;\n",
       "    }\n",
       "</style>\n",
       "<table border=\"1\" class=\"dataframe\">\n",
       "  <thead>\n",
       "    <tr style=\"text-align: right;\">\n",
       "      <th></th>\n",
       "      <th>Name</th>\n",
       "      <th>Speciality_of_doctor</th>\n",
       "      <th>Degree</th>\n",
       "      <th>Years_Of_Experience</th>\n",
       "      <th>Location</th>\n",
       "      <th>City</th>\n",
       "      <th>dp_score(percentage)</th>\n",
       "      <th>npv</th>\n",
       "      <th>consultation_fee</th>\n",
       "    </tr>\n",
       "  </thead>\n",
       "  <tbody>\n",
       "    <tr>\n",
       "      <th>0</th>\n",
       "      <td>Dr. Parameshwara C M</td>\n",
       "      <td>Ophthalmologist</td>\n",
       "      <td>MBBS, MS - General Surgery</td>\n",
       "      <td>28.0</td>\n",
       "      <td>HBR Layout</td>\n",
       "      <td>Bangalore</td>\n",
       "      <td>94</td>\n",
       "      <td>138</td>\n",
       "      <td>700</td>\n",
       "    </tr>\n",
       "    <tr>\n",
       "      <th>1</th>\n",
       "      <td>Dr. Shiva Kumar</td>\n",
       "      <td>Ophthalmologist</td>\n",
       "      <td>MBBS, DNB - General Surgery</td>\n",
       "      <td>10.0</td>\n",
       "      <td>HSR Layout</td>\n",
       "      <td>Bangalore</td>\n",
       "      <td>72</td>\n",
       "      <td>18</td>\n",
       "      <td>499</td>\n",
       "    </tr>\n",
       "    <tr>\n",
       "      <th>2</th>\n",
       "      <td>Dr. Vamsi Krishna M</td>\n",
       "      <td>Ophthalmologist</td>\n",
       "      <td>MBBS, MS - General Surgery</td>\n",
       "      <td>24.0</td>\n",
       "      <td>Whitefield</td>\n",
       "      <td>Bangalore</td>\n",
       "      <td>0</td>\n",
       "      <td>0</td>\n",
       "      <td>500</td>\n",
       "    </tr>\n",
       "    <tr>\n",
       "      <th>3</th>\n",
       "      <td>Dr. Vijay C R Reddy</td>\n",
       "      <td>Ophthalmologist</td>\n",
       "      <td>MS - General Surgery, MBBS</td>\n",
       "      <td>27.0</td>\n",
       "      <td>HSR Layout</td>\n",
       "      <td>Bangalore</td>\n",
       "      <td>92</td>\n",
       "      <td>26</td>\n",
       "      <td>599</td>\n",
       "    </tr>\n",
       "    <tr>\n",
       "      <th>4</th>\n",
       "      <td>Dr. Maruthesh Gowda</td>\n",
       "      <td>Ophthalmologist</td>\n",
       "      <td>MBBS, FRCS - General Surgery, MRCS (UK)</td>\n",
       "      <td>18.0</td>\n",
       "      <td>Hegde Nagar</td>\n",
       "      <td>Bangalore</td>\n",
       "      <td>95</td>\n",
       "      <td>1116</td>\n",
       "      <td>600</td>\n",
       "    </tr>\n",
       "  </tbody>\n",
       "</table>\n",
       "</div>"
      ],
      "text/plain": [
       "                   Name Speciality_of_doctor  \\\n",
       "0  Dr. Parameshwara C M      Ophthalmologist   \n",
       "1       Dr. Shiva Kumar      Ophthalmologist   \n",
       "2   Dr. Vamsi Krishna M      Ophthalmologist   \n",
       "3   Dr. Vijay C R Reddy      Ophthalmologist   \n",
       "4   Dr. Maruthesh Gowda      Ophthalmologist   \n",
       "\n",
       "                                    Degree  Years_Of_Experience     Location  \\\n",
       "0               MBBS, MS - General Surgery                 28.0   HBR Layout   \n",
       "1              MBBS, DNB - General Surgery                 10.0   HSR Layout   \n",
       "2               MBBS, MS - General Surgery                 24.0   Whitefield   \n",
       "3               MS - General Surgery, MBBS                 27.0   HSR Layout   \n",
       "4  MBBS, FRCS - General Surgery, MRCS (UK)                 18.0  Hegde Nagar   \n",
       "\n",
       "         City  dp_score(percentage)   npv  consultation_fee  \n",
       "0   Bangalore                    94   138               700  \n",
       "1   Bangalore                    72    18               499  \n",
       "2   Bangalore                     0     0               500  \n",
       "3   Bangalore                    92    26               599  \n",
       "4   Bangalore                    95  1116               600  "
      ]
     },
     "execution_count": 19,
     "metadata": {},
     "output_type": "execute_result"
    }
   ],
   "source": [
    "df.head()"
   ]
  },
  {
   "cell_type": "code",
   "execution_count": 20,
   "metadata": {},
   "outputs": [
    {
     "data": {
      "image/png": "[encoded data removed]",
      "text/plain": [
       "<Figure size 432x288 with 1 Axes>"
      ]
     },
     "metadata": {
      "needs_background": "light"
     },
     "output_type": "display_data"
    },
    {
     "data": {
      "image/png": "[encoded data removed]",
      "text/plain": [
       "<Figure size 432x288 with 1 Axes>"
      ]
     },
     "metadata": {
      "needs_background": "light"
     },
     "output_type": "display_data"
    },
    {
     "data": {
      "image/png": "[encoded data removed]",
      "text/plain": [
       "<Figure size 432x288 with 1 Axes>"
      ]
     },
     "metadata": {
      "needs_background": "light"
     },
     "output_type": "display_data"
    },
    {
     "data": {
      "image/png": "[encoded data removed]",
      "text/plain": [
       "<Figure size 432x288 with 1 Axes>"
      ]
     },
     "metadata": {
      "needs_background": "light"
     },
     "output_type": "display_data"
    }
   ],
   "source": [
    "col=['Years_Of_Experience', 'dp_score(percentage)','npv', 'consultation_fee']\n",
    "for c in col:\n",
    "    plt.figure()\n",
    "    sns.boxplot(y=c, data=df)"
   ]
  },
  {
   "cell_type": "code",
   "execution_count": 21,
   "metadata": {},
   "outputs": [
    {
     "data": {
      "image/png": "[encoded data removed]",
      "text/plain": [
       "<Figure size 432x288 with 1 Axes>"
      ]
     },
     "metadata": {
      "needs_background": "light"
     },
     "output_type": "display_data"
    },
    {
     "data": {
      "image/png": "[encoded data removed]",
      "text/plain": [
       "<Figure size 432x288 with 1 Axes>"
      ]
     },
     "metadata": {
      "needs_background": "light"
     },
     "output_type": "display_data"
    },
    {
     "data": {
      "image/png": "[encoded data removed]",
      "text/plain": [
       "<Figure size 432x288 with 1 Axes>"
      ]
     },
     "metadata": {
      "needs_background": "light"
     },
     "output_type": "display_data"
    },
    {
     "data": {
      "image/png": "[encoded data removed]",
      "text/plain": [
       "<Figure size 432x288 with 1 Axes>"
      ]
     },
     "metadata": {
      "needs_background": "light"
     },
     "output_type": "display_data"
    }
   ],
   "source": [
    "col=['Years_Of_Experience', 'dp_score(percentage)','npv', 'consultation_fee']\n",
    "for c in col:\n",
    "  percentile25=df[c].quantile(0.25)\n",
    "  percentile75=df[c].quantile(0.75)\n",
    "  iqr=percentile75-percentile25\n",
    "  upper_limit=percentile75+(1.5*iqr)\n",
    "  lower_limit=percentile25-(1.5*iqr)\n",
    "  df=df[(df[c]<upper_limit) & (df[c]>lower_limit)]\n",
    "  plt.figure()\n",
    "  sns.boxplot(y=c, data=df)"
   ]
  },
  {
   "cell_type": "code",
   "execution_count": 22,
   "metadata": {},
   "outputs": [
    {
     "data": {
      "text/plain": [
       "(7033, 9)"
      ]
     },
     "execution_count": 22,
     "metadata": {},
     "output_type": "execute_result"
    }
   ],
   "source": [
    "df.shape"
   ]
  },
  {
   "cell_type": "markdown",
   "metadata": {},
   "source": [
    "# Dropping Unnecessary Columns"
   ]
  },
  {
   "cell_type": "code",
   "execution_count": 23,
   "metadata": {},
   "outputs": [],
   "source": [
    "df.drop(columns=['Name'], inplace=True)"
   ]
  },
  {
   "cell_type": "code",
   "execution_count": 24,
   "metadata": {},
   "outputs": [
    {
     "data": {
      "text/html": [
       "<div>\n",
       "<style scoped>\n",
       "    .dataframe tbody tr th:only-of-type {\n",
       "        vertical-align: middle;\n",
       "    }\n",
       "\n",
       "    .dataframe tbody tr th {\n",
       "        vertical-align: top;\n",
       "    }\n",
       "\n",
       "    .dataframe thead th {\n",
       "        text-align: right;\n",
       "    }\n",
       "</style>\n",
       "<table border=\"1\" class=\"dataframe\">\n",
       "  <thead>\n",
       "    <tr style=\"text-align: right;\">\n",
       "      <th></th>\n",
       "      <th>Speciality_of_doctor</th>\n",
       "      <th>Degree</th>\n",
       "      <th>Years_Of_Experience</th>\n",
       "      <th>Location</th>\n",
       "      <th>City</th>\n",
       "      <th>dp_score(percentage)</th>\n",
       "      <th>npv</th>\n",
       "      <th>consultation_fee</th>\n",
       "    </tr>\n",
       "  </thead>\n",
       "  <tbody>\n",
       "    <tr>\n",
       "      <th>0</th>\n",
       "      <td>Ophthalmologist</td>\n",
       "      <td>MBBS, MS - General Surgery</td>\n",
       "      <td>28.0</td>\n",
       "      <td>HBR Layout</td>\n",
       "      <td>Bangalore</td>\n",
       "      <td>94</td>\n",
       "      <td>138</td>\n",
       "      <td>700</td>\n",
       "    </tr>\n",
       "    <tr>\n",
       "      <th>1</th>\n",
       "      <td>Ophthalmologist</td>\n",
       "      <td>MBBS, DNB - General Surgery</td>\n",
       "      <td>10.0</td>\n",
       "      <td>HSR Layout</td>\n",
       "      <td>Bangalore</td>\n",
       "      <td>72</td>\n",
       "      <td>18</td>\n",
       "      <td>499</td>\n",
       "    </tr>\n",
       "    <tr>\n",
       "      <th>2</th>\n",
       "      <td>Ophthalmologist</td>\n",
       "      <td>MBBS, MS - General Surgery</td>\n",
       "      <td>24.0</td>\n",
       "      <td>Whitefield</td>\n",
       "      <td>Bangalore</td>\n",
       "      <td>0</td>\n",
       "      <td>0</td>\n",
       "      <td>500</td>\n",
       "    </tr>\n",
       "    <tr>\n",
       "      <th>3</th>\n",
       "      <td>Ophthalmologist</td>\n",
       "      <td>MS - General Surgery, MBBS</td>\n",
       "      <td>27.0</td>\n",
       "      <td>HSR Layout</td>\n",
       "      <td>Bangalore</td>\n",
       "      <td>92</td>\n",
       "      <td>26</td>\n",
       "      <td>599</td>\n",
       "    </tr>\n",
       "    <tr>\n",
       "      <th>5</th>\n",
       "      <td>Ophthalmologist</td>\n",
       "      <td>MBBS, MS - General Surgery</td>\n",
       "      <td>23.0</td>\n",
       "      <td>Hebbal</td>\n",
       "      <td>Bangalore</td>\n",
       "      <td>90</td>\n",
       "      <td>20</td>\n",
       "      <td>900</td>\n",
       "    </tr>\n",
       "  </tbody>\n",
       "</table>\n",
       "</div>"
      ],
      "text/plain": [
       "  Speciality_of_doctor                       Degree  Years_Of_Experience  \\\n",
       "0      Ophthalmologist   MBBS, MS - General Surgery                 28.0   \n",
       "1      Ophthalmologist  MBBS, DNB - General Surgery                 10.0   \n",
       "2      Ophthalmologist   MBBS, MS - General Surgery                 24.0   \n",
       "3      Ophthalmologist   MS - General Surgery, MBBS                 27.0   \n",
       "5      Ophthalmologist   MBBS, MS - General Surgery                 23.0   \n",
       "\n",
       "     Location        City  dp_score(percentage)  npv  consultation_fee  \n",
       "0  HBR Layout   Bangalore                    94  138               700  \n",
       "1  HSR Layout   Bangalore                    72   18               499  \n",
       "2  Whitefield   Bangalore                     0    0               500  \n",
       "3  HSR Layout   Bangalore                    92   26               599  \n",
       "5      Hebbal   Bangalore                    90   20               900  "
      ]
     },
     "execution_count": 24,
     "metadata": {},
     "output_type": "execute_result"
    }
   ],
   "source": [
    "df.head()"
   ]
  },
  {
   "cell_type": "markdown",
   "metadata": {},
   "source": [
    "# Label Encoding"
   ]
  },
  {
   "cell_type": "code",
   "execution_count": 25,
   "metadata": {},
   "outputs": [],
   "source": [
    "from sklearn.preprocessing import LabelEncoder"
   ]
  },
  {
   "cell_type": "code",
   "execution_count": 26,
   "metadata": {},
   "outputs": [],
   "source": [
    "le=LabelEncoder()"
   ]
  },
  {
   "cell_type": "code",
   "execution_count": 27,
   "metadata": {},
   "outputs": [
    {
     "data": {
      "text/html": [
       "<div>\n",
       "<style scoped>\n",
       "    .dataframe tbody tr th:only-of-type {\n",
       "        vertical-align: middle;\n",
       "    }\n",
       "\n",
       "    .dataframe tbody tr th {\n",
       "        vertical-align: top;\n",
       "    }\n",
       "\n",
       "    .dataframe thead th {\n",
       "        text-align: right;\n",
       "    }\n",
       "</style>\n",
       "<table border=\"1\" class=\"dataframe\">\n",
       "  <thead>\n",
       "    <tr style=\"text-align: right;\">\n",
       "      <th></th>\n",
       "      <th>Speciality_of_doctor</th>\n",
       "      <th>Degree</th>\n",
       "      <th>Years_Of_Experience</th>\n",
       "      <th>Location</th>\n",
       "      <th>City</th>\n",
       "      <th>dp_score(percentage)</th>\n",
       "      <th>npv</th>\n",
       "      <th>consultation_fee</th>\n",
       "    </tr>\n",
       "  </thead>\n",
       "  <tbody>\n",
       "    <tr>\n",
       "      <th>0</th>\n",
       "      <td>Ophthalmologist</td>\n",
       "      <td>MBBS, MS - General Surgery</td>\n",
       "      <td>28.0</td>\n",
       "      <td>HBR Layout</td>\n",
       "      <td>Bangalore</td>\n",
       "      <td>94</td>\n",
       "      <td>138</td>\n",
       "      <td>700</td>\n",
       "    </tr>\n",
       "    <tr>\n",
       "      <th>1</th>\n",
       "      <td>Ophthalmologist</td>\n",
       "      <td>MBBS, DNB - General Surgery</td>\n",
       "      <td>10.0</td>\n",
       "      <td>HSR Layout</td>\n",
       "      <td>Bangalore</td>\n",
       "      <td>72</td>\n",
       "      <td>18</td>\n",
       "      <td>499</td>\n",
       "    </tr>\n",
       "    <tr>\n",
       "      <th>2</th>\n",
       "      <td>Ophthalmologist</td>\n",
       "      <td>MBBS, MS - General Surgery</td>\n",
       "      <td>24.0</td>\n",
       "      <td>Whitefield</td>\n",
       "      <td>Bangalore</td>\n",
       "      <td>0</td>\n",
       "      <td>0</td>\n",
       "      <td>500</td>\n",
       "    </tr>\n",
       "    <tr>\n",
       "      <th>3</th>\n",
       "      <td>Ophthalmologist</td>\n",
       "      <td>MS - General Surgery, MBBS</td>\n",
       "      <td>27.0</td>\n",
       "      <td>HSR Layout</td>\n",
       "      <td>Bangalore</td>\n",
       "      <td>92</td>\n",
       "      <td>26</td>\n",
       "      <td>599</td>\n",
       "    </tr>\n",
       "    <tr>\n",
       "      <th>5</th>\n",
       "      <td>Ophthalmologist</td>\n",
       "      <td>MBBS, MS - General Surgery</td>\n",
       "      <td>23.0</td>\n",
       "      <td>Hebbal</td>\n",
       "      <td>Bangalore</td>\n",
       "      <td>90</td>\n",
       "      <td>20</td>\n",
       "      <td>900</td>\n",
       "    </tr>\n",
       "  </tbody>\n",
       "</table>\n",
       "</div>"
      ],
      "text/plain": [
       "  Speciality_of_doctor                       Degree  Years_Of_Experience  \\\n",
       "0      Ophthalmologist   MBBS, MS - General Surgery                 28.0   \n",
       "1      Ophthalmologist  MBBS, DNB - General Surgery                 10.0   \n",
       "2      Ophthalmologist   MBBS, MS - General Surgery                 24.0   \n",
       "3      Ophthalmologist   MS - General Surgery, MBBS                 27.0   \n",
       "5      Ophthalmologist   MBBS, MS - General Surgery                 23.0   \n",
       "\n",
       "     Location        City  dp_score(percentage)  npv  consultation_fee  \n",
       "0  HBR Layout   Bangalore                    94  138               700  \n",
       "1  HSR Layout   Bangalore                    72   18               499  \n",
       "2  Whitefield   Bangalore                     0    0               500  \n",
       "3  HSR Layout   Bangalore                    92   26               599  \n",
       "5      Hebbal   Bangalore                    90   20               900  "
      ]
     },
     "execution_count": 27,
     "metadata": {},
     "output_type": "execute_result"
    }
   ],
   "source": [
    "df.head()"
   ]
  },
  {
   "cell_type": "code",
   "execution_count": 28,
   "metadata": {},
   "outputs": [],
   "source": [
    "col=['Degree','Location']\n",
    "for c in col:\n",
    "  df[c]=le.fit_transform(df[c])"
   ]
  },
  {
   "cell_type": "markdown",
   "metadata": {},
   "source": [
    "# One Hot Encoding"
   ]
  },
  {
   "cell_type": "code",
   "execution_count": 29,
   "metadata": {},
   "outputs": [
    {
     "data": {
      "text/html": [
       "<div>\n",
       "<style scoped>\n",
       "    .dataframe tbody tr th:only-of-type {\n",
       "        vertical-align: middle;\n",
       "    }\n",
       "\n",
       "    .dataframe tbody tr th {\n",
       "        vertical-align: top;\n",
       "    }\n",
       "\n",
       "    .dataframe thead th {\n",
       "        text-align: right;\n",
       "    }\n",
       "</style>\n",
       "<table border=\"1\" class=\"dataframe\">\n",
       "  <thead>\n",
       "    <tr style=\"text-align: right;\">\n",
       "      <th></th>\n",
       "      <th>Speciality_of_doctor</th>\n",
       "      <th>Degree</th>\n",
       "      <th>Years_Of_Experience</th>\n",
       "      <th>Location</th>\n",
       "      <th>City</th>\n",
       "      <th>dp_score(percentage)</th>\n",
       "      <th>npv</th>\n",
       "      <th>consultation_fee</th>\n",
       "    </tr>\n",
       "  </thead>\n",
       "  <tbody>\n",
       "    <tr>\n",
       "      <th>0</th>\n",
       "      <td>Ophthalmologist</td>\n",
       "      <td>733</td>\n",
       "      <td>28.0</td>\n",
       "      <td>202</td>\n",
       "      <td>Bangalore</td>\n",
       "      <td>94</td>\n",
       "      <td>138</td>\n",
       "      <td>700</td>\n",
       "    </tr>\n",
       "    <tr>\n",
       "      <th>1</th>\n",
       "      <td>Ophthalmologist</td>\n",
       "      <td>386</td>\n",
       "      <td>10.0</td>\n",
       "      <td>204</td>\n",
       "      <td>Bangalore</td>\n",
       "      <td>72</td>\n",
       "      <td>18</td>\n",
       "      <td>499</td>\n",
       "    </tr>\n",
       "    <tr>\n",
       "      <th>2</th>\n",
       "      <td>Ophthalmologist</td>\n",
       "      <td>733</td>\n",
       "      <td>24.0</td>\n",
       "      <td>716</td>\n",
       "      <td>Bangalore</td>\n",
       "      <td>0</td>\n",
       "      <td>0</td>\n",
       "      <td>500</td>\n",
       "    </tr>\n",
       "    <tr>\n",
       "      <th>3</th>\n",
       "      <td>Ophthalmologist</td>\n",
       "      <td>995</td>\n",
       "      <td>27.0</td>\n",
       "      <td>204</td>\n",
       "      <td>Bangalore</td>\n",
       "      <td>92</td>\n",
       "      <td>26</td>\n",
       "      <td>599</td>\n",
       "    </tr>\n",
       "    <tr>\n",
       "      <th>5</th>\n",
       "      <td>Ophthalmologist</td>\n",
       "      <td>733</td>\n",
       "      <td>23.0</td>\n",
       "      <td>214</td>\n",
       "      <td>Bangalore</td>\n",
       "      <td>90</td>\n",
       "      <td>20</td>\n",
       "      <td>900</td>\n",
       "    </tr>\n",
       "  </tbody>\n",
       "</table>\n",
       "</div>"
      ],
      "text/plain": [
       "  Speciality_of_doctor  Degree  Years_Of_Experience  Location        City  \\\n",
       "0      Ophthalmologist     733                 28.0       202   Bangalore   \n",
       "1      Ophthalmologist     386                 10.0       204   Bangalore   \n",
       "2      Ophthalmologist     733                 24.0       716   Bangalore   \n",
       "3      Ophthalmologist     995                 27.0       204   Bangalore   \n",
       "5      Ophthalmologist     733                 23.0       214   Bangalore   \n",
       "\n",
       "   dp_score(percentage)  npv  consultation_fee  \n",
       "0                    94  138               700  \n",
       "1                    72   18               499  \n",
       "2                     0    0               500  \n",
       "3                    92   26               599  \n",
       "5                    90   20               900  "
      ]
     },
     "execution_count": 29,
     "metadata": {},
     "output_type": "execute_result"
    }
   ],
   "source": [
    "df.head()"
   ]
  },
  {
   "cell_type": "code",
   "execution_count": 30,
   "metadata": {},
   "outputs": [],
   "source": [
    "df3 = pd.get_dummies(df, columns = ['Speciality_of_doctor','City'])"
   ]
  },
  {
   "cell_type": "code",
   "execution_count": 31,
   "metadata": {},
   "outputs": [
    {
     "data": {
      "text/html": [
       "<div>\n",
       "<style scoped>\n",
       "    .dataframe tbody tr th:only-of-type {\n",
       "        vertical-align: middle;\n",
       "    }\n",
       "\n",
       "    .dataframe tbody tr th {\n",
       "        vertical-align: top;\n",
       "    }\n",
       "\n",
       "    .dataframe thead th {\n",
       "        text-align: right;\n",
       "    }\n",
       "</style>\n",
       "<table border=\"1\" class=\"dataframe\">\n",
       "  <thead>\n",
       "    <tr style=\"text-align: right;\">\n",
       "      <th></th>\n",
       "      <th>Degree</th>\n",
       "      <th>Years_Of_Experience</th>\n",
       "      <th>Location</th>\n",
       "      <th>dp_score(percentage)</th>\n",
       "      <th>npv</th>\n",
       "      <th>consultation_fee</th>\n",
       "      <th>Speciality_of_doctor_Cardiologist</th>\n",
       "      <th>Speciality_of_doctor_Dentist</th>\n",
       "      <th>Speciality_of_doctor_Dermatologist</th>\n",
       "      <th>Speciality_of_doctor_Dietitian</th>\n",
       "      <th>...</th>\n",
       "      <th>Speciality_of_doctor_Psychiatrist</th>\n",
       "      <th>Speciality_of_doctor_Pulmonologist</th>\n",
       "      <th>Speciality_of_doctor_Rheumatologists</th>\n",
       "      <th>Speciality_of_doctor_Urologist</th>\n",
       "      <th>City_ Bangalore</th>\n",
       "      <th>City_ Chennai</th>\n",
       "      <th>City_ Delhi</th>\n",
       "      <th>City_ Hyderabad</th>\n",
       "      <th>City_ Mumbai</th>\n",
       "      <th>City_ Pune</th>\n",
       "    </tr>\n",
       "  </thead>\n",
       "  <tbody>\n",
       "    <tr>\n",
       "      <th>0</th>\n",
       "      <td>733</td>\n",
       "      <td>28.0</td>\n",
       "      <td>202</td>\n",
       "      <td>94</td>\n",
       "      <td>138</td>\n",
       "      <td>700</td>\n",
       "      <td>0</td>\n",
       "      <td>0</td>\n",
       "      <td>0</td>\n",
       "      <td>0</td>\n",
       "      <td>...</td>\n",
       "      <td>0</td>\n",
       "      <td>0</td>\n",
       "      <td>0</td>\n",
       "      <td>0</td>\n",
       "      <td>1</td>\n",
       "      <td>0</td>\n",
       "      <td>0</td>\n",
       "      <td>0</td>\n",
       "      <td>0</td>\n",
       "      <td>0</td>\n",
       "    </tr>\n",
       "    <tr>\n",
       "      <th>1</th>\n",
       "      <td>386</td>\n",
       "      <td>10.0</td>\n",
       "      <td>204</td>\n",
       "      <td>72</td>\n",
       "      <td>18</td>\n",
       "      <td>499</td>\n",
       "      <td>0</td>\n",
       "      <td>0</td>\n",
       "      <td>0</td>\n",
       "      <td>0</td>\n",
       "      <td>...</td>\n",
       "      <td>0</td>\n",
       "      <td>0</td>\n",
       "      <td>0</td>\n",
       "      <td>0</td>\n",
       "      <td>1</td>\n",
       "      <td>0</td>\n",
       "      <td>0</td>\n",
       "      <td>0</td>\n",
       "      <td>0</td>\n",
       "      <td>0</td>\n",
       "    </tr>\n",
       "    <tr>\n",
       "      <th>2</th>\n",
       "      <td>733</td>\n",
       "      <td>24.0</td>\n",
       "      <td>716</td>\n",
       "      <td>0</td>\n",
       "      <td>0</td>\n",
       "      <td>500</td>\n",
       "      <td>0</td>\n",
       "      <td>0</td>\n",
       "      <td>0</td>\n",
       "      <td>0</td>\n",
       "      <td>...</td>\n",
       "      <td>0</td>\n",
       "      <td>0</td>\n",
       "      <td>0</td>\n",
       "      <td>0</td>\n",
       "      <td>1</td>\n",
       "      <td>0</td>\n",
       "      <td>0</td>\n",
       "      <td>0</td>\n",
       "      <td>0</td>\n",
       "      <td>0</td>\n",
       "    </tr>\n",
       "    <tr>\n",
       "      <th>3</th>\n",
       "      <td>995</td>\n",
       "      <td>27.0</td>\n",
       "      <td>204</td>\n",
       "      <td>92</td>\n",
       "      <td>26</td>\n",
       "      <td>599</td>\n",
       "      <td>0</td>\n",
       "      <td>0</td>\n",
       "      <td>0</td>\n",
       "      <td>0</td>\n",
       "      <td>...</td>\n",
       "      <td>0</td>\n",
       "      <td>0</td>\n",
       "      <td>0</td>\n",
       "      <td>0</td>\n",
       "      <td>1</td>\n",
       "      <td>0</td>\n",
       "      <td>0</td>\n",
       "      <td>0</td>\n",
       "      <td>0</td>\n",
       "      <td>0</td>\n",
       "    </tr>\n",
       "    <tr>\n",
       "      <th>5</th>\n",
       "      <td>733</td>\n",
       "      <td>23.0</td>\n",
       "      <td>214</td>\n",
       "      <td>90</td>\n",
       "      <td>20</td>\n",
       "      <td>900</td>\n",
       "      <td>0</td>\n",
       "      <td>0</td>\n",
       "      <td>0</td>\n",
       "      <td>0</td>\n",
       "      <td>...</td>\n",
       "      <td>0</td>\n",
       "      <td>0</td>\n",
       "      <td>0</td>\n",
       "      <td>0</td>\n",
       "      <td>1</td>\n",
       "      <td>0</td>\n",
       "      <td>0</td>\n",
       "      <td>0</td>\n",
       "      <td>0</td>\n",
       "      <td>0</td>\n",
       "    </tr>\n",
       "    <tr>\n",
       "      <th>...</th>\n",
       "      <td>...</td>\n",
       "      <td>...</td>\n",
       "      <td>...</td>\n",
       "      <td>...</td>\n",
       "      <td>...</td>\n",
       "      <td>...</td>\n",
       "      <td>...</td>\n",
       "      <td>...</td>\n",
       "      <td>...</td>\n",
       "      <td>...</td>\n",
       "      <td>...</td>\n",
       "      <td>...</td>\n",
       "      <td>...</td>\n",
       "      <td>...</td>\n",
       "      <td>...</td>\n",
       "      <td>...</td>\n",
       "      <td>...</td>\n",
       "      <td>...</td>\n",
       "      <td>...</td>\n",
       "      <td>...</td>\n",
       "      <td>...</td>\n",
       "    </tr>\n",
       "    <tr>\n",
       "      <th>9101</th>\n",
       "      <td>768</td>\n",
       "      <td>12.0</td>\n",
       "      <td>320</td>\n",
       "      <td>0</td>\n",
       "      <td>0</td>\n",
       "      <td>500</td>\n",
       "      <td>0</td>\n",
       "      <td>0</td>\n",
       "      <td>0</td>\n",
       "      <td>0</td>\n",
       "      <td>...</td>\n",
       "      <td>0</td>\n",
       "      <td>0</td>\n",
       "      <td>0</td>\n",
       "      <td>1</td>\n",
       "      <td>0</td>\n",
       "      <td>0</td>\n",
       "      <td>0</td>\n",
       "      <td>1</td>\n",
       "      <td>0</td>\n",
       "      <td>0</td>\n",
       "    </tr>\n",
       "    <tr>\n",
       "      <th>9102</th>\n",
       "      <td>768</td>\n",
       "      <td>4.0</td>\n",
       "      <td>394</td>\n",
       "      <td>0</td>\n",
       "      <td>0</td>\n",
       "      <td>600</td>\n",
       "      <td>0</td>\n",
       "      <td>0</td>\n",
       "      <td>0</td>\n",
       "      <td>0</td>\n",
       "      <td>...</td>\n",
       "      <td>0</td>\n",
       "      <td>0</td>\n",
       "      <td>0</td>\n",
       "      <td>1</td>\n",
       "      <td>0</td>\n",
       "      <td>0</td>\n",
       "      <td>0</td>\n",
       "      <td>1</td>\n",
       "      <td>0</td>\n",
       "      <td>0</td>\n",
       "    </tr>\n",
       "    <tr>\n",
       "      <th>9103</th>\n",
       "      <td>460</td>\n",
       "      <td>25.0</td>\n",
       "      <td>343</td>\n",
       "      <td>0</td>\n",
       "      <td>0</td>\n",
       "      <td>680</td>\n",
       "      <td>0</td>\n",
       "      <td>0</td>\n",
       "      <td>0</td>\n",
       "      <td>0</td>\n",
       "      <td>...</td>\n",
       "      <td>0</td>\n",
       "      <td>0</td>\n",
       "      <td>0</td>\n",
       "      <td>1</td>\n",
       "      <td>0</td>\n",
       "      <td>0</td>\n",
       "      <td>0</td>\n",
       "      <td>1</td>\n",
       "      <td>0</td>\n",
       "      <td>0</td>\n",
       "    </tr>\n",
       "    <tr>\n",
       "      <th>9104</th>\n",
       "      <td>768</td>\n",
       "      <td>11.0</td>\n",
       "      <td>220</td>\n",
       "      <td>0</td>\n",
       "      <td>0</td>\n",
       "      <td>700</td>\n",
       "      <td>0</td>\n",
       "      <td>0</td>\n",
       "      <td>0</td>\n",
       "      <td>0</td>\n",
       "      <td>...</td>\n",
       "      <td>0</td>\n",
       "      <td>0</td>\n",
       "      <td>0</td>\n",
       "      <td>1</td>\n",
       "      <td>0</td>\n",
       "      <td>0</td>\n",
       "      <td>0</td>\n",
       "      <td>1</td>\n",
       "      <td>0</td>\n",
       "      <td>0</td>\n",
       "    </tr>\n",
       "    <tr>\n",
       "      <th>9105</th>\n",
       "      <td>768</td>\n",
       "      <td>11.0</td>\n",
       "      <td>320</td>\n",
       "      <td>0</td>\n",
       "      <td>0</td>\n",
       "      <td>500</td>\n",
       "      <td>0</td>\n",
       "      <td>0</td>\n",
       "      <td>0</td>\n",
       "      <td>0</td>\n",
       "      <td>...</td>\n",
       "      <td>0</td>\n",
       "      <td>0</td>\n",
       "      <td>0</td>\n",
       "      <td>1</td>\n",
       "      <td>0</td>\n",
       "      <td>0</td>\n",
       "      <td>0</td>\n",
       "      <td>1</td>\n",
       "      <td>0</td>\n",
       "      <td>0</td>\n",
       "    </tr>\n",
       "  </tbody>\n",
       "</table>\n",
       "<p>7033 rows × 29 columns</p>\n",
       "</div>"
      ],
      "text/plain": [
       "      Degree  Years_Of_Experience  Location  dp_score(percentage)  npv  \\\n",
       "0        733                 28.0       202                    94  138   \n",
       "1        386                 10.0       204                    72   18   \n",
       "2        733                 24.0       716                     0    0   \n",
       "3        995                 27.0       204                    92   26   \n",
       "5        733                 23.0       214                    90   20   \n",
       "...      ...                  ...       ...                   ...  ...   \n",
       "9101     768                 12.0       320                     0    0   \n",
       "9102     768                  4.0       394                     0    0   \n",
       "9103     460                 25.0       343                     0    0   \n",
       "9104     768                 11.0       220                     0    0   \n",
       "9105     768                 11.0       320                     0    0   \n",
       "\n",
       "      consultation_fee  Speciality_of_doctor_Cardiologist  \\\n",
       "0                  700                                  0   \n",
       "1                  499                                  0   \n",
       "2                  500                                  0   \n",
       "3                  599                                  0   \n",
       "5                  900                                  0   \n",
       "...                ...                                ...   \n",
       "9101               500                                  0   \n",
       "9102               600                                  0   \n",
       "9103               680                                  0   \n",
       "9104               700                                  0   \n",
       "9105               500                                  0   \n",
       "\n",
       "      Speciality_of_doctor_Dentist  Speciality_of_doctor_Dermatologist  \\\n",
       "0                                0                                   0   \n",
       "1                                0                                   0   \n",
       "2                                0                                   0   \n",
       "3                                0                                   0   \n",
       "5                                0                                   0   \n",
       "...                            ...                                 ...   \n",
       "9101                             0                                   0   \n",
       "9102                             0                                   0   \n",
       "9103                             0                                   0   \n",
       "9104                             0                                   0   \n",
       "9105                             0                                   0   \n",
       "\n",
       "      Speciality_of_doctor_Dietitian  ...  Speciality_of_doctor_Psychiatrist  \\\n",
       "0                                  0  ...                                  0   \n",
       "1                                  0  ...                                  0   \n",
       "2                                  0  ...                                  0   \n",
       "3                                  0  ...                                  0   \n",
       "5                                  0  ...                                  0   \n",
       "...                              ...  ...                                ...   \n",
       "9101                               0  ...                                  0   \n",
       "9102                               0  ...                                  0   \n",
       "9103                               0  ...                                  0   \n",
       "9104                               0  ...                                  0   \n",
       "9105                               0  ...                                  0   \n",
       "\n",
       "      Speciality_of_doctor_Pulmonologist  \\\n",
       "0                                      0   \n",
       "1                                      0   \n",
       "2                                      0   \n",
       "3                                      0   \n",
       "5                                      0   \n",
       "...                                  ...   \n",
       "9101                                   0   \n",
       "9102                                   0   \n",
       "9103                                   0   \n",
       "9104                                   0   \n",
       "9105                                   0   \n",
       "\n",
       "      Speciality_of_doctor_Rheumatologists  Speciality_of_doctor_Urologist  \\\n",
       "0                                        0                               0   \n",
       "1                                        0                               0   \n",
       "2                                        0                               0   \n",
       "3                                        0                               0   \n",
       "5                                        0                               0   \n",
       "...                                    ...                             ...   \n",
       "9101                                     0                               1   \n",
       "9102                                     0                               1   \n",
       "9103                                     0                               1   \n",
       "9104                                     0                               1   \n",
       "9105                                     0                               1   \n",
       "\n",
       "      City_ Bangalore  City_ Chennai  City_ Delhi  City_ Hyderabad  \\\n",
       "0                   1              0            0                0   \n",
       "1                   1              0            0                0   \n",
       "2                   1              0            0                0   \n",
       "3                   1              0            0                0   \n",
       "5                   1              0            0                0   \n",
       "...               ...            ...          ...              ...   \n",
       "9101                0              0            0                1   \n",
       "9102                0              0            0                1   \n",
       "9103                0              0            0                1   \n",
       "9104                0              0            0                1   \n",
       "9105                0              0            0                1   \n",
       "\n",
       "      City_ Mumbai  City_ Pune  \n",
       "0                0           0  \n",
       "1                0           0  \n",
       "2                0           0  \n",
       "3                0           0  \n",
       "5                0           0  \n",
       "...            ...         ...  \n",
       "9101             0           0  \n",
       "9102             0           0  \n",
       "9103             0           0  \n",
       "9104             0           0  \n",
       "9105             0           0  \n",
       "\n",
       "[7033 rows x 29 columns]"
      ]
     },
     "execution_count": 31,
     "metadata": {},
     "output_type": "execute_result"
    }
   ],
   "source": [
    "df3"
   ]
  },
  {
   "cell_type": "markdown",
   "metadata": {},
   "source": [
    "df3.drop(columns=['Speciality_of_doctor_Urologist','City_ Pune'], inplace=True)"
   ]
  },
  {
   "cell_type": "code",
   "execution_count": 32,
   "metadata": {},
   "outputs": [
    {
     "data": {
      "text/html": [
       "<div>\n",
       "<style scoped>\n",
       "    .dataframe tbody tr th:only-of-type {\n",
       "        vertical-align: middle;\n",
       "    }\n",
       "\n",
       "    .dataframe tbody tr th {\n",
       "        vertical-align: top;\n",
       "    }\n",
       "\n",
       "    .dataframe thead th {\n",
       "        text-align: right;\n",
       "    }\n",
       "</style>\n",
       "<table border=\"1\" class=\"dataframe\">\n",
       "  <thead>\n",
       "    <tr style=\"text-align: right;\">\n",
       "      <th></th>\n",
       "      <th>Degree</th>\n",
       "      <th>Years_Of_Experience</th>\n",
       "      <th>Location</th>\n",
       "      <th>dp_score(percentage)</th>\n",
       "      <th>npv</th>\n",
       "      <th>consultation_fee</th>\n",
       "      <th>Speciality_of_doctor_Cardiologist</th>\n",
       "      <th>Speciality_of_doctor_Dentist</th>\n",
       "      <th>Speciality_of_doctor_Dermatologist</th>\n",
       "      <th>Speciality_of_doctor_Dietitian</th>\n",
       "      <th>...</th>\n",
       "      <th>Speciality_of_doctor_Psychiatrist</th>\n",
       "      <th>Speciality_of_doctor_Pulmonologist</th>\n",
       "      <th>Speciality_of_doctor_Rheumatologists</th>\n",
       "      <th>Speciality_of_doctor_Urologist</th>\n",
       "      <th>City_ Bangalore</th>\n",
       "      <th>City_ Chennai</th>\n",
       "      <th>City_ Delhi</th>\n",
       "      <th>City_ Hyderabad</th>\n",
       "      <th>City_ Mumbai</th>\n",
       "      <th>City_ Pune</th>\n",
       "    </tr>\n",
       "  </thead>\n",
       "  <tbody>\n",
       "    <tr>\n",
       "      <th>0</th>\n",
       "      <td>733</td>\n",
       "      <td>28.0</td>\n",
       "      <td>202</td>\n",
       "      <td>94</td>\n",
       "      <td>138</td>\n",
       "      <td>700</td>\n",
       "      <td>0</td>\n",
       "      <td>0</td>\n",
       "      <td>0</td>\n",
       "      <td>0</td>\n",
       "      <td>...</td>\n",
       "      <td>0</td>\n",
       "      <td>0</td>\n",
       "      <td>0</td>\n",
       "      <td>0</td>\n",
       "      <td>1</td>\n",
       "      <td>0</td>\n",
       "      <td>0</td>\n",
       "      <td>0</td>\n",
       "      <td>0</td>\n",
       "      <td>0</td>\n",
       "    </tr>\n",
       "    <tr>\n",
       "      <th>1</th>\n",
       "      <td>386</td>\n",
       "      <td>10.0</td>\n",
       "      <td>204</td>\n",
       "      <td>72</td>\n",
       "      <td>18</td>\n",
       "      <td>499</td>\n",
       "      <td>0</td>\n",
       "      <td>0</td>\n",
       "      <td>0</td>\n",
       "      <td>0</td>\n",
       "      <td>...</td>\n",
       "      <td>0</td>\n",
       "      <td>0</td>\n",
       "      <td>0</td>\n",
       "      <td>0</td>\n",
       "      <td>1</td>\n",
       "      <td>0</td>\n",
       "      <td>0</td>\n",
       "      <td>0</td>\n",
       "      <td>0</td>\n",
       "      <td>0</td>\n",
       "    </tr>\n",
       "    <tr>\n",
       "      <th>2</th>\n",
       "      <td>733</td>\n",
       "      <td>24.0</td>\n",
       "      <td>716</td>\n",
       "      <td>0</td>\n",
       "      <td>0</td>\n",
       "      <td>500</td>\n",
       "      <td>0</td>\n",
       "      <td>0</td>\n",
       "      <td>0</td>\n",
       "      <td>0</td>\n",
       "      <td>...</td>\n",
       "      <td>0</td>\n",
       "      <td>0</td>\n",
       "      <td>0</td>\n",
       "      <td>0</td>\n",
       "      <td>1</td>\n",
       "      <td>0</td>\n",
       "      <td>0</td>\n",
       "      <td>0</td>\n",
       "      <td>0</td>\n",
       "      <td>0</td>\n",
       "    </tr>\n",
       "    <tr>\n",
       "      <th>3</th>\n",
       "      <td>995</td>\n",
       "      <td>27.0</td>\n",
       "      <td>204</td>\n",
       "      <td>92</td>\n",
       "      <td>26</td>\n",
       "      <td>599</td>\n",
       "      <td>0</td>\n",
       "      <td>0</td>\n",
       "      <td>0</td>\n",
       "      <td>0</td>\n",
       "      <td>...</td>\n",
       "      <td>0</td>\n",
       "      <td>0</td>\n",
       "      <td>0</td>\n",
       "      <td>0</td>\n",
       "      <td>1</td>\n",
       "      <td>0</td>\n",
       "      <td>0</td>\n",
       "      <td>0</td>\n",
       "      <td>0</td>\n",
       "      <td>0</td>\n",
       "    </tr>\n",
       "    <tr>\n",
       "      <th>5</th>\n",
       "      <td>733</td>\n",
       "      <td>23.0</td>\n",
       "      <td>214</td>\n",
       "      <td>90</td>\n",
       "      <td>20</td>\n",
       "      <td>900</td>\n",
       "      <td>0</td>\n",
       "      <td>0</td>\n",
       "      <td>0</td>\n",
       "      <td>0</td>\n",
       "      <td>...</td>\n",
       "      <td>0</td>\n",
       "      <td>0</td>\n",
       "      <td>0</td>\n",
       "      <td>0</td>\n",
       "      <td>1</td>\n",
       "      <td>0</td>\n",
       "      <td>0</td>\n",
       "      <td>0</td>\n",
       "      <td>0</td>\n",
       "      <td>0</td>\n",
       "    </tr>\n",
       "  </tbody>\n",
       "</table>\n",
       "<p>5 rows × 29 columns</p>\n",
       "</div>"
      ],
      "text/plain": [
       "   Degree  Years_Of_Experience  Location  dp_score(percentage)  npv  \\\n",
       "0     733                 28.0       202                    94  138   \n",
       "1     386                 10.0       204                    72   18   \n",
       "2     733                 24.0       716                     0    0   \n",
       "3     995                 27.0       204                    92   26   \n",
       "5     733                 23.0       214                    90   20   \n",
       "\n",
       "   consultation_fee  Speciality_of_doctor_Cardiologist  \\\n",
       "0               700                                  0   \n",
       "1               499                                  0   \n",
       "2               500                                  0   \n",
       "3               599                                  0   \n",
       "5               900                                  0   \n",
       "\n",
       "   Speciality_of_doctor_Dentist  Speciality_of_doctor_Dermatologist  \\\n",
       "0                             0                                   0   \n",
       "1                             0                                   0   \n",
       "2                             0                                   0   \n",
       "3                             0                                   0   \n",
       "5                             0                                   0   \n",
       "\n",
       "   Speciality_of_doctor_Dietitian  ...  Speciality_of_doctor_Psychiatrist  \\\n",
       "0                               0  ...                                  0   \n",
       "1                               0  ...                                  0   \n",
       "2                               0  ...                                  0   \n",
       "3                               0  ...                                  0   \n",
       "5                               0  ...                                  0   \n",
       "\n",
       "   Speciality_of_doctor_Pulmonologist  Speciality_of_doctor_Rheumatologists  \\\n",
       "0                                   0                                     0   \n",
       "1                                   0                                     0   \n",
       "2                                   0                                     0   \n",
       "3                                   0                                     0   \n",
       "5                                   0                                     0   \n",
       "\n",
       "   Speciality_of_doctor_Urologist  City_ Bangalore  City_ Chennai  \\\n",
       "0                               0                1              0   \n",
       "1                               0                1              0   \n",
       "2                               0                1              0   \n",
       "3                               0                1              0   \n",
       "5                               0                1              0   \n",
       "\n",
       "   City_ Delhi  City_ Hyderabad  City_ Mumbai  City_ Pune  \n",
       "0            0                0             0           0  \n",
       "1            0                0             0           0  \n",
       "2            0                0             0           0  \n",
       "3            0                0             0           0  \n",
       "5            0                0             0           0  \n",
       "\n",
       "[5 rows x 29 columns]"
      ]
     },
     "execution_count": 32,
     "metadata": {},
     "output_type": "execute_result"
    }
   ],
   "source": [
    "df3.head()"
   ]
  },
  {
   "cell_type": "markdown",
   "metadata": {},
   "source": [
    "# Extract the independent and dependent variables"
   ]
  },
  {
   "cell_type": "code",
   "execution_count": 33,
   "metadata": {},
   "outputs": [],
   "source": [
    "X=df3.drop(['consultation_fee'], axis=1).values"
   ]
  },
  {
   "cell_type": "code",
   "execution_count": 34,
   "metadata": {},
   "outputs": [],
   "source": [
    "Y=df3['consultation_fee'].values"
   ]
  },
  {
   "cell_type": "markdown",
   "metadata": {},
   "source": [
    "# Split the dataset into training and testing"
   ]
  },
  {
   "cell_type": "code",
   "execution_count": 35,
   "metadata": {},
   "outputs": [],
   "source": [
    "from sklearn.model_selection import train_test_split"
   ]
  },
  {
   "cell_type": "code",
   "execution_count": 36,
   "metadata": {},
   "outputs": [],
   "source": [
    "X_train, X_test, Y_train, Y_test=train_test_split(X,Y,test_size=0.3,random_state=4)"
   ]
  },
  {
   "cell_type": "markdown",
   "metadata": {},
   "source": [
    "# Use standardization for feature scaling"
   ]
  },
  {
   "cell_type": "code",
   "execution_count": 37,
   "metadata": {},
   "outputs": [],
   "source": [
    "from sklearn.preprocessing import StandardScaler"
   ]
  },
  {
   "cell_type": "code",
   "execution_count": 38,
   "metadata": {},
   "outputs": [],
   "source": [
    "sc=StandardScaler()"
   ]
  },
  {
   "cell_type": "code",
   "execution_count": 39,
   "metadata": {},
   "outputs": [],
   "source": [
    "X_train=sc.fit_transform(X_train)"
   ]
  },
  {
   "cell_type": "code",
   "execution_count": 40,
   "metadata": {},
   "outputs": [
    {
     "data": {
      "text/plain": [
       "array([[-0.09425438, -0.43353391, -1.31856845, ..., -0.45259896,\n",
       "        -0.3945045 , -0.37958599],\n",
       "       [ 1.08831648,  0.83544014,  1.75464825, ..., -0.45259896,\n",
       "        -0.3945045 , -0.37958599],\n",
       "       [ 0.15519416,  0.07405571, -0.23992053, ..., -0.45259896,\n",
       "        -0.3945045 ,  2.6344492 ],\n",
       "       ...,\n",
       "       [-0.47612622,  0.58164533, -0.09114151, ..., -0.45259896,\n",
       "        -0.3945045 , -0.37958599],\n",
       "       [ 0.36768736,  2.10441419,  1.19672691, ..., -0.45259896,\n",
       "        -0.3945045 , -0.37958599],\n",
       "       [-1.2121534 , -0.81422613, -1.53243829, ...,  2.20946157,\n",
       "        -0.3945045 , -0.37958599]])"
      ]
     },
     "execution_count": 40,
     "metadata": {},
     "output_type": "execute_result"
    }
   ],
   "source": [
    "X_train"
   ]
  },
  {
   "cell_type": "code",
   "execution_count": 41,
   "metadata": {},
   "outputs": [],
   "source": [
    "X_test=sc.transform(X_test)"
   ]
  },
  {
   "cell_type": "markdown",
   "metadata": {},
   "source": [
    "# Perform Linear Regression"
   ]
  },
  {
   "cell_type": "code",
   "execution_count": 42,
   "metadata": {},
   "outputs": [],
   "source": [
    "from sklearn.linear_model import LinearRegression"
   ]
  },
  {
   "cell_type": "code",
   "execution_count": 43,
   "metadata": {},
   "outputs": [],
   "source": [
    "reg=LinearRegression()"
   ]
  },
  {
   "cell_type": "code",
   "execution_count": 44,
   "metadata": {},
   "outputs": [
    {
     "data": {
      "text/plain": [
       "LinearRegression()"
      ]
     },
     "execution_count": 44,
     "metadata": {},
     "output_type": "execute_result"
    }
   ],
   "source": [
    "reg.fit(X_train, Y_train)"
   ]
  },
  {
   "cell_type": "code",
   "execution_count": 45,
   "metadata": {},
   "outputs": [
    {
     "data": {
      "text/plain": [
       "628.0064840110989"
      ]
     },
     "execution_count": 45,
     "metadata": {},
     "output_type": "execute_result"
    }
   ],
   "source": [
    "reg.intercept_"
   ]
  },
  {
   "cell_type": "code",
   "execution_count": 46,
   "metadata": {},
   "outputs": [
    {
     "data": {
      "text/plain": [
       "array([ 6.79325428e+00,  5.16026979e+01,  8.95004380e-01, -5.35983189e+00,\n",
       "       -3.06487446e+00, -2.82986342e+14, -6.49021963e+14, -3.60911000e+14,\n",
       "       -2.28537285e+14, -2.50744748e+14, -5.37640635e+14, -2.85181271e+14,\n",
       "       -2.04704560e+14, -1.96058130e+14, -3.56517048e+14, -4.23206604e+14,\n",
       "       -4.06097045e+14, -3.50358157e+14, -2.17967683e+14, -2.04704560e+14,\n",
       "       -1.25020636e+14, -2.22840356e+14,  1.72476652e+15,  1.40041360e+15,\n",
       "        1.39347436e+15,  1.46470815e+15,  1.33106956e+15,  1.29366166e+15])"
      ]
     },
     "execution_count": 46,
     "metadata": {},
     "output_type": "execute_result"
    }
   ],
   "source": [
    "reg.coef_"
   ]
  },
  {
   "cell_type": "code",
   "execution_count": 47,
   "metadata": {},
   "outputs": [],
   "source": [
    "Y_pred=reg.predict(X_test)"
   ]
  },
  {
   "cell_type": "code",
   "execution_count": 48,
   "metadata": {},
   "outputs": [
    {
     "data": {
      "text/plain": [
       "array([644.25648401, 928.00648401, 603.38148401, ..., 386.25648401,\n",
       "       626.00648401, 401.38148401])"
      ]
     },
     "execution_count": 48,
     "metadata": {},
     "output_type": "execute_result"
    }
   ],
   "source": [
    "Y_pred"
   ]
  },
  {
   "cell_type": "code",
   "execution_count": 49,
   "metadata": {},
   "outputs": [
    {
     "data": {
      "text/plain": [
       "array([ 600,  750,  500, ...,  300, 1000,  300], dtype=int64)"
      ]
     },
     "execution_count": 49,
     "metadata": {},
     "output_type": "execute_result"
    }
   ],
   "source": [
    "Y_test"
   ]
  },
  {
   "cell_type": "markdown",
   "metadata": {},
   "source": [
    "# Evaluate the model using MSE, RMSE and R square"
   ]
  },
  {
   "cell_type": "code",
   "execution_count": 50,
   "metadata": {},
   "outputs": [],
   "source": [
    "from sklearn import metrics"
   ]
  },
  {
   "cell_type": "code",
   "execution_count": 51,
   "metadata": {},
   "outputs": [],
   "source": [
    "MSE=metrics.mean_squared_error(Y_test, Y_pred)"
   ]
  },
  {
   "cell_type": "code",
   "execution_count": 52,
   "metadata": {},
   "outputs": [],
   "source": [
    "RMSE=np.sqrt(MSE)"
   ]
  },
  {
   "cell_type": "code",
   "execution_count": 53,
   "metadata": {},
   "outputs": [
    {
     "data": {
      "text/plain": [
       "201.42297433927857"
      ]
     },
     "execution_count": 53,
     "metadata": {},
     "output_type": "execute_result"
    }
   ],
   "source": [
    "RMSE"
   ]
  },
  {
   "cell_type": "code",
   "execution_count": 54,
   "metadata": {},
   "outputs": [],
   "source": [
    "R2=metrics.r2_score(Y_test,Y_pred)"
   ]
  },
  {
   "cell_type": "code",
   "execution_count": 55,
   "metadata": {},
   "outputs": [
    {
     "data": {
      "text/plain": [
       "0.48357350005816313"
      ]
     },
     "execution_count": 55,
     "metadata": {},
     "output_type": "execute_result"
    }
   ],
   "source": [
    "R2"
   ]
  },
  {
   "cell_type": "code",
   "execution_count": null,
   "metadata": {},
   "outputs": [],
   "source": []
  },
  {
   "cell_type": "code",
   "execution_count": null,
   "metadata": {},
   "outputs": [],
   "source": []
  },
  {
   "cell_type": "code",
   "execution_count": null,
   "metadata": {},
   "outputs": [],
   "source": []
  },
  {
   "cell_type": "code",
   "execution_count": null,
   "metadata": {},
   "outputs": [],
   "source": []
  },
  {
   "cell_type": "code",
   "execution_count": null,
   "metadata": {},
   "outputs": [],
   "source": []
  },
  {
   "cell_type": "code",
   "execution_count": null,
   "metadata": {},
   "outputs": [],
   "source": []
  },
  {
   "cell_type": "code",
   "execution_count": null,
   "metadata": {},
   "outputs": [],
   "source": []
  }
 ],
 "metadata": {
  "kernelspec": {
   "display_name": "Python 3 (ipykernel)",
   "language": "python",
   "name": "python3"
  },
  "language_info": {
   "codemirror_mode": {
    "name": "ipython",
    "version": 3
   },
   "file_extension": ".py",
   "mimetype": "text/x-python",
   "name": "python",
   "nbconvert_exporter": "python",
   "pygments_lexer": "ipython3",
   "version": "3.9.12"
  },
  "vscode": {
   "interpreter": {
    "hash": "7de1a3ed9fd00aacc2c4f5aa164d9f8ac94aaa32149f0dd8a094347537fb7058"
   }
  }
 },
 "nbformat": 4,
 "nbformat_minor": 2
}
